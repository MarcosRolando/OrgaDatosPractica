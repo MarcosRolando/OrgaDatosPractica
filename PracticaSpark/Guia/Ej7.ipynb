{
 "cells": [
  {
   "cell_type": "markdown",
   "metadata": {
    "collapsed": true,
    "pycharm": {
     "name": "#%% md\n"
    }
   },
   "source": [
    "7) Una red social almacena el contenido de los chats entre sus usuarios en un\n",
    "RDD que tiene registros con el siguiente formato: (chat_id, user_id, nickname, text).\n",
    "Queremos saber cuál es el usuario (user_id) que mas preguntas hace en sus chats,\n",
    "contabilizamos una pregunta por cada caracter “?” que aparezca en el campo text.\n",
    "Programar en Spark un programa que identifique al usuario preguntón."
   ]
  },
  {
   "cell_type": "code",
   "execution_count": 6,
   "outputs": [
    {
     "data": {
      "text/plain": "19"
     },
     "execution_count": 6,
     "metadata": {},
     "output_type": "execute_result"
    }
   ],
   "source": [
    "import pyspark as ps\n",
    "import pandas as pd\n",
    "\n",
    "# create the Spark Session\n",
    "spark = ps.sql.SparkSession.builder.getOrCreate()\n",
    "# create the Spark Context\n",
    "sc = spark.sparkContext\n",
    "\n",
    "aux = sc.textFile('/home/marcos/PycharmProjects/practicaSpark/Ej7.csv')\n",
    "chatsRdd = aux.map(lambda x: x.split(\",\"))\n",
    "chatsRdd = chatsRdd.map(lambda x: (pd.to_numeric(x[0], 'coerce'),\n",
    "                                    pd.to_numeric(x[1], 'coerce'), x[2], x[3]))\n",
    "\n",
    "chatsRdd.map(lambda x: (x[1], x[3].count('?'))).reduceByKey(lambda x,y: x + y) \\\n",
    "        .reduce(lambda x,y: x if (x[1] > y[1]) else y)[0]"
   ],
   "metadata": {
    "collapsed": false,
    "pycharm": {
     "name": "#%%\n"
    }
   }
  }
 ],
 "metadata": {
  "kernelspec": {
   "display_name": "Python 3",
   "language": "python",
   "name": "python3"
  },
  "language_info": {
   "codemirror_mode": {
    "name": "ipython",
    "version": 2
   },
   "file_extension": ".py",
   "mimetype": "text/x-python",
   "name": "python",
   "nbconvert_exporter": "python",
   "pygments_lexer": "ipython2",
   "version": "2.7.6"
  }
 },
 "nbformat": 4,
 "nbformat_minor": 0
}