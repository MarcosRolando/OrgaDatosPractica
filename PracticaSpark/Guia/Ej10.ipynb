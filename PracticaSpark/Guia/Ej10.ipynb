{
 "cells": [
  {
   "cell_type": "markdown",
   "metadata": {
    "collapsed": true,
    "pycharm": {
     "name": "#%% md\n"
    }
   },
   "source": [
    "10- A partir de la plataforma online (e-shop) de los países en los que opera,\n",
    "Nintendo tiene información de ventas de videojuegos diarias digitales por país\n",
    "en el siguiente RDD: (id_videojuego, codigo_pais, fecha, visitas_diarias, total_ventas_diarias).\n",
    "Por otro lado se tienen otro RDD que tiene información de todos los videojuegos\n",
    "que se venden en su plataforma con el siguiente formato (id_videojuego, titulo, rating_pegi, rating_esbr).\n",
    "Tener en cuenta que un mismo videojuego se puede vender en distintos países y\n",
    "esos nos permitirá obtener métricas a nivel global. Con esta información escribir\n",
    "un programa en pySpark que permita:\n",
    "\n",
    "a) Obtener el videojuego con más ventas digitales\n",
    "globales (es decir en todos los países) en un RDD con el siguiente formato:\n",
    "(id_videojuego, titulo, total), siendo total la cantidad total de ventas digitales globales"
   ]
  },
  {
   "cell_type": "code",
   "execution_count": 7,
   "outputs": [
    {
     "data": {
      "text/plain": "(10, 'hkdmtoyh', 115)"
     },
     "execution_count": 7,
     "metadata": {},
     "output_type": "execute_result"
    }
   ],
   "source": [
    "import pyspark as ps\n",
    "import pandas as pd\n",
    "\n",
    "# create the Spark Session\n",
    "spark = ps.sql.SparkSession.builder.getOrCreate()\n",
    "# create the Spark Context\n",
    "sc = spark.sparkContext\n",
    "\n",
    "aux = sc.textFile('/home/marcos/PycharmProjects/PracticaSpark/Guia/Ej10a.csv')\n",
    "dailySales = aux.map(lambda x: x.split(\",\"))\n",
    "dailySales = dailySales.map(lambda x: (pd.to_numeric(x[0], errors='coerce'), pd.to_numeric(x[1], errors='coerce'),\n",
    "                         pd.to_datetime(x[2], 'coerce', format='%Y-%m-%d'),\n",
    "                         pd.to_numeric(x[3], errors='coerce'), pd.to_numeric(x[4], errors='coerce'))).cache()\n",
    "\n",
    "aux = sc.textFile('/home/marcos/PycharmProjects/PracticaSpark/Guia/Ej10b.csv')\n",
    "gamesInfo = aux.map(lambda x: x.split(\",\"))\n",
    "gamesInfo = gamesInfo.map(lambda x: (pd.to_numeric(x[0], errors='coerce'), x[1],\n",
    "                         pd.to_numeric(x[2], 'coerce'), pd.to_numeric(x[3], errors='coerce'))).cache()\n",
    "\n",
    "salesByGame = dailySales.map(lambda x: (x[0], 1)).reduceByKey(lambda x,y: x + y)\n",
    "\n",
    "bestSeller = gamesInfo.map(lambda x: (x[0], x[1])).join(salesByGame).map(lambda x: (x[0], x[1][0], x[1][1])) \\\n",
    "        .reduce(lambda x,y: x if (x[2] > y[2]) else y)\n",
    "\n",
    "bestSeller"
   ],
   "metadata": {
    "collapsed": false,
    "pycharm": {
     "name": "#%%\n"
    }
   }
  },
  {
   "cell_type": "markdown",
   "source": [
    "b) Para el videojuego con mas ventas, obtener cual es el país para el cual se\n",
    "registra una mayor tasa de conversión (es decir, mayor total_ventas_diarias / visitas_diarias)"
   ],
   "metadata": {
    "collapsed": false
   }
  },
  {
   "cell_type": "code",
   "execution_count": 8,
   "outputs": [
    {
     "data": {
      "text/plain": "9"
     },
     "execution_count": 8,
     "metadata": {},
     "output_type": "execute_result"
    }
   ],
   "source": [
    "dailySales.filter(lambda x: x[0] == bestSeller[0]).map(lambda x: (x[1], (x[3], x[4]))) \\\n",
    "        .reduceByKey(lambda x,y: (x[0] + y[0], x[1] + y[1])).mapValues(lambda x: x[1]/x[0]) \\\n",
    "        .reduce(lambda x,y: x if (x[1] > y[1]) else y)[0]"
   ],
   "metadata": {
    "collapsed": false,
    "pycharm": {
     "name": "#%%\n"
    }
   }
  }
 ],
 "metadata": {
  "kernelspec": {
   "display_name": "Python 3",
   "language": "python",
   "name": "python3"
  },
  "language_info": {
   "codemirror_mode": {
    "name": "ipython",
    "version": 2
   },
   "file_extension": ".py",
   "mimetype": "text/x-python",
   "name": "python",
   "nbconvert_exporter": "python",
   "pygments_lexer": "ipython2",
   "version": "2.7.6"
  }
 },
 "nbformat": 4,
 "nbformat_minor": 0
}