{
 "cells": [
  {
   "cell_type": "markdown",
   "metadata": {
    "collapsed": true,
    "pycharm": {
     "name": "#%% md\n"
    }
   },
   "source": [
    "1- Se tiene un RDD con el registro de notas de los alumnos de la forma\n",
    "(padrón, materia, nota, fecha). Se pide resolver utilizando PySpark:\n",
    "\n",
    "a) Cuántos alumnos aprobaron al menos 1 materia en los últimos 2 años."
   ]
  },
  {
   "cell_type": "code",
   "execution_count": 139,
   "metadata": {
    "pycharm": {
     "name": "#%%\n"
    }
   },
   "outputs": [
    {
     "data": {
      "text/plain": "4"
     },
     "execution_count": 139,
     "metadata": {},
     "output_type": "execute_result"
    }
   ],
   "source": [
    "import pyspark as ps\n",
    "import pandas as pd\n",
    "\n",
    "# create the Spark Session\n",
    "spark = ps.sql.SparkSession.builder.getOrCreate()\n",
    "# create the Spark Context\n",
    "sc = spark.sparkContext\n",
    "\n",
    "strRdd = sc.textFile('/home/marcos/PycharmProjects/practicaSpark/Ej1.csv')\n",
    "rdd = strRdd.map(lambda x: x.split(\",\"))\n",
    "rdd = rdd.map(lambda x: (pd.to_numeric(x[0], 'coerce'), x[1], pd.to_numeric(x[2], 'coerce'),\n",
    "                         pd.to_datetime(x[3], 'coerce')))\n",
    "\n",
    "rdd.cache()\n",
    "\n",
    "passedExams = rdd.filter(lambda x: (x[2] >= 4) & (x[3].year >= 2018))\n",
    "passedExams.map(lambda x: x[0]).distinct().count()"
   ]
  },
  {
   "cell_type": "markdown",
   "source": [
    "b) Un RDD conteniendo el promedio de notas de cada alumno de la forma (padrón, promedio).\n"
   ],
   "metadata": {
    "collapsed": false,
    "pycharm": {
     "name": "#%% md\n"
    }
   }
  },
  {
   "cell_type": "code",
   "execution_count": 140,
   "outputs": [
    {
     "data": {
      "text/plain": "[(99862, 5.851851851851852),\n (102342, 4.785714285714286),\n (102323, 6.5),\n (100125, 4.421052631578948)]"
     },
     "execution_count": 140,
     "metadata": {},
     "output_type": "execute_result"
    }
   ],
   "source": [
    "averageScorePerStudent = rdd.map(lambda x: (x[0], (x[2], 1))).reduceByKey(lambda x,y: (x[0] + y[0], x[1] + y[1]))\n",
    "averageScorePerStudent = averageScorePerStudent.map(lambda x: (x[0], x[1][0]/x[1][1]))\n",
    "averageScorePerStudent.cache()\n",
    "averageScorePerStudent.collect()"
   ],
   "metadata": {
    "collapsed": false,
    "pycharm": {
     "name": "#%%\n"
    }
   }
  },
  {
   "cell_type": "markdown",
   "source": [
    "c) El nombre y apellido del alumno con mejor promedio. Para esto puede utilizarse\n",
    "un segundo RDD alumnos con registros (padron, nombre y apellido)."
   ],
   "metadata": {
    "collapsed": false
   }
  },
  {
   "cell_type": "code",
   "execution_count": 141,
   "outputs": [
    {
     "data": {
      "text/plain": "[(102323, ' Julio Cortazar')]"
     },
     "execution_count": 141,
     "metadata": {},
     "output_type": "execute_result"
    }
   ],
   "source": [
    "strRdd = sc.textFile('/home/marcos/PycharmProjects/practicaSpark/Ej1c.csv')\n",
    "studentsNames = strRdd.map(lambda x: x.split(\",\"))\n",
    "studentsNames = studentsNames.map(lambda x: (pd.to_numeric(x[0], 'coerce'), x[1]))\n",
    "\n",
    "bestStudentID = averageScorePerStudent.reduce(lambda x,y: x if (x[1] > y[1]) else y)\n",
    "studentsNames.filter(lambda x: x[0] == bestStudentID[0]).collect()"
   ],
   "metadata": {
    "collapsed": false,
    "pycharm": {
     "name": "#%%\n"
    }
   }
  }
 ],
 "metadata": {
  "kernelspec": {
   "display_name": "Python 3",
   "language": "python",
   "name": "python3"
  },
  "language_info": {
   "codemirror_mode": {
    "name": "ipython",
    "version": 3
   },
   "file_extension": ".py",
   "mimetype": "text/x-python",
   "name": "python",
   "nbconvert_exporter": "python",
   "pygments_lexer": "ipython3",
   "version": "3.8.3"
  }
 },
 "nbformat": 4,
 "nbformat_minor": 1
}