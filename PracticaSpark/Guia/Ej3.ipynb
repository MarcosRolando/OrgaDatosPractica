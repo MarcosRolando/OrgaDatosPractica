{
 "cells": [
  {
   "cell_type": "markdown",
   "metadata": {
    "collapsed": true,
    "pycharm": {
     "name": "#%% md\n"
    }
   },
   "source": [
    "3) Se tiene un RDD con información de vuelos programados con la forma\n",
    "(número de vuelo, código de aerolínea, código de aeropuerto de salida,\n",
    "código de aeropuerto de llegada, fecha de salida AAAAMMDD, hora de salida HH:MM,\n",
    "fecha de llegada AAAAMMDD, hora de llegada HH:MM). A su vez, se cuenta con el\n",
    "registro actualizado del estado de los vuelos que fueron ocurriendo, con la forma\n",
    "(número de vuelo, aerolínea, fecha de salida AAAAMMDD, hora de salida HH:MM,\n",
    "fecha de llegada AAAAMMDD, hora de llegada HH:MM, estado). En base al estado,\n",
    "podría contar con algún dato en blanco, por ejemplo si el vuelo fue cancelado\n",
    "no tendrá información de fechas y horas, si el vuelo se encuentra aún en curso,\n",
    "no contendrá información de la llegada. Se pide resolver utilizando PySpark:\n",
    "\n",
    "a) Cuál es el aeropuerto con mayor tránsito."
   ]
  },
  {
   "cell_type": "code",
   "execution_count": 96,
   "outputs": [
    {
     "data": {
      "text/plain": "'PRKT'"
     },
     "execution_count": 96,
     "metadata": {},
     "output_type": "execute_result"
    }
   ],
   "source": [
    "import pyspark as ps\n",
    "import pandas as pd\n",
    "\n",
    "# create the Spark Session\n",
    "spark = ps.sql.SparkSession.builder.getOrCreate()\n",
    "# create the Spark Context\n",
    "sc = spark.sparkContext\n",
    "\n",
    "aux = sc.textFile('/home/marcos/PycharmProjects/practicaSpark/Ej3a.csv')\n",
    "programmedFlights = aux.map(lambda x: x.split(\",\"))\n",
    "programmedFlights = programmedFlights.map(lambda x: (pd.to_numeric(x[0], 'coerce'), x[1], x[2],\n",
    "                         x[3], pd.to_datetime(x[4], 'coerce', format='%Y-%m-%d'), x[5],\n",
    "                                                     pd.to_datetime(x[6], 'coerce', format='%Y-%m-%d'),\n",
    "                                                     x[7])).cache()\n",
    "\n",
    "#no encontre una mejor forma, el diccionario no funca porque pyspark no pasa por referencia las globales\n",
    "leaveFlightsCount = programmedFlights.map(lambda x: (x[2], 1)).reduceByKey(lambda x,y: x + y)\n",
    "arrivalFlightsCount = programmedFlights.map(lambda x: (x[3], 1)).reduceByKey(lambda x,y: x + y)\n",
    "\n",
    "leaveFlightsCount.fullOuterJoin(arrivalFlightsCount).mapValues(lambda x: x[1] if (x[0] is None) else x[1] + x[0]) \\\n",
    "                .reduce(lambda x,y: x if (x[1] > y[1]) else y)[0]"
   ],
   "metadata": {
    "collapsed": false,
    "pycharm": {
     "name": "#%%\n"
    }
   }
  },
  {
   "cell_type": "markdown",
   "source": [
    "b) Cuál es la aerolínea con mayor cantidad de vuelos."
   ],
   "metadata": {
    "collapsed": false
   }
  },
  {
   "cell_type": "code",
   "execution_count": 97,
   "outputs": [
    {
     "data": {
      "text/plain": "'JA'"
     },
     "execution_count": 97,
     "metadata": {},
     "output_type": "execute_result"
    }
   ],
   "source": [
    "programmedFlights.map(lambda x: (x[1], 1)).reduceByKey(lambda x,y: x + y) \\\n",
    "                .reduce(lambda x,y: x if (x[1] > y[1]) else y)[0]"
   ],
   "metadata": {
    "collapsed": false,
    "pycharm": {
     "name": "#%%\n"
    }
   }
  },
  {
   "cell_type": "markdown",
   "source": [
    "c) Cuál es la aerolínea con mayor cantidad de cancelaciones."
   ],
   "metadata": {
    "collapsed": false
   }
  },
  {
   "cell_type": "code",
   "execution_count": 98,
   "outputs": [
    {
     "data": {
      "text/plain": "'JA'"
     },
     "execution_count": 98,
     "metadata": {},
     "output_type": "execute_result"
    }
   ],
   "source": [
    "aux = sc.textFile('/home/marcos/PycharmProjects/practicaSpark/Ej3b.csv')\n",
    "statusFlights = aux.map(lambda x: x.split(\",\"))\n",
    "statusFlights = statusFlights.map(lambda x: (pd.to_numeric(x[0], 'coerce'), x[1],\n",
    "                                             pd.to_datetime(x[2], 'coerce', format='%Y-%m-%d'), x[3],\n",
    "                                             pd.to_datetime(x[4], 'coerce', format='%Y-%m-%d'),\n",
    "                                             x[5], x[6])).cache()\n",
    "statusFlights.filter(lambda x: x[6] == 'cancelado').map(lambda x: (x[1], 1)) \\\n",
    "            .reduceByKey(lambda x,y: x + y).reduce(lambda x,y: x if (x[1] > y[1]) else y)[0]"
   ],
   "metadata": {
    "collapsed": false,
    "pycharm": {
     "name": "#%%\n"
    }
   }
  },
  {
   "cell_type": "markdown",
   "source": [
    "d) Cuál es el vuelo (numero de vuelo + fecha) con mayor retraso en el horario de salida."
   ],
   "metadata": {
    "collapsed": false
   }
  },
  {
   "cell_type": "code",
   "execution_count": 99,
   "outputs": [
    {
     "data": {
      "text/plain": "(284, Timestamp('2019-07-02 00:00:00'))"
     },
     "execution_count": 99,
     "metadata": {},
     "output_type": "execute_result"
    }
   ],
   "source": [
    "flightDiff = programmedFlights.map(lambda x: (x[0], (x[4], x[5])))\\\n",
    "    .join(statusFlights.filter(lambda x: x[6] == 'activo').map(lambda x: (x[0], x[3])))\\\n",
    "    .mapValues(lambda x: (x[0][0], abs(pd.to_datetime(x[0][1]) - pd.to_datetime(x[1]))))\n",
    "\n",
    "worstFlight = flightDiff.reduce(lambda x,y: x if (x[1][1] > y[1][1]) else y)\n",
    "\n",
    "(worstFlight[0], worstFlight[1][0])"
   ],
   "metadata": {
    "collapsed": false,
    "pycharm": {
     "name": "#%%\n"
    }
   }
  },
  {
   "cell_type": "markdown",
   "source": [
    "e) Cuál es el vuelo (numero de vuelo + fecha) con mayor retraso en el horario de llegada."
   ],
   "metadata": {
    "collapsed": false
   }
  },
  {
   "cell_type": "code",
   "execution_count": 100,
   "outputs": [
    {
     "data": {
      "text/plain": "(276, Timestamp('2019-07-07 00:00:00'))"
     },
     "execution_count": 100,
     "metadata": {},
     "output_type": "execute_result"
    }
   ],
   "source": [
    "flightDiff = programmedFlights.map(lambda x: (x[0], (x[6], x[7])))\\\n",
    "    .join(statusFlights.filter(lambda x: x[6] == 'activo').map(lambda x: (x[0], x[5])))\\\n",
    "    .mapValues(lambda x: (x[0][0], abs(pd.to_datetime(x[0][1]) - pd.to_datetime(x[1]))))\n",
    "\n",
    "worstFlight = flightDiff.reduce(lambda x,y: x if (x[1][1] > y[1][1]) else y)\n",
    "\n",
    "(worstFlight[0], worstFlight[1][0])"
   ],
   "metadata": {
    "collapsed": false,
    "pycharm": {
     "name": "#%%\n"
    }
   }
  },
  {
   "cell_type": "markdown",
   "source": [
    "f) Cuál es la aerolínea más puntual."
   ],
   "metadata": {
    "collapsed": false
   }
  },
  {
   "cell_type": "code",
   "execution_count": 101,
   "outputs": [
    {
     "data": {
      "text/plain": "'AAR'"
     },
     "execution_count": 101,
     "metadata": {},
     "output_type": "execute_result"
    }
   ],
   "source": [
    "def time_to_seconds(x):\n",
    "    (h, m, s) = x.split(':')\n",
    "    result = int(h) * 3600 + int(m) * 60 + int(s)\n",
    "    return result\n",
    "\n",
    "diffFlights = programmedFlights.map(lambda x: (x[1], (time_to_seconds(x[5]), time_to_seconds(x[7]))))\\\n",
    "    .join(statusFlights.filter(lambda x: x[6] == 'activo').map(lambda x: (x[1], (time_to_seconds(x[3]), time_to_seconds(x[5])))))\n",
    "\n",
    "seqOp = lambda acc,element: acc + abs(element[0][0] - element[1][0]) + abs(element[1][0] - element[1][1])\n",
    "combOp = lambda acc1,acc2: acc1 + acc2\n",
    "\n",
    "diffFlights = diffFlights.aggregateByKey(0, seqOp, combOp).cache()\n",
    "diffFlights.reduce(lambda x,y: x if (x[1] < y[1]) else y)[0]"
   ],
   "metadata": {
    "collapsed": false,
    "pycharm": {
     "name": "#%%\n"
    }
   }
  },
  {
   "cell_type": "markdown",
   "source": [
    "f) Cuál es el aeropuerto que registra mayor desviación con respecto a los horarios coordinados."
   ],
   "metadata": {
    "collapsed": false
   }
  },
  {
   "cell_type": "code",
   "execution_count": 102,
   "outputs": [
    {
     "data": {
      "text/plain": "'JA'"
     },
     "execution_count": 102,
     "metadata": {},
     "output_type": "execute_result"
    }
   ],
   "source": [
    "diffFlights.reduce(lambda x,y: x if (x[1] > y[1]) else y)[0]"
   ],
   "metadata": {
    "collapsed": false,
    "pycharm": {
     "name": "#%%\n"
    }
   }
  }
 ],
 "metadata": {
  "kernelspec": {
   "display_name": "Python 3",
   "language": "python",
   "name": "python3"
  },
  "language_info": {
   "codemirror_mode": {
    "name": "ipython",
    "version": 2
   },
   "file_extension": ".py",
   "mimetype": "text/x-python",
   "name": "python",
   "nbconvert_exporter": "python",
   "pygments_lexer": "ipython2",
   "version": "2.7.6"
  }
 },
 "nbformat": 4,
 "nbformat_minor": 0
}