{
 "cells": [
  {
   "cell_type": "markdown",
   "metadata": {
    "collapsed": true,
    "pycharm": {
     "name": "#%% md\n"
    }
   },
   "source": [
    "6) UBER almacena en un cluster todos los datos sobre el movimiento y viajes de\n",
    "todos sus vehículos. Existe un proceso que nos devuelve un RDD llamado trip_summary\n",
    "con los siguientes campos: (driver_id, car_id, trip_id, customer_id,\n",
    "date (YYYYMMDD), distance_traveled), Programar usando PySpark un programa que\n",
    "nos indique cual fue el conductor con mayor promedio de distancia recorrida\n",
    "por viaje para Abril de 2019. (era 2016 pero mi base de datos no tiene xd)"
   ]
  },
  {
   "cell_type": "code",
   "execution_count": 17,
   "outputs": [
    {
     "data": {
      "text/plain": "17"
     },
     "execution_count": 17,
     "metadata": {},
     "output_type": "execute_result"
    }
   ],
   "source": [
    "import pyspark as ps\n",
    "import pandas as pd\n",
    "\n",
    "# create the Spark Session\n",
    "spark = ps.sql.SparkSession.builder.getOrCreate()\n",
    "# create the Spark Context\n",
    "sc = spark.sparkContext\n",
    "\n",
    "aux = sc.textFile('/home/marcos/PycharmProjects/practicaSpark/Ej6.csv')\n",
    "trip_summary = aux.map(lambda x: x.split(\",\"))\n",
    "trip_summary = trip_summary.map(lambda x: (pd.to_numeric(x[0], 'coerce'),\n",
    "                                       pd.to_numeric(x[1], 'coerce'),\n",
    "                                       pd.to_numeric(x[2], 'coerce'),\n",
    "                                       pd.to_numeric(x[3], 'coerce'),\n",
    "                                       pd.to_datetime(x[4], 'coerce', format='%Y-%m-%d'),\n",
    "                                       pd.to_numeric(x[5], 'coerce')))\n",
    "\n",
    "trip_summary.filter(lambda x: (x[4].year == 2019) & (x[4].month == 4)).map(lambda x: (x[0], (x[5], 1))) \\\n",
    "            .reduceByKey(lambda x,y: (x[0] + y[0], x[1] + y[1]))\\\n",
    "            .mapValues(lambda x: x[0]/x[1]).reduce(lambda x,y: x if (x[1] > y[1]) else y)[0]"
   ],
   "metadata": {
    "collapsed": false,
    "pycharm": {
     "name": "#%%\n"
    }
   }
  }
 ],
 "metadata": {
  "kernelspec": {
   "display_name": "Python 3",
   "language": "python",
   "name": "python3"
  },
  "language_info": {
   "codemirror_mode": {
    "name": "ipython",
    "version": 2
   },
   "file_extension": ".py",
   "mimetype": "text/x-python",
   "name": "python",
   "nbconvert_exporter": "python",
   "pygments_lexer": "ipython2",
   "version": "2.7.6"
  }
 },
 "nbformat": 4,
 "nbformat_minor": 0
}