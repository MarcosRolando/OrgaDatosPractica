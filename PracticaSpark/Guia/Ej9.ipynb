{
 "cells": [
  {
   "cell_type": "markdown",
   "metadata": {
    "collapsed": true,
    "pycharm": {
     "name": "#%% md\n"
    }
   },
   "source": [
    "9) Se cuenta con un RDD con información sobre patentamientos de autos con la\n",
    "siguiente información (patente, marca, modelo, versión, tipo_vehiculo, provincia, fecha),\n",
    "donde tipo_vehiculo indica si la unidad patentada es auto, pickup, camión o moto.\n",
    "Se pide generar un programa en pySpark que indique la marca y modelo del auto más\n",
    "patentado por tipo de vehículo en la provincia de Buenos Aires en el mes de Abril de 2018. #no tengo del 2017 en mi base de datos"
   ]
  },
  {
   "cell_type": "code",
   "execution_count": 18,
   "outputs": [
    {
     "data": {
      "text/plain": "[('pickup', 'Audi 2'), ('camion', 'Volkswagen 3')]"
     },
     "execution_count": 18,
     "metadata": {},
     "output_type": "execute_result"
    }
   ],
   "source": [
    "import pyspark as ps\n",
    "import pandas as pd\n",
    "\n",
    "# create the Spark Session\n",
    "spark = ps.sql.SparkSession.builder.getOrCreate()\n",
    "# create the Spark Context\n",
    "sc = spark.sparkContext\n",
    "\n",
    "aux = sc.textFile('/home/marcos/PycharmProjects/practicaSpark/Ej9.csv')\n",
    "vehicles = aux.map(lambda x: x.split(\",\"))\n",
    "vehicles = vehicles.map(lambda x: (x[0], x[1], x[2],\n",
    "                         pd.to_numeric(x[3], 'coerce'), x[4], x[5], pd.to_datetime(x[6], 'coerce', format='%Y-%m-%d'))).cache()\n",
    "\n",
    "vehicles.filter(lambda x: (x[6].year == 2018) & (x[6].month == 4) & (x[5] == 'Buenos Aires')) \\\n",
    "        .map(lambda x: ((x[4], x[1] + ' ' + x[2]), 1)).reduceByKey(lambda x,y: x + y) \\\n",
    "        .map(lambda x: (x[0][0], (x[0][1], x[1]))).reduceByKey(lambda x,y: x if (x[1] > y[1]) else y) \\\n",
    "        .map(lambda x: (x[0], x[1][0])).collect()"
   ],
   "metadata": {
    "collapsed": false,
    "pycharm": {
     "name": "#%%\n"
    }
   }
  }
 ],
 "metadata": {
  "kernelspec": {
   "display_name": "Python 3",
   "language": "python",
   "name": "python3"
  },
  "language_info": {
   "codemirror_mode": {
    "name": "ipython",
    "version": 2
   },
   "file_extension": ".py",
   "mimetype": "text/x-python",
   "name": "python",
   "nbconvert_exporter": "python",
   "pygments_lexer": "ipython2",
   "version": "2.7.6"
  }
 },
 "nbformat": 4,
 "nbformat_minor": 0
}