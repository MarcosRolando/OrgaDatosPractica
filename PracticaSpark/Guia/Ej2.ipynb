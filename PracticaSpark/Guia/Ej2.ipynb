{
 "cells": [
  {
   "cell_type": "markdown",
   "metadata": {
    "collapsed": true,
    "pycharm": {
     "name": "#%% md\n"
    }
   },
   "source": [
    "2- Se tiene un RDD registros de ventas de producto con la forma (fecha de venta,\n",
    "código de producto, precio de venta) y en otro RDD detalle de los productos con\n",
    "(código de producto, descripción del producto, categoría). Se pide resolver utilizando PySpark:\n",
    "\n",
    "a) Cuál es el producto más vendido."
   ]
  },
  {
   "cell_type": "code",
   "execution_count": 208,
   "metadata": {
    "pycharm": {
     "name": "#%%\n"
    }
   },
   "outputs": [],
   "source": [
    "import pyspark as ps\n",
    "import pandas as pd\n",
    "\n",
    "# create the Spark Session\n",
    "spark = ps.sql.SparkSession.builder.getOrCreate()\n",
    "# create the Spark Context\n",
    "sc = spark.sparkContext\n",
    "\n",
    "aux = sc.textFile('/home/marcos/PycharmProjects/practicaSpark/Ej2a.csv')\n",
    "salesRdd = aux.map(lambda x: x.split(\",\"))\n",
    "salesRdd = salesRdd.map(lambda x: (pd.to_datetime(x[0], errors='coerce', format='%Y-%m-%d')\n",
    "                                   , pd.to_numeric(x[1], errors='coerce'), pd.to_numeric(x[2], errors='coerce')))\n",
    "\n",
    "aux = sc.textFile('/home/marcos/PycharmProjects/practicaSpark/Ej2b.csv')\n",
    "infoRdd = aux.map(lambda x: x.split(\",\"))\n",
    "infoRdd = infoRdd.map(lambda x: (pd.to_numeric(x[0], errors='coerce'), x[1], x[2]))"
   ]
  },
  {
   "cell_type": "code",
   "execution_count": 209,
   "metadata": {
    "pycharm": {
     "name": "#%%\n"
    }
   },
   "outputs": [
    {
     "data": {
      "text/plain": "19"
     },
     "execution_count": 209,
     "metadata": {},
     "output_type": "execute_result"
    }
   ],
   "source": [
    "salesRdd.cache()\n",
    "infoRdd.cache()\n",
    "\n",
    "productSales = salesRdd.map(lambda x: (x[1], 1)).reduceByKey(lambda x,y: x + y).cache()\n",
    "productSales.reduce(lambda x,y: x if (x[1] > y[1]) else y)[0]"
   ]
  },
  {
   "cell_type": "markdown",
   "metadata": {},
   "source": [
    "b) Cuál es la categoría de productos más vendida."
   ]
  },
  {
   "cell_type": "code",
   "execution_count": 210,
   "metadata": {
    "pycharm": {
     "name": "#%%\n"
    }
   },
   "outputs": [
    {
     "data": {
      "text/plain": "'Comida'"
     },
     "execution_count": 210,
     "metadata": {},
     "output_type": "execute_result"
    }
   ],
   "source": [
    "productSalesAndCat = productSales.join(infoRdd.map(lambda x: (x[0], x[2]))).cache()\n",
    "productSalesAndCat.map(lambda x: (x[1][1], x[1][0])).reduceByKey(lambda x,y: x + y)\\\n",
    "                .reduce(lambda x,y: x if (x[1] > y[1]) else y)[0]"
   ]
  },
  {
   "cell_type": "markdown",
   "metadata": {},
   "source": [
    "c) Cuál es el top5 de productos más vendidos generando un RDD con\n",
    "(código de producto, descripción, cantidad de ventas)"
   ]
  },
  {
   "cell_type": "code",
   "execution_count": 211,
   "metadata": {
    "pycharm": {
     "name": "#%%\n"
    }
   },
   "outputs": [
    {
     "data": {
      "text/plain": "[(17, 46, 'tpffqujl'),\n (3, 41, 'gyijzwegw'),\n (14, 44, 'aegubbljs'),\n (6, 46, 'bqxugkkyub'),\n (15, 46, 'ymjjougja')]"
     },
     "execution_count": 211,
     "metadata": {},
     "output_type": "execute_result"
    }
   ],
   "source": [
    "top5products = sc.parallelize(productSales.takeOrdered(5, lambda x: x[1]))\n",
    "top5products.leftOuterJoin(infoRdd).map(lambda x: (x[0], x[1][0], x[1][1])).collect()"
   ]
  },
  {
   "cell_type": "markdown",
   "metadata": {},
   "source": [
    "d) Cuál es el producto que registró mayor aumento de precio en el último año,\n",
    "tomando para este análisis solo los productos que cuenten con al menos 50 ventas en el último año."
   ]
  },
  {
   "cell_type": "code",
   "execution_count": 212,
   "metadata": {
    "pycharm": {
     "name": "#%%\n"
    }
   },
   "outputs": [
    {
     "data": {
      "text/plain": "16"
     },
     "execution_count": 212,
     "metadata": {},
     "output_type": "execute_result"
    }
   ],
   "source": [
    "salesFrom2019 = salesRdd.filter(lambda x: x[0].year == 2019).map(lambda x: (x[1], x[2]))\n",
    "\n",
    "filteredProducts = salesFrom2019.map(lambda x: (x[0], 1)).reduceByKey(lambda x,y: x + y) \\\n",
    "                    .filter(lambda x: x[1] >= 50)\n",
    "\n",
    "operation = lambda result, element: (min(result[0], element[0]), max(result[1], element[0]))\n",
    "\n",
    "diffInPricesFrom2019 = salesFrom2019.join(filteredProducts).aggregateByKey((float('inf'), 0), operation, operation)\\\n",
    "                .mapValues(lambda x: x[1] - x[0]).cache()\n",
    "\n",
    "diffInPricesFrom2019.reduce(lambda x,y: x if (x[1] > y[1]) else y)[0]"
   ]
  },
  {
   "cell_type": "markdown",
   "metadata": {},
   "source": [
    "e) Idem anterior, pero calculando la categoría de\n",
    "productos que registró mayor variación de precios en el último año."
   ]
  },
  {
   "cell_type": "code",
   "execution_count": 213,
   "metadata": {
    "pycharm": {
     "name": "#%%\n"
    }
   },
   "outputs": [
    {
     "data": {
      "text/plain": "'Cosmetica'"
     },
     "execution_count": 213,
     "metadata": {},
     "output_type": "execute_result"
    }
   ],
   "source": [
    "diffInPricesFrom2019.join(infoRdd.map(lambda x: (x[0], x[2]))).map(lambda x: (x[1][1], abs(x[1][0]))) \\\n",
    "                    .reduceByKey(lambda x,y: x + y).reduce(lambda x,y: x if (x[1] > y[1]) else y)[0]"
   ]
  }
 ],
 "metadata": {
  "kernelspec": {
   "display_name": "Python 3",
   "language": "python",
   "name": "python3"
  },
  "language_info": {
   "codemirror_mode": {
    "name": "ipython",
    "version": 3
   },
   "file_extension": ".py",
   "mimetype": "text/x-python",
   "name": "python",
   "nbconvert_exporter": "python",
   "pygments_lexer": "ipython3",
   "version": "3.8.3"
  }
 },
 "nbformat": 4,
 "nbformat_minor": 1
}