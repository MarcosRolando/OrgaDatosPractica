{
 "cells": [
  {
   "cell_type": "markdown",
   "metadata": {
    "collapsed": true,
    "pycharm": {
     "name": "#%% md\n"
    }
   },
   "source": [
    "8) Contamos con un cluster que tiene 4 computadoras. Queremos aprovechar el\n",
    "paralelismo del cluster para calcular los números primos entre 2 y 20.000.000.\n",
    "Para esto usaremos el conocido algoritmo de la criba de Eratóstenes. Por ejemplo\n",
    "si empezamos con una lista de tipo (2,3,4,5,6,7,8...) en un primer paso eliminamos\n",
    "todos los que son mayores a 2 y divisibles por 2 y nos queda (2,3,5,7,9,11,13…)\n",
    "luego eliminamos todos los mayores a 3 divisibles por 3 y nos queda (2,3,5,7,11,13….etc)\n",
    "luego todos los divisibles por 5 y así sucesivamente. El resultado final es una\n",
    "lista de números que son primos. Programar este programa usando PySpark."
   ]
  },
  {
   "cell_type": "code",
   "execution_count": 7,
   "outputs": [
    {
     "data": {
      "text/plain": "[2,\n 3,\n 4,\n 5,\n 6,\n 7,\n 8,\n 9,\n 10,\n 11,\n 12,\n 13,\n 14,\n 15,\n 16,\n 17,\n 18,\n 19,\n 20,\n 21,\n 22,\n 23,\n 24,\n 25,\n 26,\n 27,\n 28,\n 29,\n 30,\n 31,\n 32,\n 33,\n 34,\n 35,\n 36,\n 37,\n 38,\n 39,\n 40,\n 41,\n 42,\n 43,\n 44,\n 45,\n 46,\n 47,\n 48,\n 49,\n 50,\n 51,\n 52,\n 53,\n 54,\n 55,\n 56,\n 57,\n 58,\n 59,\n 60,\n 61,\n 62,\n 63,\n 64,\n 65,\n 66,\n 67,\n 68,\n 69,\n 70,\n 71,\n 72,\n 73,\n 74,\n 75,\n 76,\n 77,\n 78,\n 79,\n 80,\n 81,\n 82,\n 83,\n 84,\n 85,\n 86,\n 87,\n 88,\n 89,\n 90,\n 91,\n 92,\n 93,\n 94,\n 95,\n 96,\n 97,\n 98]"
     },
     "execution_count": 7,
     "metadata": {},
     "output_type": "execute_result"
    }
   ],
   "source": [
    "import pyspark as ps\n",
    "# create the Spark Session\n",
    "\n",
    "spark = ps.sql.SparkSession.builder.getOrCreate()\n",
    "# create the Spark Context\n",
    "sc = spark.sparkContext\n",
    "\n",
    "numRange = range(2, 100)\n",
    "\n",
    "numbers = sc.parallelize(list(numRange), 4)\n",
    "numbers = numbers.map(lambda x: (x, 0))\n",
    "\n",
    "for i in numRange:\n",
    "    numbers = numbers.subtract(numbers.filter(lambda x: x[0] > i).filter(lambda x: (x[0] % i) == 0), 4)\n",
    "\n",
    "numbers.map(lambda x: x[0]).collect()"
   ],
   "metadata": {
    "collapsed": false,
    "pycharm": {
     "name": "#%%\n"
    }
   }
  }
 ],
 "metadata": {
  "kernelspec": {
   "display_name": "Python 3",
   "language": "python",
   "name": "python3"
  },
  "language_info": {
   "codemirror_mode": {
    "name": "ipython",
    "version": 2
   },
   "file_extension": ".py",
   "mimetype": "text/x-python",
   "name": "python",
   "nbconvert_exporter": "python",
   "pygments_lexer": "ipython2",
   "version": "2.7.6"
  }
 },
 "nbformat": 4,
 "nbformat_minor": 0
}