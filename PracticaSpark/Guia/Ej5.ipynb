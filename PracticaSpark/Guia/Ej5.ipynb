{
 "cells": [
  {
   "cell_type": "markdown",
   "metadata": {
    "collapsed": true,
    "pycharm": {
     "name": "#%% md\n"
    }
   },
   "source": [
    "5) Se tiene un RDD con libros en donde cada registro es un texto. Se pide obtener\n",
    "todos los anagramas de mas de 7 letras que puedan encontrarse. El formato de\n",
    "salida debe ser una lista de listas en donde cada lista tiene un conjunto de\n",
    "palabras que son anagramas. Ejemplo: [[discounter,introduces,reductions],[percussion,supersonic]...]"
   ]
  },
  {
   "cell_type": "code",
   "execution_count": 30,
   "outputs": [
    {
     "data": {
      "text/plain": "[['introduces', 'reductions', 'discounter'], ['supersonic', 'percussion']]"
     },
     "execution_count": 30,
     "metadata": {},
     "output_type": "execute_result"
    }
   ],
   "source": [
    "import pyspark as ps\n",
    "\n",
    "# create the Spark Session\n",
    "spark = ps.sql.SparkSession.builder.getOrCreate()\n",
    "# create the Spark Context\n",
    "sc = spark.sparkContext\n",
    "\n",
    "texts = ['introduces', 'supersonic', 'percussion', 'reductions', 'discounter']\n",
    "texts = sc.parallelize(texts)\n",
    "\n",
    "sortedTexts = texts.map(lambda x: (''.join(sorted(x)), x))\n",
    "sortedTexts.groupByKey().map(lambda x: list(x[1])).collect()"
   ],
   "metadata": {
    "collapsed": false,
    "pycharm": {
     "name": "#%%\n"
    }
   }
  }
 ],
 "metadata": {
  "kernelspec": {
   "display_name": "Python 3",
   "language": "python",
   "name": "python3"
  },
  "language_info": {
   "codemirror_mode": {
    "name": "ipython",
    "version": 2
   },
   "file_extension": ".py",
   "mimetype": "text/x-python",
   "name": "python",
   "nbconvert_exporter": "python",
   "pygments_lexer": "ipython2",
   "version": "2.7.6"
  }
 },
 "nbformat": 4,
 "nbformat_minor": 0
}