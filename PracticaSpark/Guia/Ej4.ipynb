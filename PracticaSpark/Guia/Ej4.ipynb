{
 "cells": [
  {
   "cell_type": "markdown",
   "metadata": {
    "collapsed": true,
    "pycharm": {
     "name": "#%% md\n"
    }
   },
   "source": [
    "4) Se tiene un RDD con las coordenadas de rectángulos de la forma (x1,x2,y1,y2). #de donde a donde en x y en y, son los laterales\n",
    "Se pide programar en PySpark un programa que encuentre el rectángulo de superficie\n",
    "mínima que contiene al punto (w,z)"
   ]
  },
  {
   "cell_type": "code",
   "execution_count": 13,
   "outputs": [
    {
     "data": {
      "text/plain": "((1, 4, 2, 7), 15)"
     },
     "execution_count": 13,
     "metadata": {},
     "output_type": "execute_result"
    }
   ],
   "source": [
    "import pyspark as ps\n",
    "\n",
    "# create the Spark Session\n",
    "spark = ps.sql.SparkSession.builder.getOrCreate()\n",
    "# create the Spark Context\n",
    "sc = spark.sparkContext\n",
    "\n",
    "rectangles = [(1, 4, 2, 7), (3, 5, -6, 10), (-1, 1, -3, 3)]\n",
    "rectRdd = sc.parallelize(rectangles)\n",
    "p = (3, 5)\n",
    "\n",
    "def is_in_rectangle(x):\n",
    "    return (p[0] >= x[0]) & (p[0] <= x[1]) & (p[1] >= x[2]) & (p[1] <= x[3])\n",
    "\n",
    "def rect_area(x):\n",
    "    return (x[1] - x[0]) * (x[3] - x[2])\n",
    "\n",
    "def seqOp(acc, elem):\n",
    "    x = rect_area(elem)\n",
    "    return acc if (min(acc[1], x) == acc[1]) else elem, x\n",
    "\n",
    "combOp = lambda acc1, acc2: acc1 if (acc1[1] < acc2[1]) else acc2\n",
    "\n",
    "rectRdd.filter(is_in_rectangle).aggregate(((0, 0, 0, 0), float('inf')), seqOp, combOp)"
   ],
   "metadata": {
    "collapsed": false,
    "pycharm": {
     "name": "#%%\n"
    }
   }
  }
 ],
 "metadata": {
  "kernelspec": {
   "display_name": "Python 3",
   "language": "python",
   "name": "python3"
  },
  "language_info": {
   "codemirror_mode": {
    "name": "ipython",
    "version": 2
   },
   "file_extension": ".py",
   "mimetype": "text/x-python",
   "name": "python",
   "nbconvert_exporter": "python",
   "pygments_lexer": "ipython2",
   "version": "2.7.6"
  }
 },
 "nbformat": 4,
 "nbformat_minor": 0
}