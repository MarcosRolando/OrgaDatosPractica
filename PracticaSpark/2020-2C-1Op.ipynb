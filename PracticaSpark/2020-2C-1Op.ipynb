{
 "cells": [
  {
   "cell_type": "markdown",
   "metadata": {
    "collapsed": true,
    "pycharm": {
     "name": "#%% md\n"
    }
   },
   "source": [
    "Tenemos un RDD con información de recetas:\n",
    "\n",
    "(ID_Receta, Nombre, Categoría)\n",
    "\n",
    "Y otro RDD con los ingredientes de cada receta:\n",
    "\n",
    "(ID_Receta, Ingrediente, Cantidad_Kg)\n",
    "\n",
    "Queremos obtener:\n",
    "\n",
    "a) Listar todos los ingredientes que aparecen en alguna receta que usa \"pollo\" indicando en\n",
    "cuantas recetas el ingrediente y pollo aparecen juntos. El formato de salida es (ingrediente,\n",
    "cantidad de recetas en que aparece junto con pollo). Por ejemplo, la papa aparece en 10\n",
    "recetas con pollo, por lo que tendríamos (papa, 10). (50 pts)\n",
    "\n",
    "b) Queremos obtener todos los nombres de recetas Mediterráneas que no tengan ni papa ni\n",
    "pollo entre sus ingredientes.(50 pts)\n",
    "\n",
    "Resolver los puntos usando la API de RDDs de PySpark\n"
   ]
  },
  {
   "cell_type": "code",
   "execution_count": 7,
   "metadata": {
    "pycharm": {
     "name": "#%%\n"
    }
   },
   "outputs": [
    {
     "data": {
      "text/plain": "[('papa', 115), ('choclo', 115), ('queso', 100)]"
     },
     "execution_count": 7,
     "metadata": {},
     "output_type": "execute_result"
    }
   ],
   "source": [
    "import pyspark as ps\n",
    "import pandas as pd\n",
    "\n",
    "spark = ps.sql.SparkSession.builder.getOrCreate()\n",
    "sc = spark.sparkContext\n",
    "\n",
    "#Leo los csv que genere de dummy\n",
    "recetasRdd = spark.read.csv('/home/marcos/PycharmProjects/PracticaSpark/parcialRecetas.csv', header=True).rdd\n",
    "ingredientesRdd=spark.read.csv('/home/marcos/PycharmProjects/PracticaSpark/parcialIngredientes.csv',header=True).rdd\n",
    "\n",
    "#Las siguientes 2 lineas son para pasar de texto al dato correspondiente del csv que lei\n",
    "ingredientesRdd = ingredientesRdd.map(lambda x: (pd.to_numeric(x[0], 'coerce'), x[1],\n",
    "                                                 pd.to_numeric(x[2], 'coerce')))\n",
    "recetasRdd = recetasRdd.map(lambda x: (pd.to_numeric(x[0], 'coerce'), x[1], x[2]))\n",
    "\n",
    "#A partir de aca arranca la resolucion en cuestion\n",
    "ingredientesRdd = ingredientesRdd.map(lambda x: (x[0], x[1])).cache() \n",
    "                                            #agregar .distinct() antes de .cache() si hubiese\n",
    "                                            #por algun motivo receta + ingrediente repetido\n",
    "                                            #como [(r1, pollo, 10), (r1, pollo, 20)]\n",
    "                                            #El enunciado no aclara (y no seria muy logico)\n",
    "                                            #asi que asumo que no es el caso\n",
    "\n",
    "recetasConPollo = ingredientesRdd.filter(lambda x: x[1] == 'pollo')\n",
    "\n",
    "ingredientesRdd.filter(lambda x: x[1] != 'pollo').join(recetasConPollo) \\\n",
    "        .map(lambda x: (x[1][0], 1)).reduceByKey(lambda x,y: x + y).collect() \n",
    "                                        #hago collect porque entiendo que quieren que muestre todos"
   ]
  },
  {
   "cell_type": "code",
   "execution_count": 8,
   "metadata": {
    "pycharm": {
     "name": "#%%\n"
    }
   },
   "outputs": [
    {
     "data": {
      "text/plain": "['pciujpqaam', 'sukwlcbko']"
     },
     "execution_count": 8,
     "metadata": {},
     "output_type": "execute_result"
    }
   ],
   "source": [
    "recetasSinPapaNiPollo = ingredientesRdd.map(lambda x: (x[0], 1 if ((x[1] == 'pollo') \n",
    "                        | (x[1] == 'papa')) else 0)).reduceByKey(lambda x,y: x + y) \\\n",
    "                        .filter(lambda x: x[1] == 0)\n",
    "\n",
    "recetasRdd.filter(lambda x: x[2] == 'Mediterranea').map(lambda x: (x[0], x[1])) \\\n",
    "        .join(recetasSinPapaNiPollo).map(lambda x: x[1][0]).collect() \n",
    "                                #hago collect porque entiendo que quieren que muestre todos"
   ]
  }
 ],
 "metadata": {
  "kernelspec": {
   "display_name": "Python 3",
   "language": "python",
   "name": "python3"
  },
  "language_info": {
   "codemirror_mode": {
    "name": "ipython",
    "version": 3
   },
   "file_extension": ".py",
   "mimetype": "text/x-python",
   "name": "python",
   "nbconvert_exporter": "python",
   "pygments_lexer": "ipython3",
   "version": "3.8.3"
  }
 },
 "nbformat": 4,
 "nbformat_minor": 1
}