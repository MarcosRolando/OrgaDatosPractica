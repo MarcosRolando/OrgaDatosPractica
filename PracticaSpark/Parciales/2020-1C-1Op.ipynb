{
 "cells": [
  {
   "cell_type": "markdown",
   "metadata": {
    "collapsed": true,
    "pycharm": {
     "name": "#%% md\n"
    }
   },
   "source": [
    "\n",
    "1) Dado los acontecimientos en USA, deseamos obtener datos que nos den mayor\n",
    "información sobre las muertes de personas de raza negra por parte de oficiales de policía.\n",
    "Para ello, tenemos un csv con información sobre las muertes por parte de oficiales\n",
    "de policía en USA desde 2015 hasta 2017:\n",
    "\n",
    "(name, date, race, city, state)\n",
    "\n",
    "Y otro csv con información sobre el porcentaje de cada raza en las ciudades de USA:\n",
    "\n",
    "(state, city, share_white, share_black, share_native_american, share_asian, share_hispanic)\n",
    "\n",
    "Se pide:\n",
    "a) Obtener el estado con mayor porcentaje de muertes de personas de raza negra\n",
    "teniendo en cuenta la cantidad total de muertes por parte de oficiales en ese estado. (10 pts)\n",
    "\n",
    "b) Obtener los 10 estados con mayor diferencia entre el porcentaje de muertes y\n",
    "el porcentaje de gente de raza negra en ese estado. Para ello, considerar el\n",
    "porcentaje de raza de un estado como el promedio de los valores de sus ciudades.\n",
    "Por ejemplo si en Texas el porcentaje de muertes de personas de raza negra por\n",
    "parte de la policía es del 36% y el promedio de share_black para Texas es 24%\n",
    "la diferencia es 0.12. (15 pts)\n",
    "\n",
    "Resolver ambos puntos usando la API de RDDs de PySpark."
   ]
  },
  {
   "cell_type": "code",
   "execution_count": 3,
   "outputs": [
    {
     "data": {
      "text/plain": "('S2', 0.2066869300911854)"
     },
     "execution_count": 3,
     "metadata": {},
     "output_type": "execute_result"
    }
   ],
   "source": [
    "import pyspark as ps\n",
    "import pandas as pd\n",
    "\n",
    "# create the Spark Session\n",
    "spark = ps.sql.SparkSession.builder.getOrCreate()\n",
    "# create the Spark Context\n",
    "sc = spark.sparkContext\n",
    "\n",
    "murdersRdd = spark.read.csv('/home/marcos/PycharmProjects/PracticaSpark/Parciales/P2020-1C-1Op.csv', header=True).rdd\n",
    "'''\n",
    "def seq_op(acc, elem):\n",
    "    if elem == 'Black':\n",
    "        return acc[0] + 1, acc[1] + 1\n",
    "    return acc[0], acc[1] + 1\n",
    "\n",
    "comb_op = lambda acc1,acc2: (acc1[0] + acc2[0], acc1[1] + acc2[1])\n",
    "\n",
    "blackMurderRate = murdersRdd.map(lambda x: (x[4], x[2])).aggregateByKey((0, 0), seq_op, comb_op) \\\n",
    "            .mapValues(lambda x: x[0]/x[1]).cache()\n",
    "''' # esta es una forma de hacerlo con aggregate\n",
    "\n",
    "blackMurderRate = murdersRdd.map(lambda x: (x[4], (1 if (x[2] == 'Black') else 0, 1))) \\\n",
    "            .reduceByKey(lambda x,y: (x[0] + y[0], x[1] + y[1])).mapValues(lambda x: x[0]/x[1]).cache()\n",
    "\n",
    "blackMurderRate.reduce(lambda x,y: x if (x[1] > y[1]) else y)"
   ],
   "metadata": {
    "collapsed": false,
    "pycharm": {
     "name": "#%%\n"
    }
   }
  },
  {
   "cell_type": "code",
   "execution_count": 4,
   "outputs": [
    {
     "data": {
      "text/plain": "[('S1', -0.2), ('S2', -0.09331306990881458), ('S3', -0.06071428571428575)]"
     },
     "execution_count": 4,
     "metadata": {},
     "output_type": "execute_result"
    }
   ],
   "source": [
    "statsCitiesRdd = spark.read.csv('/home/marcos/PycharmProjects/PracticaSpark/Parciales/P2020-1C-1Opb.csv', header=True).rdd\n",
    "\n",
    "blackSharePerState = statsCitiesRdd.map(lambda x: (x[0], (pd.to_numeric(x[3], errors='coerce'), 1)))\\\n",
    "            .reduceByKey(lambda x,y: (x[0] + y[0], x[1] + y[1])).mapValues(lambda x: x[0] / x[1])\n",
    "\n",
    "blackMurderRate.join(blackSharePerState).mapValues(lambda x: x[0] - x[1]).takeOrdered(10, key=lambda x: x[1])"
   ],
   "metadata": {
    "collapsed": false,
    "pycharm": {
     "name": "#%%\n"
    }
   }
  }
 ],
 "metadata": {
  "kernelspec": {
   "display_name": "Python 3",
   "language": "python",
   "name": "python3"
  },
  "language_info": {
   "codemirror_mode": {
    "name": "ipython",
    "version": 2
   },
   "file_extension": ".py",
   "mimetype": "text/x-python",
   "name": "python",
   "nbconvert_exporter": "python",
   "pygments_lexer": "ipython2",
   "version": "2.7.6"
  }
 },
 "nbformat": 4,
 "nbformat_minor": 0
}