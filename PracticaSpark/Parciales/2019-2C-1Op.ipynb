{
 "cells": [
  {
   "cell_type": "markdown",
   "metadata": {
    "collapsed": true,
    "pycharm": {
     "name": "#%% md\n"
    }
   },
   "source": [
    "1) Se cuenta con los siguientes archivos con el registro de la\n",
    "participación de los distintos jugadores en la liga nacional de fútbol.\n",
    "\n",
    "Jugador (ID_JUGADOR, Nombre_apellido, fecha_nacimiento, país)\n",
    "\n",
    "Estadísticas (ID_PARTIDO, ID_JUGADOR, tiempo_juego, distancia_recorrida, goles)\n",
    "\n",
    "Partido (ID_PARTIDO, año, semestre, nro_fecha, equipo_local, equipo_visitante)\n",
    "\n",
    "Utilizando el API de RDD de PySpark, se desea obtener un RDD con\n",
    "el nombre y apellido de los jugadores nacidos en Argentina que\n",
    "hayan aumentado en más de un 50% el tiempo de juego total de\n",
    "un semestre al otro. Cada año se juegan dos campeonatos (uno por\n",
    "semestre) y se deben comparar semestres consecutivos (por ejemplo\n",
    "2017-2 con 2018-1, o 2018-1 con 2018-2). El tiempo de juego total\n",
    "para un campeonato es la suma de todo el tiempo jugado en los\n",
    "partidos de ese campeonato.\n",
    "(****) ( 20pts)"
   ]
  },
  {
   "cell_type": "code",
   "execution_count": 25,
   "outputs": [
    {
     "data": {
      "text/plain": "['Danby',\n 'Shelba',\n 'Tjon',\n 'Sikorski',\n 'Saree',\n 'Bashemeth',\n 'Smitt',\n 'Rugen',\n 'Ricki',\n 'Fadiman',\n 'Thomasina',\n 'Albertine',\n 'Colleen',\n 'Dulciana',\n 'Lymann',\n 'Goode',\n 'Adore',\n 'Burkle',\n 'Hathaway',\n 'Buffum',\n 'Barrus',\n 'Noman',\n 'Ambrosia',\n 'Brotherson',\n 'Wenda',\n 'Carleen',\n 'Buckler',\n 'Mullane',\n 'Millda',\n 'Bari',\n 'Scammon',\n 'Karl',\n 'Chapland',\n 'Posner',\n 'Rolf',\n 'Noam',\n 'Thunell',\n 'Wiener',\n 'Vilma',\n 'Wandie',\n 'Ashely',\n 'Dalli',\n 'Jagir',\n 'Hachmin',\n 'Argus',\n 'Barney',\n 'Chesna',\n 'Selway',\n 'Faso',\n 'Tillford',\n 'Lea',\n 'Wilona',\n 'Sisile',\n 'Wenoa',\n 'Dyche',\n 'Trace',\n 'Weaks',\n 'Constancy',\n 'Helfand',\n 'Vorster',\n 'Stav',\n 'Rheingold',\n 'Christal',\n 'Gladstone',\n 'Publia',\n 'Mozelle',\n 'Anastatius',\n 'Jacinda',\n 'Florina',\n 'Andrel',\n 'Simmonds',\n 'Leffen',\n 'Carmena',\n 'Gaulin',\n 'Nore',\n 'Bebe',\n 'Bultman',\n 'Gino',\n 'Dearborn',\n 'Medrek',\n 'Hepsibah',\n 'Ajay',\n 'Klemperer',\n 'Sparhawk',\n 'Chandler',\n 'Clie',\n 'Hillel',\n 'Henrie']"
     },
     "execution_count": 25,
     "metadata": {},
     "output_type": "execute_result"
    }
   ],
   "source": [
    "import pyspark as ps\n",
    "import pandas as pd\n",
    "\n",
    "# create the Spark Session\n",
    "spark = ps.sql.SparkSession.builder.getOrCreate()\n",
    "# create the Spark Context\n",
    "sc = spark.sparkContext\n",
    "\n",
    "matchesRdd = spark.read.csv('/home/marcos/PycharmProjects/PracticaSpark/Parciales/P2019-2C-1OpMatches.csv', header=True).rdd\n",
    "playersRdd = spark.read.csv('/home/marcos/PycharmProjects/PracticaSpark/Parciales/P2019-2C-1OpPlayers.csv', header=True).rdd\n",
    "statsRdd = spark.read.csv('/home/marcos/PycharmProjects/PracticaSpark/Parciales/P2019-2C-1OpStats.csv', header=True).rdd\n",
    "\n",
    "matchesRdd = matchesRdd.map(lambda x: (pd.to_numeric(x[0], 'coerce'), pd.to_numeric(x[1], 'coerce')\n",
    "                                       , pd.to_numeric(x[2], 'coerce'), pd.to_numeric(x[3], 'coerce')\n",
    "                                       , x[4], x[5]))\n",
    "\n",
    "statsRdd = statsRdd.map(lambda x: (pd.to_numeric(x[0], 'coerce'), pd.to_numeric(x[1], 'coerce')\n",
    "                                       , pd.to_numeric(x[2], 'coerce'), pd.to_numeric(x[3], 'coerce')\n",
    "                                       , pd.to_numeric(x[4], 'coerce')))\n",
    "\n",
    "playersRdd = playersRdd.map(lambda x: (pd.to_numeric(x[0], 'coerce'), x[1], x[2], x[3]))\n",
    "\n",
    "playersFromArgentina = playersRdd.filter(lambda x: x[3] == 'Argentina').map(lambda x: (x[0], x[1]))\n",
    "playersStats = statsRdd.map(lambda x: (x[1], (x[0], x[2])))\n",
    "playersFromArgStats = playersStats.join(playersFromArgentina).map(lambda x: (x[1][0][0], (x[1][1], x[1][0][1])))\n",
    "\n",
    "minutesPlayedPerSeasonPerPlayer = playersFromArgStats.join(matchesRdd.map(lambda x: (x[0], (x[1], x[2])))) \\\n",
    "                                .map(lambda x: ((x[1][0][0], x[1][1][0], x[1][1][1]), x[1][0][1])) \\\n",
    "                                .reduceByKey(lambda x,y: x + y)\n",
    "\n",
    "def f(x):\n",
    "    if x[0][2] == 1:\n",
    "        return (x[0], (x[1], None)), ((x[0][0], x[0][1]-1, 2), (None, x[1]))\n",
    "    else:\n",
    "        return (x[0], (x[1], None)), ((x[0][0], x[0][1], 1), (None, x[1]))\n",
    "\n",
    "minutesPlayedPerSeasonPerPlayer.flatMap(f).reduceByKey(lambda x,y: (x[0] if (y[0] is None) else y[0],\n",
    "                                                                    y[1] if (x[1] is None) else x[1])) \\\n",
    "        .filter(lambda x: (x[1][0] is not None) & (x[1][1] is not None)) \\\n",
    "        .filter(lambda x: abs(x[1][0] - x[1][1])/x[1][0] > 0.5).map(lambda x: x[0][0]).distinct().collect()"
   ],
   "metadata": {
    "collapsed": false,
    "pycharm": {
     "name": "#%%\n"
    }
   }
  }
 ],
 "metadata": {
  "kernelspec": {
   "display_name": "Python 3",
   "language": "python",
   "name": "python3"
  },
  "language_info": {
   "codemirror_mode": {
    "name": "ipython",
    "version": 2
   },
   "file_extension": ".py",
   "mimetype": "text/x-python",
   "name": "python",
   "nbconvert_exporter": "python",
   "pygments_lexer": "ipython2",
   "version": "2.7.6"
  }
 },
 "nbformat": 4,
 "nbformat_minor": 0
}