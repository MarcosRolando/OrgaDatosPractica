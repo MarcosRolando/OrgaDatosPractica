{
 "cells": [
  {
   "cell_type": "markdown",
   "metadata": {
    "collapsed": true,
    "pycharm": {
     "name": "#%% md\n"
    }
   },
   "source": [
    "1) Dado los acontecimientos en USA, deseamos obtener datos que\n",
    "nos den mayor información sobre las muertes de gente de raza negra\n",
    "por parte de oficiales de policía.\n",
    "Para ello, tenemos un csv con información sobre las muertes por\n",
    "parte de oficiales de policía en USA para 2015 hasta 2017:\n",
    "\n",
    "(name, date, race, city, state)\n",
    "\n",
    "Y otro csv con información sobre el porcentaje de pobreza en las\n",
    "ciudades de USA:\n",
    "\n",
    "(state, city, poverty_rate)\n",
    "\n",
    "Se pide:\n",
    "\n",
    "a) Obtener las 10 ciudades con mayor diferencia entre el porcentaje\n",
    "de pobreza de la ciudad y el porcentaje de pobreza del estado en el\n",
    "que se encuentra esa ciudad. Por ejemplo si en la ciudad de Houston\n",
    "la pobreza es de 15.2 y la pobreza en Texas (el estado donde se\n",
    "encuentra Houston) es de 11.1, la diferencia es 4.1.(15 pts)\n",
    "\n",
    "b) Obtener la cantidad de muertes de gente de raza negra por parte\n",
    "de oficiales de policía, agrupada por estados que compartan el mismo\n",
    "nivel de pobreza redondeado al entero más cercano. Por ejemplo, si\n",
    "NJ tiene una pobreza de 10.33, AL una de 20.64 y AZ una de 10.44,\n",
    "NJ y AZ quedarían juntos representados por el nivel de pobreza de 10\n",
    "y AL en otro grupo con el nivel 21. La salida debe tener el formato:\n",
    "(nivel_de_pobreza, total_de_muertes) (15 pts)\n",
    "\n",
    "Resolver los puntos usando la API de RDDs de PySpark. (30 pts)"
   ]
  },
  {
   "cell_type": "code",
   "execution_count": 49,
   "outputs": [
    {
     "data": {
      "text/plain": "[('S3', (('Washington DC', 0.95), 0.4483333333333333)),\n ('S3', (('San Francisco', 0.89), 0.4483333333333333)),\n ('S2', (('New York', 0.65), 0.36666666666666664)),\n ('S1', (('San Francisco', 0.7), 0.44833333333333325)),\n ('S2', (('Los Angeles', 0.56), 0.36666666666666664)),\n ('S1', (('Chicago', 0.6), 0.44833333333333325)),\n ('S2', (('Chicago', 0.47), 0.36666666666666664)),\n ('S1', (('New York', 0.55), 0.44833333333333325)),\n ('S2', (('New Jersey', 0.32), 0.36666666666666664)),\n ('S1', (('Washington DC', 0.4), 0.44833333333333325))]"
     },
     "execution_count": 49,
     "metadata": {},
     "output_type": "execute_result"
    }
   ],
   "source": [
    "import pyspark as ps\n",
    "import pandas as pd\n",
    "\n",
    "# create the Spark Session\n",
    "spark = ps.sql.SparkSession.builder.getOrCreate()\n",
    "# create the Spark Context\n",
    "sc = spark.sparkContext\n",
    "\n",
    "murdersRdd = spark.read.csv('/home/marcos/PycharmProjects/PracticaSpark/Parciales/P2020-1C-1Op.csv', header=True).rdd\n",
    "povertyRdd = spark.read.csv('/home/marcos/PycharmProjects/PracticaSpark/Parciales/P2020-1C-2Op.csv', header=True).rdd.cache()\n",
    "\n",
    "povertyPerState = povertyRdd.map(lambda x: (x[0], (pd.to_numeric(x[2], 'coerce'), 1))) \\\n",
    "            .reduceByKey(lambda x,y: (x[0] + y[0], x[1] + y[1])).mapValues(lambda x: x[0]/x[1]).cache()\n",
    "\n",
    "povertyRdd.map(lambda x: (x[0], (x[1], pd.to_numeric(x[2], 'coerce')))).join(povertyPerState) \\\n",
    "            .takeOrdered(10, key=lambda x: -(x[1][0][1] - x[1][1]))"
   ],
   "metadata": {
    "collapsed": false,
    "pycharm": {
     "name": "#%%\n"
    }
   }
  },
  {
   "cell_type": "code",
   "execution_count": 50,
   "outputs": [
    {
     "data": {
      "text/plain": "[(45, 125), (37, 68)]"
     },
     "execution_count": 50,
     "metadata": {},
     "output_type": "execute_result"
    }
   ],
   "source": [
    "povertyPerState = povertyPerState.mapValues(lambda x: int(round(x*100)))\n",
    "\n",
    "murdersRdd.map(lambda x: (x[4], (1 if (x[2] == 'Black') else 0))).reduceByKey(lambda x,y: x + y) \\\n",
    "         .join(povertyPerState).map(lambda x: (x[1][1], x[1][0])) \\\n",
    "        .reduceByKey(lambda x,y: x + y).collect()\n"
   ],
   "metadata": {
    "collapsed": false,
    "pycharm": {
     "name": "#%%\n"
    }
   }
  }
 ],
 "metadata": {
  "kernelspec": {
   "display_name": "Python 3",
   "language": "python",
   "name": "python3"
  },
  "language_info": {
   "codemirror_mode": {
    "name": "ipython",
    "version": 2
   },
   "file_extension": ".py",
   "mimetype": "text/x-python",
   "name": "python",
   "nbconvert_exporter": "python",
   "pygments_lexer": "ipython2",
   "version": "2.7.6"
  }
 },
 "nbformat": 4,
 "nbformat_minor": 0
}