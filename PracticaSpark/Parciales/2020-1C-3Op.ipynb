{
 "cells": [
  {
   "cell_type": "markdown",
   "metadata": {
    "collapsed": true,
    "pycharm": {
     "name": "#%% md\n"
    }
   },
   "source": [
    "1) En Mercadodesregulado se registran en un RDD todas las ventas (id_producto,o,\n",
    "id_comprador, id_vendedor, pais, tiene_reclamo, año, mes, precio_local) y uno de\n",
    "productos (id_producto, titulo, categoria).\n",
    "Mercadodesregulado tiene una muy buena relación con el gobierno argentino y el INDEC\n",
    "pidió su ayuda para medir la inflación entre diciembre de 2018 y diciembre de 2019. Para\n",
    "esto se quiere conocer:\n",
    "\n",
    "a) El precio promedio para cada producto de categoría “smartphone” vendido en\n",
    "diciembre de 2018 y diciembre de 2019 en argentina (10 ptos)\n",
    "\n",
    "b) El promedio de la relación entre el precio de los productos (siempre para la categoría\n",
    "smartphone) que se vendieron en diciembre de 2018 y después en diciembre de 2019 en\n",
    "argentina. La relación puede calcularse como promedio_dic_2019 / promedio_dic_2018\n",
    "para cada uno de los product_ids. Luego se pide el promedio de las relaciones (20 ptos)\n",
    "Un ejemplo de ambos puntos para los siguientes datos:\n",
    "\n",
    "[(1,10,25,\"AR\",0,2018,\"Diciembre\",10000),\n",
    "(1,45,27,\"AR\",0,2018,\"Diciembre\",11000),\n",
    "(1,21,25,\"AR\",0,2019,\"Diciembre\",25000),\n",
    "(2,78,26,\"AR\",1,2018,\"Diciembre\",30000),\n",
    "(2,31,26,\"AR\",1,2019,\"Diciembre\",50000),\n",
    "(3,103,14,\"AR\",0,2018,\"Diciembre\",40000),\n",
    "(3,542,54,\"BR\",0,2019,\"Diciembre\",42000)]\n",
    "\n",
    "Para el punto a)\n",
    "Promedio diciembre 2018:\n",
    "(1, 10500)\n",
    "(2, 30000)\n",
    "(3, 40000)\n",
    "Promedio diciembre 2019:\n",
    "(1, 25000)\n",
    "(2, 50000)\n",
    "Para el punto b)\n",
    "((25000/10500)+(50000/30000))/2 = 2.02...\n",
    "Resolver los puntos usando la API de RDDs de PySpark. (30 pts)"
   ]
  },
  {
   "cell_type": "code",
   "execution_count": 37,
   "outputs": [
    {
     "data": {
      "text/plain": "[((2, 2018), 581.3333333333334),\n ((10, 2018), 484.5),\n ((3, 2019), 371.0),\n ((7, 2019), 923.0),\n ((2, 2019), 967.0),\n ((10, 2019), 219.0),\n ((3, 2018), 590.0),\n ((7, 2018), 370.5),\n ((1, 2018), 496.0)]"
     },
     "execution_count": 37,
     "metadata": {},
     "output_type": "execute_result"
    }
   ],
   "source": [
    "import pyspark as ps\n",
    "import pandas as pd\n",
    "\n",
    "# create the Spark Session\n",
    "spark = ps.sql.SparkSession.builder.getOrCreate()\n",
    "# create the Spark Context\n",
    "sc = spark.sparkContext\n",
    "\n",
    "salesRdd = spark.read.csv('/home/marcos/PycharmProjects/PracticaSpark/Parciales/P2020-1C-3OpSales.csv', header=True).rdd\n",
    "productsRdd = spark.read.csv('/home/marcos/PycharmProjects/PracticaSpark/Parciales/P2020-1C-3OpProducts.csv', header=True).rdd\n",
    "\n",
    "salesRdd = salesRdd.map(lambda x: (pd.to_numeric(x[0], 'coerce'), pd.to_numeric(x[1], 'coerce')\n",
    "                                   , pd.to_numeric(x[2], 'coerce'), x[3], x[4],\n",
    "                                   pd.to_numeric(x[5], 'coerce'), pd.to_numeric(x[6], 'coerce')\n",
    "                                   , pd.to_numeric(x[7], 'coerce')))\n",
    "\n",
    "productsRdd = productsRdd.map(lambda x: (pd.to_numeric(x[0], 'coerce'), x[1], x[2]))\n",
    "\n",
    "smartphonesId = productsRdd.filter(lambda x: x[2] == 'Smartphone').map(lambda x: (x[0], 1))\n",
    "\n",
    "pricesInDecPerSmartphone = salesRdd.filter(lambda x: (x[6] == 12) & ((x[5] == 2018) | (x[5] == 2019)) & (x[3] == 'Argentina'))\\\n",
    "        .map(lambda x: (x[0], (x[5], x[7]))).join(smartphonesId).map(lambda x: ((x[0], x[1][0][0]), (x[1][0][1], x[1][1])))\\\n",
    "         .reduceByKey(lambda x,y: (x[0] + y[0], x[1] + y[1])).mapValues(lambda x: x[0]/x[1]).cache()\n",
    "\n",
    "pricesInDecPerSmartphone.collect()"
   ],
   "metadata": {
    "collapsed": false,
    "pycharm": {
     "name": "#%%\n"
    }
   }
  },
  {
   "cell_type": "code",
   "execution_count": 38,
   "outputs": [
    {
     "data": {
      "text/plain": "1.3088678611477653"
     },
     "execution_count": 38,
     "metadata": {},
     "output_type": "execute_result"
    }
   ],
   "source": [
    "relationPrice = pricesInDecPerSmartphone.map(lambda x: (x[0][0], (None if (x[0][1] == 2019) else x[1]\n",
    "                                                    , None if (x[0][1] == 2018) else x[1]))) \\\n",
    "        .reduceByKey(lambda x,y: (x[0] if (y[0] is None) else y[0], x[1] if (y[1] is None) else y[1])) \\\n",
    "        .filter(lambda x: (x[1][0] is not None) & (x[1][1] is not None)).map(lambda x: (x[1][1]/x[1][0], 1)) \\\n",
    "        .reduce(lambda x,y: (x[0] + y[0], x[1] + y[1]))\n",
    "\n",
    "relationPrice[0] / relationPrice[1]"
   ],
   "metadata": {
    "collapsed": false,
    "pycharm": {
     "name": "#%%\n"
    }
   }
  }
 ],
 "metadata": {
  "kernelspec": {
   "display_name": "Python 3",
   "language": "python",
   "name": "python3"
  },
  "language_info": {
   "codemirror_mode": {
    "name": "ipython",
    "version": 2
   },
   "file_extension": ".py",
   "mimetype": "text/x-python",
   "name": "python",
   "nbconvert_exporter": "python",
   "pygments_lexer": "ipython2",
   "version": "2.7.6"
  }
 },
 "nbformat": 4,
 "nbformat_minor": 0
}