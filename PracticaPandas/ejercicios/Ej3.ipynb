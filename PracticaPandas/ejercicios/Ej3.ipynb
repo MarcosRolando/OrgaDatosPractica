{
 "cells": [
  {
   "cell_type": "markdown",
   "metadata": {
    "collapsed": true,
    "pycharm": {
     "name": "#%% md\n"
    }
   },
   "source": [
    "Ej 3)"
   ]
  },
  {
   "cell_type": "markdown",
   "metadata": {},
   "source": [
    "a) Promedio por producto con el siguiente formato (codigo de producto,\n",
    "promedio de ventas)"
   ]
  },
  {
   "cell_type": "code",
   "execution_count": 11,
   "metadata": {
    "pycharm": {
     "name": "#%%\n"
    }
   },
   "outputs": [
    {
     "data": {
      "text/plain": "Empty DataFrame\nColumns: []\nIndex: [(prod1, 12.0), (prod2, 32.0), (prod3, 30.0), (prod4, 38.0), (prod5, 30.0)]",
      "text/html": "<div>\n<style scoped>\n    .dataframe tbody tr th:only-of-type {\n        vertical-align: middle;\n    }\n\n    .dataframe tbody tr th {\n        vertical-align: top;\n    }\n\n    .dataframe thead th {\n        text-align: right;\n    }\n</style>\n<table border=\"1\" class=\"dataframe\">\n  <thead>\n    <tr style=\"text-align: right;\">\n      <th></th>\n      <th></th>\n    </tr>\n    <tr>\n      <th>Codigo producto</th>\n      <th>Promedio de ventas</th>\n    </tr>\n  </thead>\n  <tbody>\n    <tr>\n      <th>prod1</th>\n      <th>12.0</th>\n    </tr>\n    <tr>\n      <th>prod2</th>\n      <th>32.0</th>\n    </tr>\n    <tr>\n      <th>prod3</th>\n      <th>30.0</th>\n    </tr>\n    <tr>\n      <th>prod4</th>\n      <th>38.0</th>\n    </tr>\n    <tr>\n      <th>prod5</th>\n      <th>30.0</th>\n    </tr>\n  </tbody>\n</table>\n</div>"
     },
     "execution_count": 11,
     "metadata": {},
     "output_type": "execute_result"
    }
   ],
   "source": [
    "import pandas as pd\n",
    "\n",
    "df = pd.read_csv('/home/marcos/PycharmProjects/PracticaPandas/Ej3.csv')\n",
    "df.groupby(by='producto', as_index=False).agg({'ventas':'mean'}).\\\n",
    "    rename(columns={'producto':'Codigo producto', 'ventas':'Promedio de ventas'}).\\\n",
    "    set_index(['Codigo producto', 'Promedio de ventas'])\\"
   ]
  },
  {
   "cell_type": "markdown",
   "metadata": {},
   "source": [
    "b) Mínimo, Máximo y Promedio de ventas por producto con el formato\n",
    "(codigo de producto, ventas mensuales) donde min max y mean van para cada producto\n",
    "(o sea no con columnas)"
   ]
  },
  {
   "cell_type": "code",
   "execution_count": 12,
   "metadata": {
    "pycharm": {
     "name": "#%%\n"
    }
   },
   "outputs": [
    {
     "data": {
      "text/plain": "                                   \nprod1 Minimo ventas mensual    12.0\n      Maximo ventas mensual    12.0\n      Promedio ventas mensual  12.0\nprod2 Minimo ventas mensual    12.0\n      Maximo ventas mensual    51.0\n      Promedio ventas mensual  32.0\nprod3 Minimo ventas mensual    16.0\n      Maximo ventas mensual    51.0\n      Promedio ventas mensual  30.0\nprod4 Minimo ventas mensual    35.0\n      Maximo ventas mensual    41.0\n      Promedio ventas mensual  38.0\nprod5 Minimo ventas mensual    11.0\n      Maximo ventas mensual    61.0\n      Promedio ventas mensual  30.0",
      "text/html": "<div>\n<style scoped>\n    .dataframe tbody tr th:only-of-type {\n        vertical-align: middle;\n    }\n\n    .dataframe tbody tr th {\n        vertical-align: top;\n    }\n\n    .dataframe thead th {\n        text-align: right;\n    }\n</style>\n<table border=\"1\" class=\"dataframe\">\n  <thead>\n    <tr style=\"text-align: right;\">\n      <th></th>\n      <th></th>\n      <th></th>\n    </tr>\n  </thead>\n  <tbody>\n    <tr>\n      <th rowspan=\"3\" valign=\"top\">prod1</th>\n      <th>Minimo ventas mensual</th>\n      <td>12.0</td>\n    </tr>\n    <tr>\n      <th>Maximo ventas mensual</th>\n      <td>12.0</td>\n    </tr>\n    <tr>\n      <th>Promedio ventas mensual</th>\n      <td>12.0</td>\n    </tr>\n    <tr>\n      <th rowspan=\"3\" valign=\"top\">prod2</th>\n      <th>Minimo ventas mensual</th>\n      <td>12.0</td>\n    </tr>\n    <tr>\n      <th>Maximo ventas mensual</th>\n      <td>51.0</td>\n    </tr>\n    <tr>\n      <th>Promedio ventas mensual</th>\n      <td>32.0</td>\n    </tr>\n    <tr>\n      <th rowspan=\"3\" valign=\"top\">prod3</th>\n      <th>Minimo ventas mensual</th>\n      <td>16.0</td>\n    </tr>\n    <tr>\n      <th>Maximo ventas mensual</th>\n      <td>51.0</td>\n    </tr>\n    <tr>\n      <th>Promedio ventas mensual</th>\n      <td>30.0</td>\n    </tr>\n    <tr>\n      <th rowspan=\"3\" valign=\"top\">prod4</th>\n      <th>Minimo ventas mensual</th>\n      <td>35.0</td>\n    </tr>\n    <tr>\n      <th>Maximo ventas mensual</th>\n      <td>41.0</td>\n    </tr>\n    <tr>\n      <th>Promedio ventas mensual</th>\n      <td>38.0</td>\n    </tr>\n    <tr>\n      <th rowspan=\"3\" valign=\"top\">prod5</th>\n      <th>Minimo ventas mensual</th>\n      <td>11.0</td>\n    </tr>\n    <tr>\n      <th>Maximo ventas mensual</th>\n      <td>61.0</td>\n    </tr>\n    <tr>\n      <th>Promedio ventas mensual</th>\n      <td>30.0</td>\n    </tr>\n  </tbody>\n</table>\n</div>"
     },
     "execution_count": 12,
     "metadata": {},
     "output_type": "execute_result"
    }
   ],
   "source": [
    "df.groupby(by='producto', as_index=False).agg({'ventas':['min', 'max', 'mean']}).\\\n",
    "    set_index(['producto']).rename_axis(index=None).stack().rename(index={'min':'Minimo ventas mensual', 'max':'Maximo ventas mensual',\n",
    "                  'mean':'Promedio ventas mensual'}, columns={'ventas':''})"
   ]
  },
  {
   "cell_type": "markdown",
   "metadata": {
    "pycharm": {
     "name": "#%% md\n"
    }
   },
   "source": [
    "c) Mínimo, Máximo y Promedio de ventas por producto con el formato"
   ]
  },
  {
   "cell_type": "code",
   "execution_count": 13,
   "metadata": {
    "pycharm": {
     "name": "#%%\n"
    }
   },
   "outputs": [
    {
     "data": {
      "text/plain": "Empty DataFrame\nColumns: []\nIndex: [(prod1, 12.0, 12.0, 12.0), (prod2, 12.0, 51.0, 32.0), (prod3, 16.0, 51.0, 30.0), (prod4, 35.0, 41.0, 38.0), (prod5, 11.0, 61.0, 30.0)]",
      "text/html": "<div>\n<style scoped>\n    .dataframe tbody tr th:only-of-type {\n        vertical-align: middle;\n    }\n\n    .dataframe tbody tr th {\n        vertical-align: top;\n    }\n\n    .dataframe thead th {\n        text-align: right;\n    }\n</style>\n<table border=\"1\" class=\"dataframe\">\n  <thead>\n    <tr style=\"text-align: right;\">\n      <th></th>\n      <th></th>\n      <th></th>\n      <th></th>\n    </tr>\n    <tr>\n      <th>Codigo producto</th>\n      <th>Minimo ventas mensual</th>\n      <th>Maximo ventas mensual</th>\n      <th>Promedio ventas mensual</th>\n    </tr>\n  </thead>\n  <tbody>\n    <tr>\n      <th>prod1</th>\n      <th>12.0</th>\n      <th>12.0</th>\n      <th>12.0</th>\n    </tr>\n    <tr>\n      <th>prod2</th>\n      <th>12.0</th>\n      <th>51.0</th>\n      <th>32.0</th>\n    </tr>\n    <tr>\n      <th>prod3</th>\n      <th>16.0</th>\n      <th>51.0</th>\n      <th>30.0</th>\n    </tr>\n    <tr>\n      <th>prod4</th>\n      <th>35.0</th>\n      <th>41.0</th>\n      <th>38.0</th>\n    </tr>\n    <tr>\n      <th>prod5</th>\n      <th>11.0</th>\n      <th>61.0</th>\n      <th>30.0</th>\n    </tr>\n  </tbody>\n</table>\n</div>"
     },
     "execution_count": 13,
     "metadata": {},
     "output_type": "execute_result"
    }
   ],
   "source": [
    "df.groupby(by='producto').agg({'ventas':['min', 'max', 'mean']}).droplevel(0, axis=1).\\\n",
    "    reset_index().rename(columns={'producto':'Codigo producto', 'min':'Minimo ventas mensual', 'max':'Maximo ventas mensual',\n",
    "                  'mean':'Promedio ventas mensual'}).set_index(['Codigo producto', 'Minimo ventas mensual',\n",
    "                                                                                          'Maximo ventas mensual',\n",
    "                                                                                          'Promedio ventas mensual'])"
   ]
  },
  {
   "cell_type": "markdown",
   "metadata": {
    "pycharm": {
     "name": "#%% md\n"
    }
   },
   "source": [
    "d) Mínimo, Máximo y Promedio de ventas por producto con el formato"
   ]
  },
  {
   "cell_type": "code",
   "execution_count": 14,
   "metadata": {
    "pycharm": {
     "name": "#%%\n"
    }
   },
   "outputs": [
    {
     "data": {
      "text/plain": "                         prod1  prod2  prod3  prod4  prod5\nMinimo ventas mensual     12.0   12.0   16.0   35.0   11.0\nMaximo ventas mensual     12.0   51.0   51.0   41.0   61.0\nPromedio ventas mensual   12.0   32.0   30.0   38.0   30.0",
      "text/html": "<div>\n<style scoped>\n    .dataframe tbody tr th:only-of-type {\n        vertical-align: middle;\n    }\n\n    .dataframe tbody tr th {\n        vertical-align: top;\n    }\n\n    .dataframe thead th {\n        text-align: right;\n    }\n</style>\n<table border=\"1\" class=\"dataframe\">\n  <thead>\n    <tr style=\"text-align: right;\">\n      <th></th>\n      <th>prod1</th>\n      <th>prod2</th>\n      <th>prod3</th>\n      <th>prod4</th>\n      <th>prod5</th>\n    </tr>\n  </thead>\n  <tbody>\n    <tr>\n      <th>Minimo ventas mensual</th>\n      <td>12.0</td>\n      <td>12.0</td>\n      <td>16.0</td>\n      <td>35.0</td>\n      <td>11.0</td>\n    </tr>\n    <tr>\n      <th>Maximo ventas mensual</th>\n      <td>12.0</td>\n      <td>51.0</td>\n      <td>51.0</td>\n      <td>41.0</td>\n      <td>61.0</td>\n    </tr>\n    <tr>\n      <th>Promedio ventas mensual</th>\n      <td>12.0</td>\n      <td>32.0</td>\n      <td>30.0</td>\n      <td>38.0</td>\n      <td>30.0</td>\n    </tr>\n  </tbody>\n</table>\n</div>"
     },
     "execution_count": 14,
     "metadata": {},
     "output_type": "execute_result"
    }
   ],
   "source": [
    "df.groupby(by='producto').agg({'ventas':['min', 'max', 'mean']}).droplevel(0, axis=1)\\\n",
    "    .rename_axis('').transpose().rename(index={'min':'Minimo ventas mensual', 'max':'Maximo ventas mensual',\n",
    "                  'mean':'Promedio ventas mensual'})\n"
   ]
  },
  {
   "cell_type": "markdown",
   "source": [
    "e) Qué productos son provistos por los distintos fabricantes, indicando True/False\n",
    "con el siguiente formato:"
   ],
   "metadata": {
    "collapsed": false
   }
  },
  {
   "cell_type": "code",
   "execution_count": 15,
   "outputs": [
    {
     "data": {
      "text/plain": "       fabr1  fabr2  fabr3  fabr4  fabr5\nprod1   True  False   True  False  False\nprod2   True   True   True   True   True\nprod3  False   True   True  False   True\nprod4  False   True  False   True  False\nprod5   True  False   True   True  False",
      "text/html": "<div>\n<style scoped>\n    .dataframe tbody tr th:only-of-type {\n        vertical-align: middle;\n    }\n\n    .dataframe tbody tr th {\n        vertical-align: top;\n    }\n\n    .dataframe thead th {\n        text-align: right;\n    }\n</style>\n<table border=\"1\" class=\"dataframe\">\n  <thead>\n    <tr style=\"text-align: right;\">\n      <th></th>\n      <th>fabr1</th>\n      <th>fabr2</th>\n      <th>fabr3</th>\n      <th>fabr4</th>\n      <th>fabr5</th>\n    </tr>\n  </thead>\n  <tbody>\n    <tr>\n      <th>prod1</th>\n      <td>True</td>\n      <td>False</td>\n      <td>True</td>\n      <td>False</td>\n      <td>False</td>\n    </tr>\n    <tr>\n      <th>prod2</th>\n      <td>True</td>\n      <td>True</td>\n      <td>True</td>\n      <td>True</td>\n      <td>True</td>\n    </tr>\n    <tr>\n      <th>prod3</th>\n      <td>False</td>\n      <td>True</td>\n      <td>True</td>\n      <td>False</td>\n      <td>True</td>\n    </tr>\n    <tr>\n      <th>prod4</th>\n      <td>False</td>\n      <td>True</td>\n      <td>False</td>\n      <td>True</td>\n      <td>False</td>\n    </tr>\n    <tr>\n      <th>prod5</th>\n      <td>True</td>\n      <td>False</td>\n      <td>True</td>\n      <td>True</td>\n      <td>False</td>\n    </tr>\n  </tbody>\n</table>\n</div>"
     },
     "execution_count": 15,
     "metadata": {},
     "output_type": "execute_result"
    }
   ],
   "source": [
    "newDf = pd.crosstab(df['producto'], df['fabricante']).astype('bool').rename_axis(index=None, columns=None)\n",
    "newDf"
   ],
   "metadata": {
    "collapsed": false,
    "pycharm": {
     "name": "#%%\n"
    }
   }
  }
 ],
 "metadata": {
  "kernelspec": {
   "display_name": "Python 3",
   "language": "python",
   "name": "python3"
  },
  "language_info": {
   "codemirror_mode": {
    "name": "ipython",
    "version": 3
   },
   "file_extension": ".py",
   "mimetype": "text/x-python",
   "name": "python",
   "nbconvert_exporter": "python",
   "pygments_lexer": "ipython3",
   "version": "3.8.3"
  }
 },
 "nbformat": 4,
 "nbformat_minor": 1
}