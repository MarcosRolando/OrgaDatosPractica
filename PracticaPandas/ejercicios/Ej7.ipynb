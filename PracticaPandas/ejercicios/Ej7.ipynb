{
 "cells": [
  {
   "cell_type": "markdown",
   "metadata": {
    "collapsed": true,
    "pycharm": {
     "name": "#%% md\n"
    }
   },
   "source": [
    "7-  Dada la exitosa convocatoria de los Juegos Olímpicos de la Juventud por\n",
    "parte del público, sus organizadores realizan distintos análisis para planificar\n",
    "las jornadas finales del certamen. Es por ello que cuentan con información en los\n",
    "siguientes archivos csv: eventos.csv (id_evento, fecha, id_locacion, nombre_evento,\n",
    "id_categoria_deportiva, cantidad_espectadores) locacion.csv (id_locacion, nombre,\n",
    "capacidad, capacidad_extendida, sede, latitud, longitud) categorias_deportivas.csv\n",
    "(id_categoria_deportiva, nombre, año_de_adopcion)\n",
    "\n",
    "El primer archivo cuenta con información de los eventos, indicando la fecha\n",
    "(en formato “YYYY-mm-dd hh:mm:ss”), el lugar donde ocurrió (id_locacion) y la\n",
    "cantidad de espectadores que asistieron. Además se aporta información sobre la\n",
    "categoría deportiva a la cual pertenece el evento.\n",
    "\n",
    "Por otro lado se tiene información sobre las distintas locaciones en la sedes\n",
    "del certamen en las que ocurrieron los eventos. Contamos con información de su\n",
    "capacidad total de espectadores así como de su capacidad extendida\n",
    "(cuantos asientos extras se pueden brindar sobre la capacidad de la locación).\n",
    "\n",
    "Se desea obtener:\n",
    "\n",
    "a) Nombre de la sede que acumuló la mayor cantidad de espectadores en eventos\n",
    "durante el certamen del 14 al 15 de octubre inclusive. Esto es de vital\n",
    "importancia para distribuir el merchandising oficial del evento, para las fechas\n",
    "finales."
   ]
  },
  {
   "cell_type": "code",
   "execution_count": 109,
   "metadata": {
    "pycharm": {
     "name": "#%%\n"
    }
   },
   "outputs": [
    {
     "data": {
      "text/html": [
       "<div>\n",
       "<style scoped>\n",
       "    .dataframe tbody tr th:only-of-type {\n",
       "        vertical-align: middle;\n",
       "    }\n",
       "\n",
       "    .dataframe tbody tr th {\n",
       "        vertical-align: top;\n",
       "    }\n",
       "\n",
       "    .dataframe thead th {\n",
       "        text-align: right;\n",
       "    }\n",
       "</style>\n",
       "<table border=\"1\" class=\"dataframe\">\n",
       "  <thead>\n",
       "    <tr style=\"text-align: right;\">\n",
       "      <th></th>\n",
       "      <th>sede</th>\n",
       "    </tr>\n",
       "    <tr>\n",
       "      <th>id_locacion</th>\n",
       "      <th></th>\n",
       "    </tr>\n",
       "  </thead>\n",
       "  <tbody>\n",
       "    <tr>\n",
       "      <th>3</th>\n",
       "      <td>hykyyfr</td>\n",
       "    </tr>\n",
       "  </tbody>\n",
       "</table>\n",
       "</div>"
      ],
      "text/plain": [
       "                sede\n",
       "id_locacion         \n",
       "3            hykyyfr"
      ]
     },
     "execution_count": 109,
     "metadata": {},
     "output_type": "execute_result"
    }
   ],
   "source": [
    "import pandas as pd\n",
    "\n",
    "eventsDf = pd.read_csv('/home/marcos/PycharmProjects/PracticaPandas/eventos.csv')\n",
    "locationsDf = pd.read_csv('/home/marcos/PycharmProjects/PracticaPandas/locacion.csv')\n",
    "\n",
    "eventsDf['fecha'] = pd.to_datetime(eventsDf['fecha'], errors='coerce', format='%Y-%m-%d %H:%M:%S')\n",
    "events14to15OCt = eventsDf[(eventsDf['fecha'].dt.month == 10) & ((eventsDf['fecha'].dt.day == 14)\n",
    "                            | (eventsDf['fecha'].dt.day == 15))]\n",
    "locationWithMostSpect = events14to15OCt.groupby(by='id_locacion')\\\n",
    "                .agg({'cantidad_espectadores':'sum'}).nlargest(1, columns='cantidad_espectadores', keep='all')\n",
    "locationsDf.set_index('id_locacion').loc[locationWithMostSpect.index, 'sede'].to_frame()"
   ]
  },
  {
   "cell_type": "markdown",
   "metadata": {
    "pycharm": {
     "name": "#%% md\n"
    }
   },
   "source": [
    "b) Nombre del evento y nombre de la categoría deportiva de aquellos eventos cuya\n",
    "cantidad de espectadores superó la capacidad de la locación, más allá de la\n",
    "capacidad extendida. Esto es de vital importancia para detectar problemas de\n",
    "seguridad o si es necesario realizar algún cambio de locación."
   ]
  },
  {
   "cell_type": "code",
   "execution_count": 110,
   "metadata": {
    "pycharm": {
     "name": "#%%\n"
    }
   },
   "outputs": [
    {
     "data": {
      "text/html": [
       "<div>\n",
       "<style scoped>\n",
       "    .dataframe tbody tr th:only-of-type {\n",
       "        vertical-align: middle;\n",
       "    }\n",
       "\n",
       "    .dataframe tbody tr th {\n",
       "        vertical-align: top;\n",
       "    }\n",
       "\n",
       "    .dataframe thead th {\n",
       "        text-align: right;\n",
       "    }\n",
       "</style>\n",
       "<table border=\"1\" class=\"dataframe\">\n",
       "  <thead>\n",
       "    <tr style=\"text-align: right;\">\n",
       "      <th></th>\n",
       "      <th>evento</th>\n",
       "      <th>categoria_deportiva</th>\n",
       "    </tr>\n",
       "  </thead>\n",
       "  <tbody>\n",
       "    <tr>\n",
       "      <th>0</th>\n",
       "      <td>imsvutaczu</td>\n",
       "      <td>wrgjziyzap</td>\n",
       "    </tr>\n",
       "    <tr>\n",
       "      <th>1</th>\n",
       "      <td>wdobrn</td>\n",
       "      <td>wrgjziyzap</td>\n",
       "    </tr>\n",
       "    <tr>\n",
       "      <th>2</th>\n",
       "      <td>pfuqyp</td>\n",
       "      <td>wrgjziyzap</td>\n",
       "    </tr>\n",
       "    <tr>\n",
       "      <th>3</th>\n",
       "      <td>pwtfvrgrqr</td>\n",
       "      <td>wrgjziyzap</td>\n",
       "    </tr>\n",
       "    <tr>\n",
       "      <th>4</th>\n",
       "      <td>wpijie</td>\n",
       "      <td>wrgjziyzap</td>\n",
       "    </tr>\n",
       "    <tr>\n",
       "      <th>...</th>\n",
       "      <td>...</td>\n",
       "      <td>...</td>\n",
       "    </tr>\n",
       "    <tr>\n",
       "      <th>227</th>\n",
       "      <td>ylrnxgmzfo</td>\n",
       "      <td>isfoq</td>\n",
       "    </tr>\n",
       "    <tr>\n",
       "      <th>228</th>\n",
       "      <td>yohajmwqwh</td>\n",
       "      <td>isfoq</td>\n",
       "    </tr>\n",
       "    <tr>\n",
       "      <th>229</th>\n",
       "      <td>hoxwwrxwzk</td>\n",
       "      <td>isfoq</td>\n",
       "    </tr>\n",
       "    <tr>\n",
       "      <th>230</th>\n",
       "      <td>urzzliafph</td>\n",
       "      <td>isfoq</td>\n",
       "    </tr>\n",
       "    <tr>\n",
       "      <th>231</th>\n",
       "      <td>vvplp</td>\n",
       "      <td>isfoq</td>\n",
       "    </tr>\n",
       "  </tbody>\n",
       "</table>\n",
       "<p>232 rows × 2 columns</p>\n",
       "</div>"
      ],
      "text/plain": [
       "         evento categoria_deportiva\n",
       "0    imsvutaczu          wrgjziyzap\n",
       "1        wdobrn          wrgjziyzap\n",
       "2        pfuqyp          wrgjziyzap\n",
       "3    pwtfvrgrqr          wrgjziyzap\n",
       "4        wpijie          wrgjziyzap\n",
       "..          ...                 ...\n",
       "227  ylrnxgmzfo               isfoq\n",
       "228  yohajmwqwh               isfoq\n",
       "229  hoxwwrxwzk               isfoq\n",
       "230  urzzliafph               isfoq\n",
       "231       vvplp               isfoq\n",
       "\n",
       "[232 rows x 2 columns]"
      ]
     },
     "execution_count": 110,
     "metadata": {},
     "output_type": "execute_result"
    }
   ],
   "source": [
    "categoryDf = pd.read_csv('/home/marcos/PycharmProjects/PracticaPandas/categorias_deportivas.csv')\n",
    "eventsWithMaxCap = eventsDf.merge(locationsDf[['id_locacion', 'capacidad_extendida']], how='inner', on='id_locacion')\n",
    "eventsWithMaxCap = eventsWithMaxCap[eventsWithMaxCap['cantidad_espectadores'] > eventsWithMaxCap['capacidad_extendida']]\n",
    "eventsWithMaxCap = eventsWithMaxCap[['nombre_evento', 'id_categoria_deportiva']]\n",
    "categoryDf.drop(columns='anio_de_adopcion', inplace=True)\n",
    "eventsWithMaxCap = eventsWithMaxCap.merge(categoryDf, how='inner', on='id_categoria_deportiva')\n",
    "eventsWithMaxCap.drop(columns='id_categoria_deportiva', inplace=True)\n",
    "eventsWithMaxCap.rename(columns={'nombre_evento':'evento', 'nombre':'categoria_deportiva'})"
   ]
  }
 ],
 "metadata": {
  "kernelspec": {
   "display_name": "Python 3",
   "language": "python",
   "name": "python3"
  },
  "language_info": {
   "codemirror_mode": {
    "name": "ipython",
    "version": 3
   },
   "file_extension": ".py",
   "mimetype": "text/x-python",
   "name": "python",
   "nbconvert_exporter": "python",
   "pygments_lexer": "ipython3",
   "version": "3.8.3"
  }
 },
 "nbformat": 4,
 "nbformat_minor": 1
}