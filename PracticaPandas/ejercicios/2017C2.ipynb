{
 "cells": [
  {
   "cell_type": "markdown",
   "metadata": {
    "collapsed": true,
    "pycharm": {
     "name": "#%% md\n"
    }
   },
   "source": [
    "Ej) Tenemos un dataframe con la información de distintas playlists armadas por\n",
    "usuarios con el formato (playlist, song_id, description).\n",
    "\n",
    "A su vez, contamos con un dataframe de canciones que contiene\n",
    "(song_id, singer, year, lenght, genres). Se pide generar un programa en Pandas\n",
    "que indique para cada playlist cual es el cantante predominante\n",
    "(con mas canciones incluidas dentro de esa lista)\n",
    "\n",
    "\n",
    "UNA FORMA ALTERNATIVA como vimos en clase es mergear la columna\n",
    "del nombre del cantante para cada id con merge y listo, pero queria\n",
    "probar con un diccionario"
   ]
  },
  {
   "cell_type": "code",
   "execution_count": 7,
   "outputs": [
    {
     "data": {
      "text/plain": "              singer\nplaylist            \nPlaylist 1   Marcelo\nPlaylist 10    Riana\nPlaylist 2   Marcelo\nPlaylist 3   Marcelo\nPlaylist 4     Riana\nPlaylist 5   Marcelo\nPlaylist 6     Riana\nPlaylist 7     Riana\nPlaylist 8     Riana\nPlaylist 9     Riana",
      "text/html": "<div>\n<style scoped>\n    .dataframe tbody tr th:only-of-type {\n        vertical-align: middle;\n    }\n\n    .dataframe tbody tr th {\n        vertical-align: top;\n    }\n\n    .dataframe thead th {\n        text-align: right;\n    }\n</style>\n<table border=\"1\" class=\"dataframe\">\n  <thead>\n    <tr style=\"text-align: right;\">\n      <th></th>\n      <th>singer</th>\n    </tr>\n    <tr>\n      <th>playlist</th>\n      <th></th>\n    </tr>\n  </thead>\n  <tbody>\n    <tr>\n      <th>Playlist 1</th>\n      <td>Marcelo</td>\n    </tr>\n    <tr>\n      <th>Playlist 10</th>\n      <td>Riana</td>\n    </tr>\n    <tr>\n      <th>Playlist 2</th>\n      <td>Marcelo</td>\n    </tr>\n    <tr>\n      <th>Playlist 3</th>\n      <td>Marcelo</td>\n    </tr>\n    <tr>\n      <th>Playlist 4</th>\n      <td>Riana</td>\n    </tr>\n    <tr>\n      <th>Playlist 5</th>\n      <td>Marcelo</td>\n    </tr>\n    <tr>\n      <th>Playlist 6</th>\n      <td>Riana</td>\n    </tr>\n    <tr>\n      <th>Playlist 7</th>\n      <td>Riana</td>\n    </tr>\n    <tr>\n      <th>Playlist 8</th>\n      <td>Riana</td>\n    </tr>\n    <tr>\n      <th>Playlist 9</th>\n      <td>Riana</td>\n    </tr>\n  </tbody>\n</table>\n</div>"
     },
     "execution_count": 7,
     "metadata": {},
     "output_type": "execute_result"
    }
   ],
   "source": [
    "import pandas as pd\n",
    "\n",
    "playlistsDf = pd.read_csv('/home/marcos/PycharmProjects/PracticaPandas/playlists.csv')\n",
    "singersDf = pd.read_csv('/home/marcos/PycharmProjects/PracticaPandas/singers.csv')\n",
    "\n",
    "songsToSingers = pd.Series(singersDf['singer'].values, index=singersDf['song_id']).to_dict()\n",
    "playlistsStats = playlistsDf.replace({'song_id':songsToSingers}).\\\n",
    "                rename(columns={'song_id':'singer'}).drop(columns='description')\n",
    "playlistsStats = playlistsStats.groupby(by='playlist').agg({'singer':lambda x: x.mode()})\n",
    "playlistsStats\n",
    "\n",
    "\n",
    "#FORMA ALTERNATIVA, A LO DEL MAZO\n",
    "#playlistsDf.merge(singersDf[['song_id', 'singer']], how='left', on='song_id') \\\n",
    " #           .groupby('playlist')['singer'].agg(lambda x:x.mode()).to_frame()"
   ],
   "metadata": {
    "collapsed": false,
    "pycharm": {
     "name": "#%%\n"
    }
   }
  }
 ],
 "metadata": {
  "kernelspec": {
   "display_name": "Python 3",
   "language": "python",
   "name": "python3"
  },
  "language_info": {
   "codemirror_mode": {
    "name": "ipython",
    "version": 2
   },
   "file_extension": ".py",
   "mimetype": "text/x-python",
   "name": "python",
   "nbconvert_exporter": "python",
   "pygments_lexer": "ipython2",
   "version": "2.7.6"
  }
 },
 "nbformat": 4,
 "nbformat_minor": 0
}