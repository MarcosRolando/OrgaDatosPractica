{
 "cells": [
  {
   "cell_type": "markdown",
   "metadata": {
    "collapsed": true,
    "pycharm": {
     "name": "#%% md\n"
    }
   },
   "source": [
    "9) Un importante broker de compra y venta de vehiculos online se encuentra dando\n",
    "sus primeros pasos en la preparación de su algoritmo de pricing, es por eso que\n",
    "se encuentra generando algunos features iniciales para experimentar con distintos\n",
    "algoritmos de machine learning.\n",
    "\n",
    "Para ello cuenta con un archivo con información de todas las transacciones que\n",
    "tuvo en su primer año de operación en el formato (transaction_id, timestamp, vehicle_model_id, price).\n",
    "Por otro lado cuenta con información que fue extrayendo a partir de scrapping\n",
    "durante el último año en el formato (timestamp, source, vehicle_model_id, price).\n",
    "La información puede venir de múltiples fuentes (source), que pueden ser por ejemplo\n",
    "distintos sitios de marketplace o clasificados.\n",
    "\n",
    "Luego de un intenso trabajo previo ha podido unificar los modelos de vehículos\n",
    "que utiliza para sus transacciones con la información que ha podido obtener de\n",
    "otros competidores mediante scrapping. Muchos de los modelos disponibles en la\n",
    "información de scrapping no han sido aún comercializados por la empresa, pero\n",
    "se sabe que se cuenta con precios scrapeados de todos los modelos que se vendieron.\n",
    "\n",
    "Se pide generar utilizando Pandas un dataframe que tenga el siguiente formato\n",
    "(vehicle_model_id, ext_mean_price, ext_std_price, int_mean_price, int_std_price), siendo:\n",
    "\n",
    "- mean_price: precio promedio para ese vehículo.\n",
    "- std_price: desvío estándar del precio para ese vehículo.\n",
    "\n",
    "y los prefijo ext_ y int_ indicando que deben ser calculado sobre respectivamente datos externos (los obtenido vía scraping) y datos internos (los de las transacciones)."
   ]
  },
  {
   "cell_type": "code",
   "execution_count": 63,
   "outputs": [
    {
     "data": {
      "text/plain": "                  ext_mean_price  ext_std_price  int_mean_price  int_std_price\nvehicle_model_id                                                              \n1                   19505.465116    5845.471716    20078.250000    5798.055042\n2                   18816.510204    5373.395141    20501.314286    6245.863488\n3                   18997.257576    6335.407279    18966.424242    6094.858315\n4                   18832.878049    5644.847833    19200.529412    6119.948096\n5                   19572.711864    5738.358714    20377.661538    5425.257601\n6                   20403.929825    6494.808979    19546.436364    5595.464790\n7                   19138.159091    5865.163238    19276.192308    6275.801068\n8                   18991.860465    5921.530841    19706.916667    5917.786769\n9                   21621.633333    5309.819432    19847.081967    5716.994946\n10                  20813.673469    6227.009520    19712.300000    6100.161250\n11                  19757.075472    5001.238927    19848.384615    6239.829400\n12                  19196.687500    6801.565124    20883.981818    6125.275917\n13                  18101.106383    5106.950746    20643.962963    5733.869960\n14                  20158.437500    5838.229059    19781.121622    5849.717946\n15                  19904.854167    5698.046519    19677.081081    5711.666541\n16                  20812.980769    6139.484664             NaN            NaN\n17                  19964.219512    5294.491267             NaN            NaN\n18                  20731.440000    6010.863543             NaN            NaN\n19                  19258.962963    5590.808424             NaN            NaN\n20                  21096.625000    6094.609312             NaN            NaN",
      "text/html": "<div>\n<style scoped>\n    .dataframe tbody tr th:only-of-type {\n        vertical-align: middle;\n    }\n\n    .dataframe tbody tr th {\n        vertical-align: top;\n    }\n\n    .dataframe thead th {\n        text-align: right;\n    }\n</style>\n<table border=\"1\" class=\"dataframe\">\n  <thead>\n    <tr style=\"text-align: right;\">\n      <th></th>\n      <th>ext_mean_price</th>\n      <th>ext_std_price</th>\n      <th>int_mean_price</th>\n      <th>int_std_price</th>\n    </tr>\n    <tr>\n      <th>vehicle_model_id</th>\n      <th></th>\n      <th></th>\n      <th></th>\n      <th></th>\n    </tr>\n  </thead>\n  <tbody>\n    <tr>\n      <th>1</th>\n      <td>19505.465116</td>\n      <td>5845.471716</td>\n      <td>20078.250000</td>\n      <td>5798.055042</td>\n    </tr>\n    <tr>\n      <th>2</th>\n      <td>18816.510204</td>\n      <td>5373.395141</td>\n      <td>20501.314286</td>\n      <td>6245.863488</td>\n    </tr>\n    <tr>\n      <th>3</th>\n      <td>18997.257576</td>\n      <td>6335.407279</td>\n      <td>18966.424242</td>\n      <td>6094.858315</td>\n    </tr>\n    <tr>\n      <th>4</th>\n      <td>18832.878049</td>\n      <td>5644.847833</td>\n      <td>19200.529412</td>\n      <td>6119.948096</td>\n    </tr>\n    <tr>\n      <th>5</th>\n      <td>19572.711864</td>\n      <td>5738.358714</td>\n      <td>20377.661538</td>\n      <td>5425.257601</td>\n    </tr>\n    <tr>\n      <th>6</th>\n      <td>20403.929825</td>\n      <td>6494.808979</td>\n      <td>19546.436364</td>\n      <td>5595.464790</td>\n    </tr>\n    <tr>\n      <th>7</th>\n      <td>19138.159091</td>\n      <td>5865.163238</td>\n      <td>19276.192308</td>\n      <td>6275.801068</td>\n    </tr>\n    <tr>\n      <th>8</th>\n      <td>18991.860465</td>\n      <td>5921.530841</td>\n      <td>19706.916667</td>\n      <td>5917.786769</td>\n    </tr>\n    <tr>\n      <th>9</th>\n      <td>21621.633333</td>\n      <td>5309.819432</td>\n      <td>19847.081967</td>\n      <td>5716.994946</td>\n    </tr>\n    <tr>\n      <th>10</th>\n      <td>20813.673469</td>\n      <td>6227.009520</td>\n      <td>19712.300000</td>\n      <td>6100.161250</td>\n    </tr>\n    <tr>\n      <th>11</th>\n      <td>19757.075472</td>\n      <td>5001.238927</td>\n      <td>19848.384615</td>\n      <td>6239.829400</td>\n    </tr>\n    <tr>\n      <th>12</th>\n      <td>19196.687500</td>\n      <td>6801.565124</td>\n      <td>20883.981818</td>\n      <td>6125.275917</td>\n    </tr>\n    <tr>\n      <th>13</th>\n      <td>18101.106383</td>\n      <td>5106.950746</td>\n      <td>20643.962963</td>\n      <td>5733.869960</td>\n    </tr>\n    <tr>\n      <th>14</th>\n      <td>20158.437500</td>\n      <td>5838.229059</td>\n      <td>19781.121622</td>\n      <td>5849.717946</td>\n    </tr>\n    <tr>\n      <th>15</th>\n      <td>19904.854167</td>\n      <td>5698.046519</td>\n      <td>19677.081081</td>\n      <td>5711.666541</td>\n    </tr>\n    <tr>\n      <th>16</th>\n      <td>20812.980769</td>\n      <td>6139.484664</td>\n      <td>NaN</td>\n      <td>NaN</td>\n    </tr>\n    <tr>\n      <th>17</th>\n      <td>19964.219512</td>\n      <td>5294.491267</td>\n      <td>NaN</td>\n      <td>NaN</td>\n    </tr>\n    <tr>\n      <th>18</th>\n      <td>20731.440000</td>\n      <td>6010.863543</td>\n      <td>NaN</td>\n      <td>NaN</td>\n    </tr>\n    <tr>\n      <th>19</th>\n      <td>19258.962963</td>\n      <td>5590.808424</td>\n      <td>NaN</td>\n      <td>NaN</td>\n    </tr>\n    <tr>\n      <th>20</th>\n      <td>21096.625000</td>\n      <td>6094.609312</td>\n      <td>NaN</td>\n      <td>NaN</td>\n    </tr>\n  </tbody>\n</table>\n</div>"
     },
     "execution_count": 63,
     "metadata": {},
     "output_type": "execute_result"
    }
   ],
   "source": [
    "import pandas as pd\n",
    "\n",
    "intDf = pd.read_csv('/home/marcos/PycharmProjects/PracticaPandas/internal.csv')\n",
    "extDf = pd.read_csv('/home/marcos/PycharmProjects/PracticaPandas/scrapping.csv')\n",
    "\n",
    "internalStats = intDf.groupby(by='vehicle_model_id').agg({'price':['mean', 'std']})\n",
    "externalStats = extDf.groupby(by='vehicle_model_id').agg({'price':['mean', 'std']})\n",
    "\n",
    "stats = externalStats.merge(internalStats, how='outer', on='vehicle_model_id')\n",
    "stats.columns = ['ext_mean_price', 'ext_std_price', 'int_mean_price', 'int_std_price']\n",
    "stats\n",
    "#stats.rename({('price_x', 'mean'):('price_x', 'a')})\n",
    "#stats.columns"
   ],
   "metadata": {
    "collapsed": false,
    "pycharm": {
     "name": "#%%\n"
    }
   }
  }
 ],
 "metadata": {
  "kernelspec": {
   "display_name": "Python 3",
   "language": "python",
   "name": "python3"
  },
  "language_info": {
   "codemirror_mode": {
    "name": "ipython",
    "version": 2
   },
   "file_extension": ".py",
   "mimetype": "text/x-python",
   "name": "python",
   "nbconvert_exporter": "python",
   "pygments_lexer": "ipython2",
   "version": "2.7.6"
  }
 },
 "nbformat": 4,
 "nbformat_minor": 0
}