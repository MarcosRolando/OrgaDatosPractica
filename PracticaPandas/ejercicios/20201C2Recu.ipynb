{
 "cells": [
  {
   "cell_type": "markdown",
   "metadata": {
    "collapsed": true,
    "pycharm": {
     "name": "#%% md\n"
    }
   },
   "source": [
    "2) Mercadodesregulado tiene un dataframe de ventas\n",
    "(id_producto, id_comprador, id_vendedor, pais,\n",
    "tiene_reclamo, año, mes, precio_local)\n",
    "y uno de productos (id_producto, titulo, categoria),\n",
    "quiere conocer:  /*asumo que el tiene_reclamo es un campo booleano donde 1 es que tiene reclamo y 0 que no*/\n",
    "\n",
    "a) Los peores vendedores, aquellos cuya tasa de\n",
    "reclamos sea mayor a 0.3, para retirarlos de la\n",
    "plataforma (10 ptos)"
   ]
  },
  {
   "cell_type": "code",
   "execution_count": 106,
   "outputs": [
    {
     "data": {
      "text/plain": "             tasa_reclamo\nid_vendedor              \n1                0.545455\n2                0.490566\n3                0.489362\n4                0.428571\n5                0.510204\n6                0.414634\n7                0.564516\n8                0.595238\n9                0.547170\n10               0.418605\n11               0.532258\n12               0.500000\n13               0.396226\n14               0.454545\n15               0.553191\n16               0.540984\n17               0.641026\n18               0.500000\n19               0.581395\n20               0.589286",
      "text/html": "<div>\n<style scoped>\n    .dataframe tbody tr th:only-of-type {\n        vertical-align: middle;\n    }\n\n    .dataframe tbody tr th {\n        vertical-align: top;\n    }\n\n    .dataframe thead th {\n        text-align: right;\n    }\n</style>\n<table border=\"1\" class=\"dataframe\">\n  <thead>\n    <tr style=\"text-align: right;\">\n      <th></th>\n      <th>tasa_reclamo</th>\n    </tr>\n    <tr>\n      <th>id_vendedor</th>\n      <th></th>\n    </tr>\n  </thead>\n  <tbody>\n    <tr>\n      <th>1</th>\n      <td>0.545455</td>\n    </tr>\n    <tr>\n      <th>2</th>\n      <td>0.490566</td>\n    </tr>\n    <tr>\n      <th>3</th>\n      <td>0.489362</td>\n    </tr>\n    <tr>\n      <th>4</th>\n      <td>0.428571</td>\n    </tr>\n    <tr>\n      <th>5</th>\n      <td>0.510204</td>\n    </tr>\n    <tr>\n      <th>6</th>\n      <td>0.414634</td>\n    </tr>\n    <tr>\n      <th>7</th>\n      <td>0.564516</td>\n    </tr>\n    <tr>\n      <th>8</th>\n      <td>0.595238</td>\n    </tr>\n    <tr>\n      <th>9</th>\n      <td>0.547170</td>\n    </tr>\n    <tr>\n      <th>10</th>\n      <td>0.418605</td>\n    </tr>\n    <tr>\n      <th>11</th>\n      <td>0.532258</td>\n    </tr>\n    <tr>\n      <th>12</th>\n      <td>0.500000</td>\n    </tr>\n    <tr>\n      <th>13</th>\n      <td>0.396226</td>\n    </tr>\n    <tr>\n      <th>14</th>\n      <td>0.454545</td>\n    </tr>\n    <tr>\n      <th>15</th>\n      <td>0.553191</td>\n    </tr>\n    <tr>\n      <th>16</th>\n      <td>0.540984</td>\n    </tr>\n    <tr>\n      <th>17</th>\n      <td>0.641026</td>\n    </tr>\n    <tr>\n      <th>18</th>\n      <td>0.500000</td>\n    </tr>\n    <tr>\n      <th>19</th>\n      <td>0.581395</td>\n    </tr>\n    <tr>\n      <th>20</th>\n      <td>0.589286</td>\n    </tr>\n  </tbody>\n</table>\n</div>"
     },
     "execution_count": 106,
     "metadata": {},
     "output_type": "execute_result"
    }
   ],
   "source": [
    "import pandas as pd\n",
    "\n",
    "salesDf = pd.read_csv('/home/marcos/PycharmProjects/PracticaPandas/ventas.csv')\n",
    "productsDf = pd.read_csv('/home/marcos/PycharmProjects/PracticaPandas/productos.csv')\n",
    "\n",
    "worstSalesMen = salesDf.groupby(by='id_vendedor').agg({'tiene_reclamo':'mean'})\\\n",
    "                .rename(columns={'tiene_reclamo':'tasa_reclamo'})\n",
    "worstSalesMen = worstSalesMen[worstSalesMen['tasa_reclamo'] > 0.3]\n",
    "worstSalesMen"
   ],
   "metadata": {
    "collapsed": false,
    "pycharm": {
     "name": "#%%\n"
    }
   }
  },
  {
   "cell_type": "markdown",
   "source": [
    "b) El smartphone cuya cantidad de ventas se redujera\n",
    "más en diciembre de 2019 respecto de diciembre de\n",
    "2018 (10 ptos)"
   ],
   "metadata": {
    "collapsed": false
   }
  },
  {
   "cell_type": "code",
   "source": [
    "smartphonesId = productsDf[productsDf['categoria'] == 'Smartphone']\n",
    "smartphonesSales = salesDf[['id_producto', 'anio', 'mes']].merge(smartphonesId[['id_producto', 'titulo']], how='inner', on='id_producto')\n",
    "smartphonesSales2018 = smartphonesSales[(smartphonesSales['anio'] == 2018) & (smartphonesSales['mes'] == 12)]\n",
    "smartphonesSales2019 = smartphonesSales[(smartphonesSales['anio'] == 2019) & (smartphonesSales['mes'] == 12)]\n",
    "(smartphonesSales2019['titulo'].value_counts()\n",
    " - smartphonesSales2018['titulo'].value_counts()).nsmallest(1, keep='all')"
   ],
   "metadata": {
    "collapsed": false,
    "pycharm": {
     "name": "#%%\n"
    }
   },
   "execution_count": 107,
   "outputs": [
    {
     "data": {
      "text/plain": "qotsn    -1.0\ntpmvsh   -1.0\nName: titulo, dtype: float64"
     },
     "execution_count": 107,
     "metadata": {},
     "output_type": "execute_result"
    }
   ]
  },
  {
   "cell_type": "markdown",
   "source": [
    "c) Se observa que la mayoría de los peores vendedores\n",
    "retirados de la plataforma con la consulta de (a) son\n",
    "producto de la llamada \"ecuación más peligrosa de la\n",
    "historia\" o “ecuación de Demoivre”.\n",
    "Proponga una mejora a la consulta para mitigar esto.\n",
    "(5 ptos)\n",
    "\n",
    "Resolver utilizando Pandas (25pts)"
   ],
   "metadata": {
    "collapsed": false
   }
  },
  {
   "cell_type": "markdown",
   "source": [
    "Podrias calcular el valor medio de ventas y aplicar el criterio solo sobre aquellos\n",
    "que superen el valor medio de ventas."
   ],
   "metadata": {
    "collapsed": false,
    "pycharm": {
     "name": "#%% md\n"
    }
   }
  }
 ],
 "metadata": {
  "kernelspec": {
   "display_name": "Python 3",
   "language": "python",
   "name": "python3"
  },
  "language_info": {
   "codemirror_mode": {
    "name": "ipython",
    "version": 2
   },
   "file_extension": ".py",
   "mimetype": "text/x-python",
   "name": "python",
   "nbconvert_exporter": "python",
   "pygments_lexer": "ipython2",
   "version": "2.7.6"
  }
 },
 "nbformat": 4,
 "nbformat_minor": 0
}