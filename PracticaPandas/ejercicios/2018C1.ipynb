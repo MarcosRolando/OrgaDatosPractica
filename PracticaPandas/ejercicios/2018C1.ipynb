{
 "cells": [
  {
   "cell_type": "markdown",
   "metadata": {
    "collapsed": true,
    "pycharm": {
     "name": "#%% md\n"
    }
   },
   "source": [
    "\n",
    "El GCPD recolecta la información de casos policiales que acontecen en Ciudad Gótica.\n",
    "Esta informacióñ se encuentra guarada en un archivo con el siguiente formato:\n",
    "\n",
    "(fecha, id_caso, descripción, estado_caso, categoria, latitud, longitud)\n",
    "\n",
    "Los posibels estados que puede tener un caso son 1: caso abierto, 2: caso resuelto,\n",
    "3: cerrado sin resolucion.\n",
    "\n",
    "Las fechas se encuentran en el formato YYYY-MM-DD.\n",
    "\n",
    "Por otro lado el comisionado Gordon guarda un registro detallado sobre en cuales\n",
    "casos fue activada la batiseñal para pedir ayuda del vigilante, Batman.\n",
    "Esta información se encuentra en un archivo con el siguiente formato (id_caso, respeusta),\n",
    "siendo campo respuesta si la señal tuvo una respuesta positiva (1) o negativa (0) de parte de él.\n",
    "\n",
    "El sector encargado de las estadísticas oficiales del GCPD quiere analizar las siguientes situaciones:\n",
    "\n",
    "a) Las categorias que hayan incrementado su tasa de resolución al menos un 10% en\n",
    "el último trimestre, con respecto al trimestre anterior.\n",
    "\n",
    "b) Tasa de participación de Batman por categoria, para los delitos contra la\n",
    "propiedad (que enmarcan las categorías incendio intencional, robo, hurto y robo de vehiculos).\n",
    "\n",
    "#como mi df tiene categorias numericas (xd) hago de cuenta que las categorias pedidas son la 1, 2, 3 y 4\n",
    "\n",
    "Resolver ambas consultas utilizando Pandas.\n",
    "\n",
    "LA SOLUCION DE DEL MAZO USA UNA PIVOT TABLE DE COLUMNA TRIMESTRE, INDICE CATEGORIA Y\n",
    "VALORES Y DE VALUES LA FUNCION QUE CALCULA CANT DE CASOS RESUELTOS EN PORCENTAJE"
   ]
  },
  {
   "cell_type": "code",
   "execution_count": 60,
   "outputs": [
    {
     "data": {
      "text/plain": "trimestre      2           3  Incremented Rate\ncategoria                                     \n1            0.0    0.000000             False\n2          100.0    0.000000             False\n3            0.0         NaN             False\n4            0.0   66.666667              True\n5            0.0         NaN             False\n6            0.0         NaN             False\n7           50.0         NaN             False\n8            NaN   33.333333             False\n9          100.0  100.000000             False\n10          50.0         NaN             False",
      "text/html": "<div>\n<style scoped>\n    .dataframe tbody tr th:only-of-type {\n        vertical-align: middle;\n    }\n\n    .dataframe tbody tr th {\n        vertical-align: top;\n    }\n\n    .dataframe thead th {\n        text-align: right;\n    }\n</style>\n<table border=\"1\" class=\"dataframe\">\n  <thead>\n    <tr style=\"text-align: right;\">\n      <th>trimestre</th>\n      <th>2</th>\n      <th>3</th>\n      <th>Incremented Rate</th>\n    </tr>\n    <tr>\n      <th>categoria</th>\n      <th></th>\n      <th></th>\n      <th></th>\n    </tr>\n  </thead>\n  <tbody>\n    <tr>\n      <th>1</th>\n      <td>0.0</td>\n      <td>0.000000</td>\n      <td>False</td>\n    </tr>\n    <tr>\n      <th>2</th>\n      <td>100.0</td>\n      <td>0.000000</td>\n      <td>False</td>\n    </tr>\n    <tr>\n      <th>3</th>\n      <td>0.0</td>\n      <td>NaN</td>\n      <td>False</td>\n    </tr>\n    <tr>\n      <th>4</th>\n      <td>0.0</td>\n      <td>66.666667</td>\n      <td>True</td>\n    </tr>\n    <tr>\n      <th>5</th>\n      <td>0.0</td>\n      <td>NaN</td>\n      <td>False</td>\n    </tr>\n    <tr>\n      <th>6</th>\n      <td>0.0</td>\n      <td>NaN</td>\n      <td>False</td>\n    </tr>\n    <tr>\n      <th>7</th>\n      <td>50.0</td>\n      <td>NaN</td>\n      <td>False</td>\n    </tr>\n    <tr>\n      <th>8</th>\n      <td>NaN</td>\n      <td>33.333333</td>\n      <td>False</td>\n    </tr>\n    <tr>\n      <th>9</th>\n      <td>100.0</td>\n      <td>100.000000</td>\n      <td>False</td>\n    </tr>\n    <tr>\n      <th>10</th>\n      <td>50.0</td>\n      <td>NaN</td>\n      <td>False</td>\n    </tr>\n  </tbody>\n</table>\n</div>"
     },
     "execution_count": 60,
     "metadata": {},
     "output_type": "execute_result"
    }
   ],
   "source": [
    "import pandas as pd\n",
    "\n",
    "gcpdDf = pd.read_csv('/home/marcos/PycharmProjects/PracticaPandas/Ej6a.csv')\n",
    "gordonDf = pd.read_csv('/home/marcos/PycharmProjects/PracticaPandas/Ej6b.csv')\n",
    "\n",
    "gcpdDf['fecha'] = pd.to_datetime(gcpdDf['fecha'], errors='coerce', format='%Y-%m-%d')\n",
    "gcpdDf['trimestre'] = gcpdDf['fecha'].dt.month % 4\n",
    "gcpdAskedTrimesters = gcpdDf[gcpdDf['trimestre'].isin([2,3]) & (gcpdDf['fecha'].dt.year == 2018)] #habria que comparar con el anio actual enrealidad, pero mi df no tiene datos xd\n",
    "gcpdPrevTrimData = gcpdAskedTrimesters.groupby(by=['categoria', 'trimestre'])\\\n",
    "                    .agg({'estado_caso':(lambda x: (x == 2).mean() * 100)})\n",
    "gcpdPrevTrimData = gcpdPrevTrimData.unstack().droplevel(axis=1, level=0)\n",
    "gcpdPrevTrimData['Incremented Rate'] = (gcpdPrevTrimData[3] - gcpdPrevTrimData[2]) > 10\n",
    "gcpdPrevTrimData"
   ],
   "metadata": {
    "collapsed": false,
    "pycharm": {
     "name": "#%%\n"
    }
   }
  },
  {
   "cell_type": "code",
   "execution_count": 61,
   "outputs": [
    {
     "data": {
      "text/plain": "           tasa de respuesta\ncategoria                   \n1                  51.020408\n4                  54.954955",
      "text/html": "<div>\n<style scoped>\n    .dataframe tbody tr th:only-of-type {\n        vertical-align: middle;\n    }\n\n    .dataframe tbody tr th {\n        vertical-align: top;\n    }\n\n    .dataframe thead th {\n        text-align: right;\n    }\n</style>\n<table border=\"1\" class=\"dataframe\">\n  <thead>\n    <tr style=\"text-align: right;\">\n      <th></th>\n      <th>tasa de respuesta</th>\n    </tr>\n    <tr>\n      <th>categoria</th>\n      <th></th>\n    </tr>\n  </thead>\n  <tbody>\n    <tr>\n      <th>1</th>\n      <td>51.020408</td>\n    </tr>\n    <tr>\n      <th>4</th>\n      <td>54.954955</td>\n    </tr>\n  </tbody>\n</table>\n</div>"
     },
     "execution_count": 61,
     "metadata": {},
     "output_type": "execute_result"
    }
   ],
   "source": [
    "gcpdReqCategories = gcpdDf[gcpdDf['categoria'].isin([1,4])]\n",
    "gcpdReqCategories = gcpdReqCategories.merge(gordonDf, how='inner', on='id_caso').groupby(by='categoria') \\\n",
    "                        .agg({'respuesta':(lambda x: (x == 1).mean() * 100)})\n",
    "gcpdReqCategories.rename(columns={'respuesta':'tasa de respuesta'}, inplace=True)\n",
    "gcpdReqCategories"
   ],
   "metadata": {
    "collapsed": false,
    "pycharm": {
     "name": "#%%\n"
    }
   }
  }
 ],
 "metadata": {
  "kernelspec": {
   "display_name": "Python 3",
   "language": "python",
   "name": "python3"
  },
  "language_info": {
   "codemirror_mode": {
    "name": "ipython",
    "version": 2
   },
   "file_extension": ".py",
   "mimetype": "text/x-python",
   "name": "python",
   "nbconvert_exporter": "python",
   "pygments_lexer": "ipython2",
   "version": "2.7.6"
  }
 },
 "nbformat": 4,
 "nbformat_minor": 0
}