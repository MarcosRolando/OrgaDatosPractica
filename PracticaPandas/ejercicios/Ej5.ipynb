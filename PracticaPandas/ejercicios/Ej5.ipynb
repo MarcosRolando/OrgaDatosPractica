{
 "cells": [
  {
   "cell_type": "markdown",
   "metadata": {
    "collapsed": true,
    "pycharm": {
     "name": "#%% md\n"
    }
   },
   "source": [
    "Ej5) La Agencia Nacional de Estadísticas de Buenos Aires recolecta información de\n",
    "nacimientos cuando los padres registran a sus hijos en el registro civil a partir\n",
    "de una encuesta. Esa información se encuentra disponible para su análisis en un csv\n",
    "con el siguiente formato (dia_nacimiento, mes_nacimiento, anio_nacimiento,\n",
    "peso_al_nacer, longitud_al_nacer, id_hospital, tipo_parto), donde el tipo de\n",
    "parto 1 es natural y 2 es cesárea.\n",
    "\n",
    "Por otro lado la agencia cuenta con información histórica de los hospitales en\n",
    "otro csv con siguiente formato (id_hospital, dirección,\n",
    "promedio_nacimientos_mensual). Se pide usar Pandas para:\n",
    "\n",
    "a) Calcular la cantidad de nacimientos para cada uno de los hospitales para el mes\n",
    "de Octubre de 2017 e indicar aquellos hospitales que superan el promedio\n",
    "de nacimientos mensuales."
   ]
  },
  {
   "cell_type": "code",
   "execution_count": 91,
   "outputs": [],
   "source": [
    "import pandas as pd\n",
    "\n",
    "generalDf = pd.read_csv('/home/marcos/PycharmProjects/PracticaPandas/Ej5a.csv')\n",
    "hospitalsDf = pd.read_csv('/home/marcos/PycharmProjects/PracticaPandas/Ej5b.csv')"
   ],
   "metadata": {
    "collapsed": false,
    "pycharm": {
     "name": "#%%\n"
    }
   }
  },
  {
   "cell_type": "code",
   "execution_count": 92,
   "outputs": [
    {
     "data": {
      "text/plain": "1    10\n3     2\nName: id_hospital, dtype: int64"
     },
     "execution_count": 92,
     "metadata": {},
     "output_type": "execute_result"
    }
   ],
   "source": [
    "generalFiltered = generalDf[(generalDf.mes_nacimiento == 10) &\\\n",
    "                                (generalDf.anio_nacimiento == 2017)]\n",
    "generalFiltered = generalFiltered['id_hospital'].value_counts()\\\n",
    "                .to_frame('cantidad_partos').rename_axis(index='id_hospital')\n",
    "generalFiltered = generalFiltered.merge(hospitalsDf, how='inner', on='id_hospital')\n",
    "generalFiltered.loc[generalFiltered['cantidad_partos'] \\\n",
    "                                      > generalFiltered['promedio_nacimientos_mensual'], 'id_hospital']"
   ],
   "metadata": {
    "collapsed": false,
    "pycharm": {
     "name": "#%%\n"
    }
   }
  },
  {
   "cell_type": "markdown",
   "source": [
    "b) Comparando el mes de Octubre de 2017 indicar programáticamente si se\n",
    "incremento el % de cesáreas con respecto a ese mes del año 2016."
   ],
   "metadata": {
    "collapsed": false,
    "pycharm": {
     "name": "#%% md\n"
    }
   }
  },
  {
   "cell_type": "code",
   "execution_count": 93,
   "outputs": [
    {
     "name": "stdout",
     "output_type": "stream",
     "text": [
      "False\n"
     ]
    }
   ],
   "source": [
    "def cesarea_percentage(x):\n",
    "    return ((x == 2).sum())/len(x)\n",
    "\n",
    "dataFrom2017 = generalDf[(generalDf.mes_nacimiento == 10) &\\\n",
    "                                (generalDf.anio_nacimiento == 2017)]['tipo_parto'].value_counts()\n",
    "dataFrom2016 = generalDf[(generalDf.mes_nacimiento == 10) &\\\n",
    "                                (generalDf.anio_nacimiento == 2016)]['tipo_parto'].value_counts()\n",
    "print(cesarea_percentage(dataFrom2017) > cesarea_percentage(dataFrom2016))"
   ],
   "metadata": {
    "collapsed": false,
    "pycharm": {
     "name": "#%%\n"
    }
   }
  }
 ],
 "metadata": {
  "kernelspec": {
   "display_name": "Python 3",
   "language": "python",
   "name": "python3"
  },
  "language_info": {
   "codemirror_mode": {
    "name": "ipython",
    "version": 2
   },
   "file_extension": ".py",
   "mimetype": "text/x-python",
   "name": "python",
   "nbconvert_exporter": "python",
   "pygments_lexer": "ipython2",
   "version": "2.7.6"
  }
 },
 "nbformat": 4,
 "nbformat_minor": 0
}