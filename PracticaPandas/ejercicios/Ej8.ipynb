{
 "cells": [
  {
   "cell_type": "markdown",
   "metadata": {
    "collapsed": true,
    "pycharm": {
     "name": "#%% md\n"
    }
   },
   "source": [
    "8- El dataframe (sales) lista las ventas de productos con los siguientes campos:\n",
    "Dia, Mes, Año, ProductID, Importe(USD). Para un mismo dia, mes y año puede\n",
    "venderse n veces el mismo producto. Por otro lado tenemos una descripción de\n",
    "los productos en el dataframe (products): ProductId, Title, Category, Description.\n",
    "Category puede ser \"Men\", \"Women\", \"Kids\"\n",
    "\n",
    "Proponer un programa en Pandas que permita:\n",
    "\n",
    "a) Indicar los títulos de los productos de la categoría \"Men\" para los cuales el\n",
    "Importe de venta supera el promedio mensual de ventas de los productos de la\n",
    "misma categoría. (por ejemplo si el promedio de Abril de \"Men\" es 120 dolares\n",
    "y un producto se vendió en Abril a 135 dolares lo tenemos que listar).\n",
    "Usar Transform."
   ]
  },
  {
   "cell_type": "code",
   "execution_count": 42,
   "outputs": [
    {
     "data": {
      "text/plain": "          Nombre del producto\nProductID                    \n21                  qiybivifu\n11                   iqqaeepw\n1                    pxepevuv\n22                 zxcogsnuhg\n16                 yraewmdoeo",
      "text/html": "<div>\n<style scoped>\n    .dataframe tbody tr th:only-of-type {\n        vertical-align: middle;\n    }\n\n    .dataframe tbody tr th {\n        vertical-align: top;\n    }\n\n    .dataframe thead th {\n        text-align: right;\n    }\n</style>\n<table border=\"1\" class=\"dataframe\">\n  <thead>\n    <tr style=\"text-align: right;\">\n      <th></th>\n      <th>Nombre del producto</th>\n    </tr>\n    <tr>\n      <th>ProductID</th>\n      <th></th>\n    </tr>\n  </thead>\n  <tbody>\n    <tr>\n      <th>21</th>\n      <td>qiybivifu</td>\n    </tr>\n    <tr>\n      <th>11</th>\n      <td>iqqaeepw</td>\n    </tr>\n    <tr>\n      <th>1</th>\n      <td>pxepevuv</td>\n    </tr>\n    <tr>\n      <th>22</th>\n      <td>zxcogsnuhg</td>\n    </tr>\n    <tr>\n      <th>16</th>\n      <td>yraewmdoeo</td>\n    </tr>\n  </tbody>\n</table>\n</div>"
     },
     "execution_count": 42,
     "metadata": {},
     "output_type": "execute_result"
    }
   ],
   "source": [
    "import pandas as pd\n",
    "\n",
    "salesDf = pd.read_csv('/home/marcos/PycharmProjects/PracticaPandas/sales.csv')\n",
    "productsDf = pd.read_csv('/home/marcos/PycharmProjects/PracticaPandas/products.csv')\n",
    "\n",
    "menProductsSales = salesDf.merge(productsDf[['ProductID', 'Category']], how='inner', on='ProductID')\n",
    "menProductsSales = menProductsSales[menProductsSales['Category'] == 'Men']\n",
    "menProductsSales.drop(columns='Category', inplace=True)\n",
    "menProductsSales['Supera el promedio mensual'] = menProductsSales.groupby(['Anio', 'Mes'])['Importe(USD)'].\\\n",
    "                                                transform(lambda x: x > x.mean())\n",
    "bestMenProductsIDs = menProductsSales['ProductID'].drop_duplicates()\n",
    "bestMenProducts = productsDf.set_index('ProductID').loc[bestMenProductsIDs.values, 'Title'].to_frame('Nombre del producto')\n",
    "bestMenProducts.head()"
   ],
   "metadata": {
    "collapsed": false,
    "pycharm": {
     "name": "#%%\n"
    }
   }
  },
  {
   "cell_type": "markdown",
   "source": [
    "b) Indicar el top-10 de productos que se vendieron mayor cantidad de días de forma\n",
    "consecutiva."
   ],
   "metadata": {
    "collapsed": false,
    "pycharm": {
     "name": "#%% md\n"
    }
   }
  },
  {
   "cell_type": "code",
   "execution_count": 43,
   "outputs": [
    {
     "data": {
      "text/plain": "<pandas.core.groupby.generic.DataFrameGroupBy object at 0x7f9d153b1a00>"
     },
     "execution_count": 43,
     "metadata": {},
     "output_type": "execute_result"
    }
   ],
   "source": [
    "salesDf.groupby(by='ProductID')"
   ],
   "metadata": {
    "collapsed": false,
    "pycharm": {
     "name": "#%%\n"
    }
   }
  }
 ],
 "metadata": {
  "kernelspec": {
   "display_name": "Python 3",
   "language": "python",
   "name": "python3"
  },
  "language_info": {
   "codemirror_mode": {
    "name": "ipython",
    "version": 2
   },
   "file_extension": ".py",
   "mimetype": "text/x-python",
   "name": "python",
   "nbconvert_exporter": "python",
   "pygments_lexer": "ipython2",
   "version": "2.7.6"
  }
 },
 "nbformat": 4,
 "nbformat_minor": 0
}