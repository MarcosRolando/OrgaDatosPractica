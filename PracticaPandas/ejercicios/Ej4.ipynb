{
 "cells": [
  {
   "cell_type": "markdown",
   "metadata": {
    "collapsed": true,
    "pycharm": {
     "name": "#%% md\n"
    }
   },
   "source": [
    "Ej4) Un sitio de Ebooks tiene información sobre los reviews que los usuarios hacen\n",
    "de sus libros en un DataFrame con formato (user_id, book_id, rating, timestamp).\n",
    "Por otro lado tenemos información en otro DataFrame que bajamos de GoodReads:\n",
    "(book_id, book_name, avg_rating). Podemos suponer que los Ids de los libros\n",
    "son compatibles. Se pide usar Python Pandas para:\n",
    "\n",
    "a) Obtener un DataFrame que indique el TOP5 de Ebooks en el sitio de Ebooks.\n",
    "(Para este punto se puede ignorar el segundo DataFrame)."
   ]
  },
  {
   "cell_type": "code",
   "execution_count": 103,
   "outputs": [
    {
     "data": {
      "text/plain": "         avg_rating\nbook_id            \n48         7.336000\n13         7.184211\n18         6.788235\n16         6.727273\n22         6.695652",
      "text/html": "<div>\n<style scoped>\n    .dataframe tbody tr th:only-of-type {\n        vertical-align: middle;\n    }\n\n    .dataframe tbody tr th {\n        vertical-align: top;\n    }\n\n    .dataframe thead th {\n        text-align: right;\n    }\n</style>\n<table border=\"1\" class=\"dataframe\">\n  <thead>\n    <tr style=\"text-align: right;\">\n      <th></th>\n      <th>avg_rating</th>\n    </tr>\n    <tr>\n      <th>book_id</th>\n      <th></th>\n    </tr>\n  </thead>\n  <tbody>\n    <tr>\n      <th>48</th>\n      <td>7.336000</td>\n    </tr>\n    <tr>\n      <th>13</th>\n      <td>7.184211</td>\n    </tr>\n    <tr>\n      <th>18</th>\n      <td>6.788235</td>\n    </tr>\n    <tr>\n      <th>16</th>\n      <td>6.727273</td>\n    </tr>\n    <tr>\n      <th>22</th>\n      <td>6.695652</td>\n    </tr>\n  </tbody>\n</table>\n</div>"
     },
     "execution_count": 103,
     "metadata": {},
     "output_type": "execute_result"
    }
   ],
   "source": [
    "import pandas as pd\n",
    "\n",
    "ebooksDf = pd.read_csv('/home/marcos/PycharmProjects/PracticaPandas/Ej4a.csv')\n",
    "ebooksDf.head(10)\n",
    "\n",
    "ebooksDf.drop({'user_id', 'timestamp'}, axis=1, inplace=True)\n",
    "ebooksAvgRating = ebooksDf.groupby(by='book_id').agg({'rating':'mean'}).rename(columns={'rating':'avg_rating'})\n",
    "ebooksAvgRating.nlargest(5, columns=['avg_rating'], keep='all')"
   ],
   "metadata": {
    "collapsed": false,
    "pycharm": {
     "name": "#%%\n"
    }
   }
  },
  {
   "cell_type": "markdown",
   "source": [
    "b) Obtener un DataFrame que indique qué libros tienen una diferencia de rating\n",
    "promedio mayor al 20% entre el sitio de Ebooks y GoodReads."
   ],
   "metadata": {
    "collapsed": false,
    "pycharm": {
     "name": "#%% md\n"
    }
   }
  },
  {
   "cell_type": "code",
   "execution_count": 104,
   "outputs": [
    {
     "data": {
      "text/plain": "         diff_rating%\nbook_id              \n1           29.722222\n2           22.415796\n3           85.568761\n5          406.545455\n6           41.666667\n8          199.380805\n10          56.941748\n13         226.555024\n14          34.655172\n15          38.618926\n16         169.090909\n17         156.200000\n20         102.258065\n21          37.316850\n22         346.376812\n24          31.875607\n25          46.509434\n26          40.375000\n28          24.891304\n29          36.345382\n30         413.181818\n32          79.166667\n33         170.555556\n34         117.032967\n35          38.437500\n36         119.217687\n37         248.148148\n38          22.881880\n42         144.230769\n43          20.120724\n44          59.009009\n47          47.837599\n48         286.105263\n49          33.982684\n50          33.471074",
      "text/html": "<div>\n<style scoped>\n    .dataframe tbody tr th:only-of-type {\n        vertical-align: middle;\n    }\n\n    .dataframe tbody tr th {\n        vertical-align: top;\n    }\n\n    .dataframe thead th {\n        text-align: right;\n    }\n</style>\n<table border=\"1\" class=\"dataframe\">\n  <thead>\n    <tr style=\"text-align: right;\">\n      <th></th>\n      <th>diff_rating%</th>\n    </tr>\n    <tr>\n      <th>book_id</th>\n      <th></th>\n    </tr>\n  </thead>\n  <tbody>\n    <tr>\n      <th>1</th>\n      <td>29.722222</td>\n    </tr>\n    <tr>\n      <th>2</th>\n      <td>22.415796</td>\n    </tr>\n    <tr>\n      <th>3</th>\n      <td>85.568761</td>\n    </tr>\n    <tr>\n      <th>5</th>\n      <td>406.545455</td>\n    </tr>\n    <tr>\n      <th>6</th>\n      <td>41.666667</td>\n    </tr>\n    <tr>\n      <th>8</th>\n      <td>199.380805</td>\n    </tr>\n    <tr>\n      <th>10</th>\n      <td>56.941748</td>\n    </tr>\n    <tr>\n      <th>13</th>\n      <td>226.555024</td>\n    </tr>\n    <tr>\n      <th>14</th>\n      <td>34.655172</td>\n    </tr>\n    <tr>\n      <th>15</th>\n      <td>38.618926</td>\n    </tr>\n    <tr>\n      <th>16</th>\n      <td>169.090909</td>\n    </tr>\n    <tr>\n      <th>17</th>\n      <td>156.200000</td>\n    </tr>\n    <tr>\n      <th>20</th>\n      <td>102.258065</td>\n    </tr>\n    <tr>\n      <th>21</th>\n      <td>37.316850</td>\n    </tr>\n    <tr>\n      <th>22</th>\n      <td>346.376812</td>\n    </tr>\n    <tr>\n      <th>24</th>\n      <td>31.875607</td>\n    </tr>\n    <tr>\n      <th>25</th>\n      <td>46.509434</td>\n    </tr>\n    <tr>\n      <th>26</th>\n      <td>40.375000</td>\n    </tr>\n    <tr>\n      <th>28</th>\n      <td>24.891304</td>\n    </tr>\n    <tr>\n      <th>29</th>\n      <td>36.345382</td>\n    </tr>\n    <tr>\n      <th>30</th>\n      <td>413.181818</td>\n    </tr>\n    <tr>\n      <th>32</th>\n      <td>79.166667</td>\n    </tr>\n    <tr>\n      <th>33</th>\n      <td>170.555556</td>\n    </tr>\n    <tr>\n      <th>34</th>\n      <td>117.032967</td>\n    </tr>\n    <tr>\n      <th>35</th>\n      <td>38.437500</td>\n    </tr>\n    <tr>\n      <th>36</th>\n      <td>119.217687</td>\n    </tr>\n    <tr>\n      <th>37</th>\n      <td>248.148148</td>\n    </tr>\n    <tr>\n      <th>38</th>\n      <td>22.881880</td>\n    </tr>\n    <tr>\n      <th>42</th>\n      <td>144.230769</td>\n    </tr>\n    <tr>\n      <th>43</th>\n      <td>20.120724</td>\n    </tr>\n    <tr>\n      <th>44</th>\n      <td>59.009009</td>\n    </tr>\n    <tr>\n      <th>47</th>\n      <td>47.837599</td>\n    </tr>\n    <tr>\n      <th>48</th>\n      <td>286.105263</td>\n    </tr>\n    <tr>\n      <th>49</th>\n      <td>33.982684</td>\n    </tr>\n    <tr>\n      <th>50</th>\n      <td>33.471074</td>\n    </tr>\n  </tbody>\n</table>\n</div>"
     },
     "execution_count": 104,
     "metadata": {},
     "output_type": "execute_result"
    }
   ],
   "source": [
    "goodReadsDf = pd.read_csv('/home/marcos/PycharmProjects/PracticaPandas/Ej4b.csv')\n",
    "goodReadsDf.drop({'book_name'}, axis=1, inplace=True)\n",
    "goodReadsDf.set_index('book_id', inplace=True)\n",
    "avgRatingDiffMoreThan20Percent = (ebooksAvgRating - goodReadsDf) / goodReadsDf * 100\n",
    "avgRatingDiffMoreThan20Percent = avgRatingDiffMoreThan20Percent.dropna().apply('abs')\n",
    "avgRatingDiffMoreThan20Percent = avgRatingDiffMoreThan20Percent[avgRatingDiffMoreThan20Percent['avg_rating'] > 20]\n",
    "avgRatingDiffMoreThan20Percent.rename(columns={'avg_rating':'diff_rating%'})"
   ],
   "metadata": {
    "collapsed": false,
    "pycharm": {
     "name": "#%%\n"
    }
   }
  }
 ],
 "metadata": {
  "kernelspec": {
   "display_name": "Python 3",
   "language": "python",
   "name": "python3"
  },
  "language_info": {
   "codemirror_mode": {
    "name": "ipython",
    "version": 2
   },
   "file_extension": ".py",
   "mimetype": "text/x-python",
   "name": "python",
   "nbconvert_exporter": "python",
   "pygments_lexer": "ipython2",
   "version": "2.7.6"
  }
 },
 "nbformat": 4,
 "nbformat_minor": 0
}