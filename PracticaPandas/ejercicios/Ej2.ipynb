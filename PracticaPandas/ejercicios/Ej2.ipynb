{
 "cells": [
  {
   "cell_type": "markdown",
   "metadata": {
    "collapsed": true,
    "pycharm": {
     "name": "#%% md\n"
    }
   },
   "source": [
    "EJ 2 - Se tiene un registro de transacciones bancarias, de la forma\n",
    "(nro de transacción, tipo de transacción, cuenta origen, cuenta destino, fecha,\n",
    "hora, monto). Se pide resolver en Pandas:"
   ]
  },
  {
   "cell_type": "markdown",
   "metadata": {
    "pycharm": {
     "name": "#%% md\n"
    }
   },
   "source": [
    "a) Validar que todas las transacciones cuenten con un tipo de transacción."
   ]
  },
  {
   "cell_type": "code",
   "execution_count": 1,
   "metadata": {
    "pycharm": {
     "name": "#%%\n"
    }
   },
   "outputs": [],
   "source": [
    "import pandas as pd\n",
    "\n",
    "df = pd.read_csv('/home/marcos/PycharmProjects/PracticaPandas/Ej2.csv')\n",
    "df.dropna(subset=['Tipo de transaccion'], inplace=True)"
   ]
  },
  {
   "cell_type": "markdown",
   "metadata": {
    "pycharm": {
     "name": "#%% md\n"
    }
   },
   "source": [
    "b) Validar que para las transacciones del tipo transferencia,\n",
    "exista siempre tanto cuenta origen como cuenta destino"
   ]
  },
  {
   "cell_type": "code",
   "execution_count": 2,
   "metadata": {
    "pycharm": {
     "name": "#%%\n"
    }
   },
   "outputs": [
    {
     "data": {
      "text/html": [
       "<div>\n",
       "<style scoped>\n",
       "    .dataframe tbody tr th:only-of-type {\n",
       "        vertical-align: middle;\n",
       "    }\n",
       "\n",
       "    .dataframe tbody tr th {\n",
       "        vertical-align: top;\n",
       "    }\n",
       "\n",
       "    .dataframe thead th {\n",
       "        text-align: right;\n",
       "    }\n",
       "</style>\n",
       "<table border=\"1\" class=\"dataframe\">\n",
       "  <thead>\n",
       "    <tr style=\"text-align: right;\">\n",
       "      <th></th>\n",
       "      <th>Cuenta destino</th>\n",
       "      <th>Cuenta origen</th>\n",
       "      <th>Fecha</th>\n",
       "      <th>Hora</th>\n",
       "      <th>Monto</th>\n",
       "      <th>Num. de transaccion</th>\n",
       "      <th>Tipo de transaccion</th>\n",
       "    </tr>\n",
       "  </thead>\n",
       "  <tbody>\n",
       "    <tr>\n",
       "      <th>0</th>\n",
       "      <td>NaN</td>\n",
       "      <td>Cuenta 2</td>\n",
       "      <td>20/6/2019</td>\n",
       "      <td>15:45:00</td>\n",
       "      <td>623.504516</td>\n",
       "      <td>15</td>\n",
       "      <td>Deposito</td>\n",
       "    </tr>\n",
       "    <tr>\n",
       "      <th>1</th>\n",
       "      <td>Cuenta 5</td>\n",
       "      <td>Cuenta 4</td>\n",
       "      <td>23/9/2018</td>\n",
       "      <td>16:23:05</td>\n",
       "      <td>524.575637</td>\n",
       "      <td>16</td>\n",
       "      <td>Transferencia</td>\n",
       "    </tr>\n",
       "    <tr>\n",
       "      <th>2</th>\n",
       "      <td>Cuenta 3</td>\n",
       "      <td>Cuenta 4</td>\n",
       "      <td>23/9/2018</td>\n",
       "      <td>15:45:00</td>\n",
       "      <td>748.817997</td>\n",
       "      <td>17</td>\n",
       "      <td>Deposito</td>\n",
       "    </tr>\n",
       "    <tr>\n",
       "      <th>5</th>\n",
       "      <td>Cuenta 5</td>\n",
       "      <td>Cuenta 1</td>\n",
       "      <td>2/10/2019</td>\n",
       "      <td>16:23:05</td>\n",
       "      <td>505.891062</td>\n",
       "      <td>20</td>\n",
       "      <td>Deposito</td>\n",
       "    </tr>\n",
       "    <tr>\n",
       "      <th>6</th>\n",
       "      <td>Cuenta 5</td>\n",
       "      <td>Cuenta 5</td>\n",
       "      <td>7/6/2019</td>\n",
       "      <td>10:00:00</td>\n",
       "      <td>877.988462</td>\n",
       "      <td>21</td>\n",
       "      <td>Extraccion</td>\n",
       "    </tr>\n",
       "    <tr>\n",
       "      <th>8</th>\n",
       "      <td>Cuenta 1</td>\n",
       "      <td>Cuenta 2</td>\n",
       "      <td>20/6/2019</td>\n",
       "      <td>10:00:00</td>\n",
       "      <td>227.629101</td>\n",
       "      <td>23</td>\n",
       "      <td>Deposito</td>\n",
       "    </tr>\n",
       "    <tr>\n",
       "      <th>9</th>\n",
       "      <td>Cuenta 3</td>\n",
       "      <td>Cuenta 1</td>\n",
       "      <td>5/1/2020</td>\n",
       "      <td>13:05:00</td>\n",
       "      <td>988.428871</td>\n",
       "      <td>24</td>\n",
       "      <td>Deposito</td>\n",
       "    </tr>\n",
       "  </tbody>\n",
       "</table>\n",
       "</div>"
      ],
      "text/plain": [
       "  Cuenta destino Cuenta origen      Fecha      Hora       Monto  \\\n",
       "0            NaN      Cuenta 2  20/6/2019  15:45:00  623.504516   \n",
       "1       Cuenta 5      Cuenta 4  23/9/2018  16:23:05  524.575637   \n",
       "2       Cuenta 3      Cuenta 4  23/9/2018  15:45:00  748.817997   \n",
       "5       Cuenta 5      Cuenta 1  2/10/2019  16:23:05  505.891062   \n",
       "6       Cuenta 5      Cuenta 5   7/6/2019  10:00:00  877.988462   \n",
       "8       Cuenta 1      Cuenta 2  20/6/2019  10:00:00  227.629101   \n",
       "9       Cuenta 3      Cuenta 1   5/1/2020  13:05:00  988.428871   \n",
       "\n",
       "   Num. de transaccion Tipo de transaccion  \n",
       "0                   15            Deposito  \n",
       "1                   16       Transferencia  \n",
       "2                   17            Deposito  \n",
       "5                   20            Deposito  \n",
       "6                   21          Extraccion  \n",
       "8                   23            Deposito  \n",
       "9                   24            Deposito  "
      ]
     },
     "execution_count": 2,
     "metadata": {},
     "output_type": "execute_result"
    }
   ],
   "source": [
    "transactions = df[df['Tipo de transaccion'] == 'Transferencia']\n",
    "df = df[(df['Tipo de transaccion'] != 'Transferencia') | \\\n",
    "     (~transactions['Cuenta origen'].isnull() & ~transactions['Cuenta destino'].isnull())]\n",
    "df.head(10)"
   ]
  },
  {
   "cell_type": "markdown",
   "metadata": {
    "pycharm": {
     "name": "#%% md\n"
    }
   },
   "source": [
    "d) Indicar cuáles fueron las 5 transacciones de mayor monto."
   ]
  },
  {
   "cell_type": "code",
   "execution_count": 3,
   "metadata": {
    "pycharm": {
     "name": "#%%\n"
    }
   },
   "outputs": [
    {
     "data": {
      "text/html": [
       "<div>\n",
       "<style scoped>\n",
       "    .dataframe tbody tr th:only-of-type {\n",
       "        vertical-align: middle;\n",
       "    }\n",
       "\n",
       "    .dataframe tbody tr th {\n",
       "        vertical-align: top;\n",
       "    }\n",
       "\n",
       "    .dataframe thead th {\n",
       "        text-align: right;\n",
       "    }\n",
       "</style>\n",
       "<table border=\"1\" class=\"dataframe\">\n",
       "  <thead>\n",
       "    <tr style=\"text-align: right;\">\n",
       "      <th></th>\n",
       "      <th>Cuenta destino</th>\n",
       "      <th>Cuenta origen</th>\n",
       "      <th>Fecha</th>\n",
       "      <th>Hora</th>\n",
       "      <th>Monto</th>\n",
       "      <th>Num. de transaccion</th>\n",
       "      <th>Tipo de transaccion</th>\n",
       "    </tr>\n",
       "  </thead>\n",
       "  <tbody>\n",
       "    <tr>\n",
       "      <th>9</th>\n",
       "      <td>Cuenta 3</td>\n",
       "      <td>Cuenta 1</td>\n",
       "      <td>5/1/2020</td>\n",
       "      <td>13:05:00</td>\n",
       "      <td>988.428871</td>\n",
       "      <td>24</td>\n",
       "      <td>Deposito</td>\n",
       "    </tr>\n",
       "    <tr>\n",
       "      <th>6</th>\n",
       "      <td>Cuenta 5</td>\n",
       "      <td>Cuenta 5</td>\n",
       "      <td>7/6/2019</td>\n",
       "      <td>10:00:00</td>\n",
       "      <td>877.988462</td>\n",
       "      <td>21</td>\n",
       "      <td>Extraccion</td>\n",
       "    </tr>\n",
       "    <tr>\n",
       "      <th>2</th>\n",
       "      <td>Cuenta 3</td>\n",
       "      <td>Cuenta 4</td>\n",
       "      <td>23/9/2018</td>\n",
       "      <td>15:45:00</td>\n",
       "      <td>748.817997</td>\n",
       "      <td>17</td>\n",
       "      <td>Deposito</td>\n",
       "    </tr>\n",
       "    <tr>\n",
       "      <th>0</th>\n",
       "      <td>NaN</td>\n",
       "      <td>Cuenta 2</td>\n",
       "      <td>20/6/2019</td>\n",
       "      <td>15:45:00</td>\n",
       "      <td>623.504516</td>\n",
       "      <td>15</td>\n",
       "      <td>Deposito</td>\n",
       "    </tr>\n",
       "    <tr>\n",
       "      <th>1</th>\n",
       "      <td>Cuenta 5</td>\n",
       "      <td>Cuenta 4</td>\n",
       "      <td>23/9/2018</td>\n",
       "      <td>16:23:05</td>\n",
       "      <td>524.575637</td>\n",
       "      <td>16</td>\n",
       "      <td>Transferencia</td>\n",
       "    </tr>\n",
       "  </tbody>\n",
       "</table>\n",
       "</div>"
      ],
      "text/plain": [
       "  Cuenta destino Cuenta origen      Fecha      Hora       Monto  \\\n",
       "9       Cuenta 3      Cuenta 1   5/1/2020  13:05:00  988.428871   \n",
       "6       Cuenta 5      Cuenta 5   7/6/2019  10:00:00  877.988462   \n",
       "2       Cuenta 3      Cuenta 4  23/9/2018  15:45:00  748.817997   \n",
       "0            NaN      Cuenta 2  20/6/2019  15:45:00  623.504516   \n",
       "1       Cuenta 5      Cuenta 4  23/9/2018  16:23:05  524.575637   \n",
       "\n",
       "   Num. de transaccion Tipo de transaccion  \n",
       "9                   24            Deposito  \n",
       "6                   21          Extraccion  \n",
       "2                   17            Deposito  \n",
       "0                   15            Deposito  \n",
       "1                   16       Transferencia  "
      ]
     },
     "execution_count": 3,
     "metadata": {},
     "output_type": "execute_result"
    }
   ],
   "source": [
    "df.nlargest(5, ['Monto'])"
   ]
  },
  {
   "cell_type": "markdown",
   "metadata": {
    "pycharm": {
     "name": "#%% md\n"
    }
   },
   "source": [
    "e) Indicar cuál es el tipo de transacción que registra mayor monto promedio."
   ]
  },
  {
   "cell_type": "code",
   "execution_count": 4,
   "metadata": {
    "pycharm": {
     "name": "#%%\n"
    }
   },
   "outputs": [
    {
     "data": {
      "text/plain": [
       "Tipo de transaccion\n",
       "Extraccion    877.988462\n",
       "Name: Monto, dtype: float64"
      ]
     },
     "execution_count": 4,
     "metadata": {},
     "output_type": "execute_result"
    }
   ],
   "source": [
    "transactionsInfo = (df.groupby(by='Tipo de transaccion')['Monto'].mean()).nlargest(1)\n",
    "transactionsInfo"
   ]
  },
  {
   "cell_type": "markdown",
   "metadata": {
    "pycharm": {
     "name": "#%% md\n"
    }
   },
   "source": [
    "f) Indicar cuáles son las 5 cuentas con mayor cantidad de transacciones."
   ]
  },
  {
   "cell_type": "code",
   "execution_count": 5,
   "metadata": {
    "pycharm": {
     "name": "#%%\n"
    }
   },
   "outputs": [
    {
     "data": {
      "text/plain": [
       "Cuenta 5    4.0\n",
       "Cuenta 1    3.0\n",
       "Cuenta 2    2.0\n",
       "Cuenta 3    2.0\n",
       "Cuenta 4    2.0\n",
       "dtype: float64"
      ]
     },
     "execution_count": 5,
     "metadata": {},
     "output_type": "execute_result"
    }
   ],
   "source": [
    "originCounts = df['Cuenta origen'].value_counts()\n",
    "destinyCounts = df['Cuenta destino'].value_counts()\n",
    "originCounts.add(other=destinyCounts, fill_value=0).nlargest(5)"
   ]
  },
  {
   "cell_type": "markdown",
   "metadata": {
    "pycharm": {
     "name": "#%% md\n"
    }
   },
   "source": [
    "h) Para el tipo de transacción con mayor cantidad de monto promedio, indicar\n",
    "cuales son las 5 cuentas con más transacciones."
   ]
  },
  {
   "cell_type": "code",
   "execution_count": 6,
   "metadata": {
    "pycharm": {
     "name": "#%%\n"
    }
   },
   "outputs": [
    {
     "data": {
      "text/html": [
       "<div>\n",
       "<style scoped>\n",
       "    .dataframe tbody tr th:only-of-type {\n",
       "        vertical-align: middle;\n",
       "    }\n",
       "\n",
       "    .dataframe tbody tr th {\n",
       "        vertical-align: top;\n",
       "    }\n",
       "\n",
       "    .dataframe thead th {\n",
       "        text-align: right;\n",
       "    }\n",
       "</style>\n",
       "<table border=\"1\" class=\"dataframe\">\n",
       "  <thead>\n",
       "    <tr style=\"text-align: right;\">\n",
       "      <th></th>\n",
       "      <th>Cuenta destino</th>\n",
       "      <th>Cuenta origen</th>\n",
       "      <th>Fecha</th>\n",
       "      <th>Hora</th>\n",
       "      <th>Monto</th>\n",
       "      <th>Num. de transaccion</th>\n",
       "      <th>Tipo de transaccion</th>\n",
       "    </tr>\n",
       "  </thead>\n",
       "  <tbody>\n",
       "    <tr>\n",
       "      <th>6</th>\n",
       "      <td>Cuenta 5</td>\n",
       "      <td>Cuenta 5</td>\n",
       "      <td>7/6/2019</td>\n",
       "      <td>10:00:00</td>\n",
       "      <td>877.988462</td>\n",
       "      <td>21</td>\n",
       "      <td>Extraccion</td>\n",
       "    </tr>\n",
       "  </tbody>\n",
       "</table>\n",
       "</div>"
      ],
      "text/plain": [
       "  Cuenta destino Cuenta origen     Fecha      Hora       Monto  \\\n",
       "6       Cuenta 5      Cuenta 5  7/6/2019  10:00:00  877.988462   \n",
       "\n",
       "   Num. de transaccion Tipo de transaccion  \n",
       "6                   21          Extraccion  "
      ]
     },
     "execution_count": 6,
     "metadata": {},
     "output_type": "execute_result"
    }
   ],
   "source": [
    "transactionsNames = transactionsInfo.index.values\n",
    "transactionOperations = df.loc[df['Tipo de transaccion'].isin(transactionsNames)]\n",
    "transactionOperations"
   ]
  },
  {
   "cell_type": "code",
   "execution_count": 7,
   "metadata": {
    "pycharm": {
     "name": "#%%\n"
    }
   },
   "outputs": [
    {
     "data": {
      "text/plain": [
       "Cuenta 5    2\n",
       "dtype: int64"
      ]
     },
     "execution_count": 7,
     "metadata": {},
     "output_type": "execute_result"
    }
   ],
   "source": [
    "originCounts = transactionOperations['Cuenta origen'].value_counts()\n",
    "destinyCounts = transactionOperations['Cuenta destino'].value_counts()\n",
    "originCounts.add(other=destinyCounts, fill_value=0).nlargest(5)"
   ]
  }
 ],
 "metadata": {
  "kernelspec": {
   "display_name": "Python 3",
   "language": "python",
   "name": "python3"
  },
  "language_info": {
   "codemirror_mode": {
    "name": "ipython",
    "version": 3
   },
   "file_extension": ".py",
   "mimetype": "text/x-python",
   "name": "python",
   "nbconvert_exporter": "python",
   "pygments_lexer": "ipython3",
   "version": "3.8.3"
  }
 },
 "nbformat": 4,
 "nbformat_minor": 1
}
