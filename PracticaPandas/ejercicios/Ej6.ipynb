{
 "cells": [
  {
   "cell_type": "markdown",
   "metadata": {
    "collapsed": true,
    "pycharm": {
     "name": "#%% md\n"
    }
   },
   "source": [
    "Ej6) El GCPD (Gotham City Police Dept) recolecta la información de casos policiales\n",
    "que acontecen en Ciudad Gótica. Esta información se encuentra guardada en un\n",
    "dataframe con el siguiente formato: (fecha, id_caso, descripcion, estado_caso,\n",
    "categoria, latitud, longitud). Los posibles estados que puede tener un caso son\n",
    "1: caso abierto, 2: caso resuelto, 3: cerrado sin resolución. Las fechas se\n",
    "encuentran en el formato YYYY-MM-DD. Por otro lado el comisionado Gordon guarda\n",
    "un registro detallado sobre en cuáles casos fue activada la batiseñal para pedir\n",
    "ayuda del vigilante, Batman. Esta información se encuentra en un Dataframe con\n",
    "el siguiente formato (id_caso, respuesta), siendo campo respuesta si la señal\n",
    "tuvo una respuesta positiva (1) o negativa (0) de parte de él El sector encargado\n",
    "de las estadísticas oficiales del GCPD quiere con esta información analizar las siguientes situaciones:\n",
    "\n",
    "a) Tasa de resolución de casos de la fuerza policial por categoría de caso\n",
    "(considerando aquellos casos en los que no participó Batman)."
   ]
  },
  {
   "cell_type": "code",
   "execution_count": 1,
   "outputs": [],
   "source": [
    "import pandas as pd\n",
    "\n",
    "gcpdDf = pd.read_csv('/home/marcos/PycharmProjects/PracticaPandas/Ej6a.csv')\n",
    "gordonDf = pd.read_csv('/home/marcos/PycharmProjects/PracticaPandas/Ej6b.csv')\n",
    "\n",
    "negativeResponseBM = gordonDf[gordonDf['respuesta'] == 0]\n",
    "negativeResponseBM = negativeResponseBM['id_caso']\n",
    "gcpdNoBatman = gcpdDf.merge(negativeResponseBM, how='inner', on='id_caso')"
   ],
   "metadata": {
    "collapsed": false,
    "pycharm": {
     "name": "#%%\n"
    }
   }
  },
  {
   "cell_type": "code",
   "execution_count": 2,
   "outputs": [
    {
     "data": {
      "text/plain": "           Porcentaje de casos resueltos sin Batman\ncategoria                                          \n1                                         33.333333\n2                                         29.166667\n3                                         24.137931\n4                                         22.000000\n5                                         36.363636\n6                                         33.333333\n7                                         40.740741\n8                                         31.372549\n9                                         39.285714\n10                                        27.450980",
      "text/html": "<div>\n<style scoped>\n    .dataframe tbody tr th:only-of-type {\n        vertical-align: middle;\n    }\n\n    .dataframe tbody tr th {\n        vertical-align: top;\n    }\n\n    .dataframe thead th {\n        text-align: right;\n    }\n</style>\n<table border=\"1\" class=\"dataframe\">\n  <thead>\n    <tr style=\"text-align: right;\">\n      <th></th>\n      <th>Porcentaje de casos resueltos sin Batman</th>\n    </tr>\n    <tr>\n      <th>categoria</th>\n      <th></th>\n    </tr>\n  </thead>\n  <tbody>\n    <tr>\n      <th>1</th>\n      <td>33.333333</td>\n    </tr>\n    <tr>\n      <th>2</th>\n      <td>29.166667</td>\n    </tr>\n    <tr>\n      <th>3</th>\n      <td>24.137931</td>\n    </tr>\n    <tr>\n      <th>4</th>\n      <td>22.000000</td>\n    </tr>\n    <tr>\n      <th>5</th>\n      <td>36.363636</td>\n    </tr>\n    <tr>\n      <th>6</th>\n      <td>33.333333</td>\n    </tr>\n    <tr>\n      <th>7</th>\n      <td>40.740741</td>\n    </tr>\n    <tr>\n      <th>8</th>\n      <td>31.372549</td>\n    </tr>\n    <tr>\n      <th>9</th>\n      <td>39.285714</td>\n    </tr>\n    <tr>\n      <th>10</th>\n      <td>27.450980</td>\n    </tr>\n  </tbody>\n</table>\n</div>"
     },
     "execution_count": 2,
     "metadata": {},
     "output_type": "execute_result"
    }
   ],
   "source": [
    "gcpdNoBatman = gcpdNoBatman.groupby(by='categoria')['estado_caso'].\\\n",
    "                apply(lambda x: (x == 2).sum()/len(x)*100)\n",
    "gcpdNoBatman.to_frame('Porcentaje de casos resueltos sin Batman')"
   ],
   "metadata": {
    "collapsed": false,
    "pycharm": {
     "name": "#%%\n"
    }
   }
  },
  {
   "cell_type": "markdown",
   "source": [
    "b) Tasa de resolución de casos con la ayuda de Batman (considerando que aquellos\n",
    "casos en los que fue llamado con la batiseñal, participó en la resolución)."
   ],
   "metadata": {
    "collapsed": false,
    "pycharm": {
     "name": "#%% md\n"
    }
   }
  },
  {
   "cell_type": "code",
   "execution_count": 3,
   "outputs": [
    {
     "name": "stdout",
     "output_type": "stream",
     "text": [
      "Porcentaje de casos resueltos con Batman: 31.300813008130078\n"
     ]
    }
   ],
   "source": [
    "positiveResponseBM = gordonDf[gordonDf['respuesta'] == 1]\n",
    "positiveResponseBM = positiveResponseBM['id_caso']\n",
    "gcpdWithBatman = gcpdDf.merge(positiveResponseBM, how='inner', on='id_caso')\n",
    "status = gcpdWithBatman['estado_caso']\n",
    "print('Porcentaje de casos resueltos con Batman: ' + str((status == 2).sum()/len(status)*100))"
   ],
   "metadata": {
    "collapsed": false,
    "pycharm": {
     "name": "#%%\n"
    }
   }
  },
  {
   "cell_type": "markdown",
   "source": [
    "c) Indicar el mes del año pasado en el que Batman tuvo mayor participación\n",
    "en la investigación de casos."
   ],
   "metadata": {
    "collapsed": false,
    "pycharm": {
     "name": "#%% md\n"
    }
   }
  },
  {
   "cell_type": "code",
   "execution_count": 4,
   "outputs": [
    {
     "data": {
      "text/plain": "     Cantidad de resoluciones con Batman\nMes                                     \n8                                      5",
      "text/html": "<div>\n<style scoped>\n    .dataframe tbody tr th:only-of-type {\n        vertical-align: middle;\n    }\n\n    .dataframe tbody tr th {\n        vertical-align: top;\n    }\n\n    .dataframe thead th {\n        text-align: right;\n    }\n</style>\n<table border=\"1\" class=\"dataframe\">\n  <thead>\n    <tr style=\"text-align: right;\">\n      <th></th>\n      <th>Cantidad de resoluciones con Batman</th>\n    </tr>\n    <tr>\n      <th>Mes</th>\n      <th></th>\n    </tr>\n  </thead>\n  <tbody>\n    <tr>\n      <th>8</th>\n      <td>5</td>\n    </tr>\n  </tbody>\n</table>\n</div>"
     },
     "execution_count": 4,
     "metadata": {},
     "output_type": "execute_result"
    }
   ],
   "source": [
    "gcpdDf.loc[:, 'fecha'] = pd.to_datetime(gcpdDf['fecha'], errors='coerce', format='%Y-%m-%d')\n",
    "gcpd2019 = gcpdDf[gcpdDf['fecha'].dt.year == 2019]\n",
    "gcpdWithBatman = gcpd2019.merge(positiveResponseBM, how='inner', on='id_caso')\n",
    "gcpdWithBatman['fecha'].dt.month.value_counts().head(1).to_frame('Cantidad de resoluciones con Batman').rename_axis(index='Mes')"
   ],
   "metadata": {
    "collapsed": false,
    "pycharm": {
     "name": "#%%\n"
    }
   }
  }
 ],
 "metadata": {
  "kernelspec": {
   "display_name": "Python 3",
   "language": "python",
   "name": "python3"
  },
  "language_info": {
   "codemirror_mode": {
    "name": "ipython",
    "version": 2
   },
   "file_extension": ".py",
   "mimetype": "text/x-python",
   "name": "python",
   "nbconvert_exporter": "python",
   "pygments_lexer": "ipython2",
   "version": "2.7.6"
  }
 },
 "nbformat": 4,
 "nbformat_minor": 0
}