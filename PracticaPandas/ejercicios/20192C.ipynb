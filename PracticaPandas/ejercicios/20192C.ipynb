{
 "cells": [
  {
   "cell_type": "markdown",
   "metadata": {
    "collapsed": true,
    "pycharm": {
     "name": "#%% md\n"
    }
   },
   "source": [
    "2) Una tienda departamental cuenta con el siguiente registro de ventas:\n",
    "Ventas: #transaccion, fecha, Código Producto, Cantidad, Precio unitario\n",
    "Productos: Código Producto, Descripcion, Categoria\n",
    "Se pide utilizar Pandas para:\n",
    "\n",
    "ACLARACION: en mi data frame la descripcion se llama titulo\n",
    "\n",
    "a) Calcular cuál fue el producto del cual se vendieron más unidades\n",
    "durante el año 2018, indicando Descripción y Cantidad total de producto\n",
    "vendido."
   ]
  },
  {
   "cell_type": "code",
   "execution_count": 2,
   "metadata": {
    "pycharm": {
     "name": "#%%\n"
    },
    "scrolled": true
   },
   "outputs": [
    {
     "data": {
      "text/plain": "   id_producto  cantidad     titulo\n0           14       531  cygnrleqb",
      "text/html": "<div>\n<style scoped>\n    .dataframe tbody tr th:only-of-type {\n        vertical-align: middle;\n    }\n\n    .dataframe tbody tr th {\n        vertical-align: top;\n    }\n\n    .dataframe thead th {\n        text-align: right;\n    }\n</style>\n<table border=\"1\" class=\"dataframe\">\n  <thead>\n    <tr style=\"text-align: right;\">\n      <th></th>\n      <th>id_producto</th>\n      <th>cantidad</th>\n      <th>titulo</th>\n    </tr>\n  </thead>\n  <tbody>\n    <tr>\n      <th>0</th>\n      <td>14</td>\n      <td>531</td>\n      <td>cygnrleqb</td>\n    </tr>\n  </tbody>\n</table>\n</div>"
     },
     "execution_count": 2,
     "metadata": {},
     "output_type": "execute_result"
    }
   ],
   "source": [
    "import pandas as pd\n",
    "\n",
    "salesDf = pd.read_csv('/home/marcos/PycharmProjects/PracticaPandas/ejercicios/ventas2.csv')\n",
    "productsDf = pd.read_csv('/home/marcos/PycharmProjects/PracticaPandas/ejercicios/productos.csv')\n",
    "\n",
    "salesDf['fecha'] = pd.to_datetime(salesDf['fecha'], errors='coerce', format='%Y-%m-%d')\n",
    "\n",
    "productSales = salesDf[salesDf['fecha'].dt.year == 2018].groupby(by='id_producto').agg({'cantidad':'sum'})\n",
    "productSales = productSales.nlargest(1, columns='cantidad', keep='all').merge(productsDf[['id_producto','titulo']],\n",
    "                                                          how='left', on='id_producto')\n",
    "productSales"
   ]
  },
  {
   "cell_type": "markdown",
   "metadata": {},
   "source": [
    "b) Obtener los tres productos menos vendidos de cada categoría, a fin de\n",
    "analizar cuales son los productos a ser discontinuados.\n",
    "(***) (20pts)"
   ]
  },
  {
   "cell_type": "code",
   "execution_count": 3,
   "metadata": {
    "pycharm": {
     "name": "#%%\n"
    }
   },
   "outputs": [
    {
     "data": {
      "text/plain": "categoria    titulo    \nComida       fwzwskhrg     1681\n             foxmdr        2257\n             ytkdyjc       2407\nCosmetico    rpbsfoedjj    1496\n             mgcegsgrpj    1775\n             uoaxhumnrr    2037\nSmartphone   qotsn         1437\n             ebtbt         1970\n             tpmvsh        1972\nVideojuegos  pybah         1891\n             mfpqplhg      1917\n             pglghcfxu     2092\nName: cantidad, dtype: int64"
     },
     "execution_count": 3,
     "metadata": {},
     "output_type": "execute_result"
    }
   ],
   "source": [
    "productSales = salesDf.groupby(by=['id_producto']).agg({'cantidad':'sum'}).reset_index()\n",
    "productSales = productSales[['id_producto', 'cantidad']].merge(productsDf[['id_producto', 'categoria', 'titulo']], how='inner', on='id_producto')\n",
    "productSales.set_index('titulo').groupby(['categoria'])['cantidad'].nsmallest(n=3, keep='all')"
   ]
  }
 ],
 "metadata": {
  "kernelspec": {
   "display_name": "Python 3",
   "language": "python",
   "name": "python3"
  },
  "language_info": {
   "codemirror_mode": {
    "name": "ipython",
    "version": 3
   },
   "file_extension": ".py",
   "mimetype": "text/x-python",
   "name": "python",
   "nbconvert_exporter": "python",
   "pygments_lexer": "ipython3",
   "version": "3.8.3"
  }
 },
 "nbformat": 4,
 "nbformat_minor": 1
}