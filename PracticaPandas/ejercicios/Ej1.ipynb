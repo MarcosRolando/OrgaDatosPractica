{
 "cells": [
  {
   "cell_type": "markdown",
   "metadata": {
    "collapsed": true,
    "pycharm": {
     "name": "#%% md\n"
    }
   },
   "source": [
    "EJ 1 Dado el registro de notas de los alumnos de la forma (padrón, materia,\n",
    "nota, fecha). Se pide resolver utilizando Pandas:\n",
    "\n",
    "a) Cuál es el promedio general de notas."
   ]
  },
  {
   "cell_type": "code",
   "execution_count": 1,
   "outputs": [
    {
     "name": "stdout",
     "output_type": "stream",
     "text": [
      "5.32258064516129\n"
     ]
    }
   ],
   "source": [
    "import pandas as pd\n",
    "\n",
    "df = pd.read_csv('/home/marcos/PycharmProjects/PracticaPandas/Ej1.csv')\n",
    "meanScore = df['Nota'].mean()\n",
    "print(meanScore)"
   ],
   "metadata": {
    "collapsed": false,
    "pycharm": {
     "name": "#%%\n"
    }
   }
  },
  {
   "cell_type": "markdown",
   "source": [
    "b) Cuál es la nota más alta y la nota más baja registrada durante el año 2019."
   ],
   "metadata": {
    "collapsed": false,
    "pycharm": {
     "name": "#%% md\n"
    }
   }
  },
  {
   "cell_type": "code",
   "execution_count": 2,
   "outputs": [],
   "source": [
    "df.loc[:, 'Fecha'] = pd.to_datetime(df['Fecha'], format='%d-%m-%Y', errors='coerce')\n",
    "scoresFrom2019 = df[df['Fecha'].dt.year == 2019].loc[:, 'Nota']"
   ],
   "metadata": {
    "collapsed": false,
    "pycharm": {
     "name": "#%%\n"
    }
   }
  },
  {
   "cell_type": "markdown",
   "source": [
    "La nota mas alta del 2019 fue"
   ],
   "metadata": {
    "collapsed": false,
    "pycharm": {
     "name": "#%% md\n"
    }
   }
  },
  {
   "cell_type": "code",
   "execution_count": 3,
   "outputs": [
    {
     "data": {
      "text/plain": "2"
     },
     "execution_count": 3,
     "metadata": {},
     "output_type": "execute_result"
    }
   ],
   "source": [
    "scoresFrom2019.min()"
   ],
   "metadata": {
    "collapsed": false,
    "pycharm": {
     "name": "#%%\n"
    }
   }
  },
  {
   "cell_type": "markdown",
   "source": [
    "La nota mas baja del 2019 fue"
   ],
   "metadata": {
    "collapsed": false
   }
  },
  {
   "cell_type": "code",
   "execution_count": 4,
   "outputs": [
    {
     "data": {
      "text/plain": "8"
     },
     "execution_count": 4,
     "metadata": {},
     "output_type": "execute_result"
    }
   ],
   "source": [
    "scoresFrom2019.max()"
   ],
   "metadata": {
    "collapsed": false,
    "pycharm": {
     "name": "#%%\n"
    }
   }
  },
  {
   "cell_type": "markdown",
   "source": [
    "c) Cuál es el padrón con mayor cantidad de materias aprobadas durante el\n",
    "último cuatrimestre.\n",
    "\n",
    "Asumo que las notas de las materias simbolizan la nota con la que cerro la materia\n",
    "por lo tanto no deberia haber materias repetidas para un mismo padron. Tambien asumo\n",
    "que el ultimo cuatri es el primero del 2019 porque tremenda paja calcular el cuatri en base\n",
    "a la fecha generica actual."
   ],
   "metadata": {
    "collapsed": false,
    "pycharm": {
     "name": "#%% md\n"
    }
   }
  },
  {
   "cell_type": "code",
   "execution_count": 5,
   "outputs": [
    {
     "data": {
      "text/plain": "0    100837\ndtype: int64"
     },
     "execution_count": 5,
     "metadata": {},
     "output_type": "execute_result"
    }
   ],
   "source": [
    "scoresFromPassedExams = df[(df['Fecha'] >= '1-1-2019') & (df['Nota'] >= 4)] #me quedo con los datos de materias aprobadas\n",
    "scoresFromPassedExams['Padron'].mode()"
   ],
   "metadata": {
    "collapsed": false,
    "pycharm": {
     "name": "#%%\n"
    }
   }
  },
  {
   "cell_type": "markdown",
   "source": [
    "d) Cuál es la nota promedio por materia."
   ],
   "metadata": {
    "collapsed": false,
    "pycharm": {
     "name": "#%% md\n"
    }
   }
  },
  {
   "cell_type": "code",
   "execution_count": 6,
   "outputs": [
    {
     "data": {
      "text/plain": "               Nota\nMateria            \nMateria 1  4.400000\nMateria 2  6.400000\nMateria 3  5.125000\nMateria 4  5.500000\nMateria 5  5.285714",
      "text/html": "<div>\n<style scoped>\n    .dataframe tbody tr th:only-of-type {\n        vertical-align: middle;\n    }\n\n    .dataframe tbody tr th {\n        vertical-align: top;\n    }\n\n    .dataframe thead th {\n        text-align: right;\n    }\n</style>\n<table border=\"1\" class=\"dataframe\">\n  <thead>\n    <tr style=\"text-align: right;\">\n      <th></th>\n      <th>Nota</th>\n    </tr>\n    <tr>\n      <th>Materia</th>\n      <th></th>\n    </tr>\n  </thead>\n  <tbody>\n    <tr>\n      <th>Materia 1</th>\n      <td>4.400000</td>\n    </tr>\n    <tr>\n      <th>Materia 2</th>\n      <td>6.400000</td>\n    </tr>\n    <tr>\n      <th>Materia 3</th>\n      <td>5.125000</td>\n    </tr>\n    <tr>\n      <th>Materia 4</th>\n      <td>5.500000</td>\n    </tr>\n    <tr>\n      <th>Materia 5</th>\n      <td>5.285714</td>\n    </tr>\n  </tbody>\n</table>\n</div>"
     },
     "execution_count": 6,
     "metadata": {},
     "output_type": "execute_result"
    }
   ],
   "source": [
    "meanScorePerSubject = df.loc[:, ['Materia', 'Nota']].groupby(by='Materia').agg(func='mean')\n",
    "meanScorePerSubject"
   ],
   "metadata": {
    "collapsed": false,
    "pycharm": {
     "name": "#%%\n"
    }
   }
  },
  {
   "cell_type": "markdown",
   "source": [
    "e) Cuál es la nota promedio por padrón."
   ],
   "metadata": {
    "collapsed": false
   }
  },
  {
   "cell_type": "code",
   "execution_count": 7,
   "outputs": [
    {
     "data": {
      "text/plain": "        Nota\nPadron      \n100039     4\n100837     7\n100851     4\n101001     3\n101006     4\n101190     7\n101340     9\n102144     8\n102369     2\n102479     2\n103358     7\n103409     7\n103528     3\n104121     2\n104244     7\n104736     5\n104831     2\n104937     9\n105089     7\n105474     5\n105603     6\n105860     3\n105891     6\n106022     9\n106903     2\n107093     8\n107271     7\n107839     3\n107897     6\n108628     4",
      "text/html": "<div>\n<style scoped>\n    .dataframe tbody tr th:only-of-type {\n        vertical-align: middle;\n    }\n\n    .dataframe tbody tr th {\n        vertical-align: top;\n    }\n\n    .dataframe thead th {\n        text-align: right;\n    }\n</style>\n<table border=\"1\" class=\"dataframe\">\n  <thead>\n    <tr style=\"text-align: right;\">\n      <th></th>\n      <th>Nota</th>\n    </tr>\n    <tr>\n      <th>Padron</th>\n      <th></th>\n    </tr>\n  </thead>\n  <tbody>\n    <tr>\n      <th>100039</th>\n      <td>4</td>\n    </tr>\n    <tr>\n      <th>100837</th>\n      <td>7</td>\n    </tr>\n    <tr>\n      <th>100851</th>\n      <td>4</td>\n    </tr>\n    <tr>\n      <th>101001</th>\n      <td>3</td>\n    </tr>\n    <tr>\n      <th>101006</th>\n      <td>4</td>\n    </tr>\n    <tr>\n      <th>101190</th>\n      <td>7</td>\n    </tr>\n    <tr>\n      <th>101340</th>\n      <td>9</td>\n    </tr>\n    <tr>\n      <th>102144</th>\n      <td>8</td>\n    </tr>\n    <tr>\n      <th>102369</th>\n      <td>2</td>\n    </tr>\n    <tr>\n      <th>102479</th>\n      <td>2</td>\n    </tr>\n    <tr>\n      <th>103358</th>\n      <td>7</td>\n    </tr>\n    <tr>\n      <th>103409</th>\n      <td>7</td>\n    </tr>\n    <tr>\n      <th>103528</th>\n      <td>3</td>\n    </tr>\n    <tr>\n      <th>104121</th>\n      <td>2</td>\n    </tr>\n    <tr>\n      <th>104244</th>\n      <td>7</td>\n    </tr>\n    <tr>\n      <th>104736</th>\n      <td>5</td>\n    </tr>\n    <tr>\n      <th>104831</th>\n      <td>2</td>\n    </tr>\n    <tr>\n      <th>104937</th>\n      <td>9</td>\n    </tr>\n    <tr>\n      <th>105089</th>\n      <td>7</td>\n    </tr>\n    <tr>\n      <th>105474</th>\n      <td>5</td>\n    </tr>\n    <tr>\n      <th>105603</th>\n      <td>6</td>\n    </tr>\n    <tr>\n      <th>105860</th>\n      <td>3</td>\n    </tr>\n    <tr>\n      <th>105891</th>\n      <td>6</td>\n    </tr>\n    <tr>\n      <th>106022</th>\n      <td>9</td>\n    </tr>\n    <tr>\n      <th>106903</th>\n      <td>2</td>\n    </tr>\n    <tr>\n      <th>107093</th>\n      <td>8</td>\n    </tr>\n    <tr>\n      <th>107271</th>\n      <td>7</td>\n    </tr>\n    <tr>\n      <th>107839</th>\n      <td>3</td>\n    </tr>\n    <tr>\n      <th>107897</th>\n      <td>6</td>\n    </tr>\n    <tr>\n      <th>108628</th>\n      <td>4</td>\n    </tr>\n  </tbody>\n</table>\n</div>"
     },
     "execution_count": 7,
     "metadata": {},
     "output_type": "execute_result"
    }
   ],
   "source": [
    "meanScorePerStudent = df.loc[:, ['Padron', 'Nota']].groupby(by='Padron').agg(func='mean')\n",
    "meanScorePerStudent"
   ],
   "metadata": {
    "collapsed": false,
    "pycharm": {
     "name": "#%%\n"
    }
   }
  }
 ],
 "metadata": {
  "kernelspec": {
   "display_name": "Python 3",
   "language": "python",
   "name": "python3"
  },
  "language_info": {
   "codemirror_mode": {
    "name": "ipython",
    "version": 2
   },
   "file_extension": ".py",
   "mimetype": "text/x-python",
   "name": "python",
   "nbconvert_exporter": "python",
   "pygments_lexer": "ipython2",
   "version": "2.7.6"
  }
 },
 "nbformat": 4,
 "nbformat_minor": 0
}