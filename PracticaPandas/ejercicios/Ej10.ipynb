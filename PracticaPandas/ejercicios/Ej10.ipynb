{
 "cells": [
  {
   "cell_type": "markdown",
   "metadata": {
    "collapsed": true,
    "pycharm": {
     "name": "#%% md\n"
    }
   },
   "source": [
    "\n",
    "10) Se tiene información diaria de la cotización de acciones en el NYSE en el\n",
    "archivo nyse_daily.csv en el siguiente formato (symbol, date, open, measure_midday,\n",
    "measure_afternoon, close, volume). Por cada acción cuyo nombre está indicado en el\n",
    "campo symbol, tendremos una entrada por fecha con los valores open, measure_midday,\n",
    "measure_afternoon, y close indicando respectivamente a qué valor abrio la acción,\n",
    "cuál fue el valor que tuvo al mediodía, cual fue su valor que tuvo por la tarde y\n",
    "cual fue su valor al cierre del mercado. Asimismo en volume se indica el volumen\n",
    "operado ese día para esa acción.\n",
    "\n",
    "Por otro lado se cuenta con el archivo s&p500.csv de formato (symbol, company_name)\n",
    "que indica aquellas acciones que deben ser consideradas para calcular el índice\n",
    "Standard & Poor’s 500 (S&P 500).\n",
    "\n",
    "Se pide calcular el valor diario del índice S&P 500, teniendo en cuenta que el\n",
    "mismo se calcula como el promedio del valor promedio de las mediciones que tuvo\n",
    "cada acción ese día (open, measure_midday, measure_afternoon, close), para las\n",
    "500 acciones que se encuentran en el archivo s&p500.csv.\n",
    "\n",
    "El resultado debe estar en un dataframe de la forma (date, index_name, value).\n",
    "Por ejemplo, una entrada del mismo sería (‘2019-03-24’, ‘SP500’, ‘35.46’).\n",
    "\n",
    "Nota: A los efectos prácticos del ejercicio consideraremos como estadísticamente\n",
    "significativo calcular el promedio con esas pocas mediciones."
   ]
  },
  {
   "cell_type": "code",
   "execution_count": 95,
   "outputs": [
    {
     "data": {
      "text/plain": "           index_name        value\ndate                              \n2019-12-31      SP500  3223.500000\n2020-01-01      SP500  5093.125000\n2020-01-02      SP500  5182.166667\n2020-01-03      SP500  5352.500000\n2020-01-04      SP500  4450.250000\n...               ...          ...\n2020-12-26      SP500  5524.750000\n2020-12-27      SP500  3910.750000\n2020-12-28      SP500  4889.500000\n2020-12-29      SP500  6904.750000\n2020-12-30      SP500  4969.000000\n\n[274 rows x 2 columns]",
      "text/html": "<div>\n<style scoped>\n    .dataframe tbody tr th:only-of-type {\n        vertical-align: middle;\n    }\n\n    .dataframe tbody tr th {\n        vertical-align: top;\n    }\n\n    .dataframe thead th {\n        text-align: right;\n    }\n</style>\n<table border=\"1\" class=\"dataframe\">\n  <thead>\n    <tr style=\"text-align: right;\">\n      <th></th>\n      <th>index_name</th>\n      <th>value</th>\n    </tr>\n    <tr>\n      <th>date</th>\n      <th></th>\n      <th></th>\n    </tr>\n  </thead>\n  <tbody>\n    <tr>\n      <th>2019-12-31</th>\n      <td>SP500</td>\n      <td>3223.500000</td>\n    </tr>\n    <tr>\n      <th>2020-01-01</th>\n      <td>SP500</td>\n      <td>5093.125000</td>\n    </tr>\n    <tr>\n      <th>2020-01-02</th>\n      <td>SP500</td>\n      <td>5182.166667</td>\n    </tr>\n    <tr>\n      <th>2020-01-03</th>\n      <td>SP500</td>\n      <td>5352.500000</td>\n    </tr>\n    <tr>\n      <th>2020-01-04</th>\n      <td>SP500</td>\n      <td>4450.250000</td>\n    </tr>\n    <tr>\n      <th>...</th>\n      <td>...</td>\n      <td>...</td>\n    </tr>\n    <tr>\n      <th>2020-12-26</th>\n      <td>SP500</td>\n      <td>5524.750000</td>\n    </tr>\n    <tr>\n      <th>2020-12-27</th>\n      <td>SP500</td>\n      <td>3910.750000</td>\n    </tr>\n    <tr>\n      <th>2020-12-28</th>\n      <td>SP500</td>\n      <td>4889.500000</td>\n    </tr>\n    <tr>\n      <th>2020-12-29</th>\n      <td>SP500</td>\n      <td>6904.750000</td>\n    </tr>\n    <tr>\n      <th>2020-12-30</th>\n      <td>SP500</td>\n      <td>4969.000000</td>\n    </tr>\n  </tbody>\n</table>\n<p>274 rows × 2 columns</p>\n</div>"
     },
     "execution_count": 95,
     "metadata": {},
     "output_type": "execute_result"
    }
   ],
   "source": [
    "import pandas as pd\n",
    "\n",
    "actionsDf = pd.read_csv('/home/marcos/PycharmProjects/PracticaPandas/nyse_daily.csv')\n",
    "companiesDf = pd.read_csv('/home/marcos/PycharmProjects/PracticaPandas/s&p500.csv')\n",
    "\n",
    "validActions = actionsDf.merge(companiesDf['symbol'], how='inner', on='symbol')\n",
    "validActions['MeanPriceValue'] = (validActions['open'] + validActions['measure_midday']\n",
    "                                    + validActions['measure_afternoon'] + validActions['close']) / 4\n",
    "validActions.drop(columns=['open', 'measure_midday', 'measure_afternoon', 'close'], inplace=True)\n",
    "results = validActions.groupby('date').agg({'MeanPriceValue':'mean'})\n",
    "results.insert(0, 'index_name', 'SP500')\n",
    "results.rename(columns={'MeanPriceValue':'value'})"
   ],
   "metadata": {
    "collapsed": false,
    "pycharm": {
     "name": "#%%\n"
    }
   }
  }
 ],
 "metadata": {
  "kernelspec": {
   "display_name": "Python 3",
   "language": "python",
   "name": "python3"
  },
  "language_info": {
   "codemirror_mode": {
    "name": "ipython",
    "version": 2
   },
   "file_extension": ".py",
   "mimetype": "text/x-python",
   "name": "python",
   "nbconvert_exporter": "python",
   "pygments_lexer": "ipython2",
   "version": "2.7.6"
  }
 },
 "nbformat": 4,
 "nbformat_minor": 0
}