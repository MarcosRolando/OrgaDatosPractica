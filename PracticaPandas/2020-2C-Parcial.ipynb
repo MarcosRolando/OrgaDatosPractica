{
 "cells": [
  {
   "cell_type": "markdown",
   "metadata": {
    "collapsed": true,
    "pycharm": {
     "name": "#%% md\n"
    }
   },
   "source": [
    "Una importante compañía de e-commerce acumula información de las interacciones de sus usuarios\n",
    "con su plataforma mediante un motor de analytics. Esta información está disponible en un data frame\n",
    "para que sea analizada por nuestro equipo.\n",
    "\n",
    "El data frame llamado `events.csv` posee las siguientes columnas:\n",
    "\n",
    "- uid: identificador único que representa a un usuario que visita la\n",
    "plataforma.\n",
    "- sessionid: identificador único de la sesión que generó el usuario.\n",
    "- event: nombre del evento que se generó.\n",
    "- value: información adicional que se guarda con el evento.\n",
    "- datetime: timedate64 que contiene fecha y hora del evento.\n",
    "\n",
    "Para poder realizar un análisis es necesario tener las siguientes consideraciones:\n",
    "\n",
    "● Cada vez que un usuario visita la plataforma, el sistema le genera una nueva sesión con un\n",
    "`sessionid` asociado. Esto implica que un usuario puede realizar múltiples sesiones.\n",
    "\n",
    "● Los eventos son interacciones que realiza el usuario con el sistema. Una sesión está compuesta\n",
    "por al menos un evento.\n",
    "\n",
    "Se le pide a nuestro equipo las siguientes tareas utilizando pandas:\n",
    "\n",
    "a) Listar aquellos usuarios que tengan un total de sesiones mayor al promedio de sesiones por usuario\n",
    "del sistema. Ej: si el promedio de los usuarios cuenta con 20 sesiones, se debe listar los usuarios que\n",
    "tengan más de 20 sesiones asociadas."
   ]
  },
  {
   "cell_type": "code",
   "execution_count": 1,
   "metadata": {
    "pycharm": {
     "name": "#%%\n"
    }
   },
   "outputs": [
    {
     "data": {
      "text/plain": "     sessions_amount\nuid                 \n1                 28\n4                 27\n5                 27\n7                 33\n8                 30\n11                29\n12                28\n13                28\n16                32",
      "text/html": "<div>\n<style scoped>\n    .dataframe tbody tr th:only-of-type {\n        vertical-align: middle;\n    }\n\n    .dataframe tbody tr th {\n        vertical-align: top;\n    }\n\n    .dataframe thead th {\n        text-align: right;\n    }\n</style>\n<table border=\"1\" class=\"dataframe\">\n  <thead>\n    <tr style=\"text-align: right;\">\n      <th></th>\n      <th>sessions_amount</th>\n    </tr>\n    <tr>\n      <th>uid</th>\n      <th></th>\n    </tr>\n  </thead>\n  <tbody>\n    <tr>\n      <th>1</th>\n      <td>28</td>\n    </tr>\n    <tr>\n      <th>4</th>\n      <td>27</td>\n    </tr>\n    <tr>\n      <th>5</th>\n      <td>27</td>\n    </tr>\n    <tr>\n      <th>7</th>\n      <td>33</td>\n    </tr>\n    <tr>\n      <th>8</th>\n      <td>30</td>\n    </tr>\n    <tr>\n      <th>11</th>\n      <td>29</td>\n    </tr>\n    <tr>\n      <th>12</th>\n      <td>28</td>\n    </tr>\n    <tr>\n      <th>13</th>\n      <td>28</td>\n    </tr>\n    <tr>\n      <th>16</th>\n      <td>32</td>\n    </tr>\n  </tbody>\n</table>\n</div>"
     },
     "execution_count": 1,
     "metadata": {},
     "output_type": "execute_result"
    }
   ],
   "source": [
    "import pandas as pd\n",
    "\n",
    "eventsDf = pd.read_csv('/home/marcos/PycharmProjects/PracticaPandas/events.csv')\n",
    "eventsDf.drop(columns='datetime', inplace=True)\n",
    "\n",
    "sessionsPerUser = eventsDf.groupby(by='uid').agg({'sessionid':lambda x: x.drop_duplicates().count()})\n",
    "meanSessionsPerUser = sessionsPerUser['sessionid'].mean()\n",
    "aboveMeanUsers = sessionsPerUser[sessionsPerUser['sessionid'] > meanSessionsPerUser]\n",
    "aboveMeanUsers.columns = ['sessions_amount']\n",
    "aboveMeanUsers"
   ]
  },
  {
   "cell_type": "markdown",
   "metadata": {},
   "source": [
    "b) Calcular el valor promedio de los eventos 'ecommerce.view-product',\n",
    "'ecommerce.checkout', 'ecommerce.conversion' para aquellos usuarios que hayan realizado\n",
    "más de 25 sesiones. Los resultados deben ser presentados en un dataframe con las siguientes\n",
    "columnas ('uid','ecommerce_view_product_mean', 'ecommerce_checkout_mean',\n",
    "'ecommerce_conversion_mean').\n",
    "\n",
    "Nota: Es posible realizar el cálculo de los promedios en una única operación sobre\n",
    "un dataframe, por lo que soluciones que realizan el cálculo del promedio de cada\n",
    "métrica por separado serán consideradas como menos eficientes."
   ]
  },
  {
   "cell_type": "code",
   "execution_count": 2,
   "metadata": {
    "pycharm": {
     "name": "#%%\n"
    }
   },
   "outputs": [
    {
     "data": {
      "text/plain": "    uid  ecommerce_view_product_mean  ecommerce_checkout_mean  \\\n0     1                    44.125000                37.555556   \n1     3                    39.250000                56.333333   \n2     4                    36.500000                39.625000   \n3     5                    42.333333                63.000000   \n4     7                    52.666667                57.444444   \n5     8                    54.166667                46.888889   \n6     9                    47.727273                55.000000   \n7    11                    57.571429                64.375000   \n8    12                    41.071429                56.250000   \n9    13                    51.750000                64.833333   \n10   14                    56.272727                63.200000   \n11   16                    43.000000                39.000000   \n12   17                    43.083333                44.375000   \n\n    ecommerce_conversion_mean  \n0                   36.333333  \n1                   40.750000  \n2                   60.444444  \n3                   31.800000  \n4                   53.666667  \n5                   41.428571  \n6                   48.000000  \n7                   67.000000  \n8                   41.300000  \n9                   36.727273  \n10                  48.500000  \n11                  50.428571  \n12                  61.818182  ",
      "text/html": "<div>\n<style scoped>\n    .dataframe tbody tr th:only-of-type {\n        vertical-align: middle;\n    }\n\n    .dataframe tbody tr th {\n        vertical-align: top;\n    }\n\n    .dataframe thead th {\n        text-align: right;\n    }\n</style>\n<table border=\"1\" class=\"dataframe\">\n  <thead>\n    <tr style=\"text-align: right;\">\n      <th></th>\n      <th>uid</th>\n      <th>ecommerce_view_product_mean</th>\n      <th>ecommerce_checkout_mean</th>\n      <th>ecommerce_conversion_mean</th>\n    </tr>\n  </thead>\n  <tbody>\n    <tr>\n      <th>0</th>\n      <td>1</td>\n      <td>44.125000</td>\n      <td>37.555556</td>\n      <td>36.333333</td>\n    </tr>\n    <tr>\n      <th>1</th>\n      <td>3</td>\n      <td>39.250000</td>\n      <td>56.333333</td>\n      <td>40.750000</td>\n    </tr>\n    <tr>\n      <th>2</th>\n      <td>4</td>\n      <td>36.500000</td>\n      <td>39.625000</td>\n      <td>60.444444</td>\n    </tr>\n    <tr>\n      <th>3</th>\n      <td>5</td>\n      <td>42.333333</td>\n      <td>63.000000</td>\n      <td>31.800000</td>\n    </tr>\n    <tr>\n      <th>4</th>\n      <td>7</td>\n      <td>52.666667</td>\n      <td>57.444444</td>\n      <td>53.666667</td>\n    </tr>\n    <tr>\n      <th>5</th>\n      <td>8</td>\n      <td>54.166667</td>\n      <td>46.888889</td>\n      <td>41.428571</td>\n    </tr>\n    <tr>\n      <th>6</th>\n      <td>9</td>\n      <td>47.727273</td>\n      <td>55.000000</td>\n      <td>48.000000</td>\n    </tr>\n    <tr>\n      <th>7</th>\n      <td>11</td>\n      <td>57.571429</td>\n      <td>64.375000</td>\n      <td>67.000000</td>\n    </tr>\n    <tr>\n      <th>8</th>\n      <td>12</td>\n      <td>41.071429</td>\n      <td>56.250000</td>\n      <td>41.300000</td>\n    </tr>\n    <tr>\n      <th>9</th>\n      <td>13</td>\n      <td>51.750000</td>\n      <td>64.833333</td>\n      <td>36.727273</td>\n    </tr>\n    <tr>\n      <th>10</th>\n      <td>14</td>\n      <td>56.272727</td>\n      <td>63.200000</td>\n      <td>48.500000</td>\n    </tr>\n    <tr>\n      <th>11</th>\n      <td>16</td>\n      <td>43.000000</td>\n      <td>39.000000</td>\n      <td>50.428571</td>\n    </tr>\n    <tr>\n      <th>12</th>\n      <td>17</td>\n      <td>43.083333</td>\n      <td>44.375000</td>\n      <td>61.818182</td>\n    </tr>\n  </tbody>\n</table>\n</div>"
     },
     "execution_count": 2,
     "metadata": {},
     "output_type": "execute_result"
    }
   ],
   "source": [
    "sessionsPerUser.reset_index(inplace=True)\n",
    "sessionsPerUser = sessionsPerUser[sessionsPerUser['sessionid'] > 25]\n",
    "desiredEvents = ['ecommerce.view-product', 'ecommerce.checkout', 'ecommerce.conversion']\n",
    "usersData = eventsDf[eventsDf['event'].isin(desiredEvents)]\n",
    "usersData = usersData.merge(sessionsPerUser['uid'], how='inner', on='uid').drop(columns='sessionid')\n",
    "usersData = usersData.pivot_table(index='uid', columns='event', values='value', aggfunc='mean').reset_index()\n",
    "usersData.rename_axis(columns=None)\n",
    "usersData.reindex(columns=['uid', 'ecommerce.view-product', 'ecommerce.checkout', 'ecommerce.conversion'])\n",
    "usersData.columns = ['uid', 'ecommerce_view_product_mean', 'ecommerce_checkout_mean', 'ecommerce_conversion_mean']\n",
    "usersData"
   ]
  }
 ],
 "metadata": {
  "kernelspec": {
   "display_name": "Python 3",
   "language": "python",
   "name": "python3"
  },
  "language_info": {
   "codemirror_mode": {
    "name": "ipython",
    "version": 3
   },
   "file_extension": ".py",
   "mimetype": "text/x-python",
   "name": "python",
   "nbconvert_exporter": "python",
   "pygments_lexer": "ipython3",
   "version": "3.8.3"
  }
 },
 "nbformat": 4,
 "nbformat_minor": 1
}